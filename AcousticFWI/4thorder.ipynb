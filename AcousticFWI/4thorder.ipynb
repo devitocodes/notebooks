{
 "cells": [
  {
   "cell_type": "code",
   "execution_count": 1,
   "metadata": {
    "collapsed": true
   },
   "outputs": [],
   "source": [
    "from sympy import *\n",
    "from sympy.abc import *\n",
    "from sympy.galgebra.ga import *\n",
    "import numpy as np\n",
    "from numpy import linalg as LA\n",
    "from __future__ import print_function\n",
    "init_printing()"
   ]
  },
  {
   "cell_type": "markdown",
   "metadata": {},
   "source": [
    "## PDE \n",
    "The acoustic wave equation for the square slowness m and a source q is given in 3D by :\n",
    "\n",
    "\\begin{cases} \n",
    " &mm  \\frac{d^2 u(x,t)}{dt^2} - \\nabla^2 u(x,t) =q  \\\\\n",
    " &u(.,0) = 0 \\\\\n",
    " &\\frac{d u(x,t)}{dt}|_{t=0} = 0 \n",
    "\\end{cases}\n",
    "\n",
    "with the zero initial conditons to guaranty unicity of the solution"
   ]
  },
  {
   "cell_type": "markdown",
   "metadata": {},
   "source": [
    "# 4th order discretizaition\n",
    "\n",
    "We have \n",
    "\n",
    "$ \\frac{d^2 u(x,t)}{dt^2} \\simeq \\frac{u(x,t+dt) - 2 u(x,t) + u(x,t-dt)}{dt^2} - \\frac{dt^2}{12}\\frac{d^4u}{dt^4}+O(dt^4) $\n",
    "\n",
    "and by differentiating the PDE we have \n",
    "\n",
    "$ m \\frac{d^4u}{dt^4} = \\nabla^2 \\frac{d^2 u(x,t)}{dt^2} + \\frac{d^2 q}{dt^2}$\n",
    "\n",
    "and finally by replacing the discrete forms in the original pde we have\n",
    "\n",
    "$ m \\frac{u(x,t+dt) - 2 u(x,t) + u(x,t-dt)}{dt^2} = \\nabla^2u(x,t) + q(t) + \\frac{dt^2}{12} \\left(m^{-1} \\nabla^2 (\\nabla^2 u(x,t) + q(t) ) +  \\frac{d^2 q}{dt^2} \\right)$"
   ]
  },
  {
   "cell_type": "code",
   "execution_count": null,
   "metadata": {
    "collapsed": true
   },
   "outputs": [],
   "source": []
  }
 ],
 "metadata": {
  "kernelspec": {
   "display_name": "Python 3",
   "language": "python",
   "name": "python3"
  },
  "language_info": {
   "codemirror_mode": {
    "name": "ipython",
    "version": 3
   },
   "file_extension": ".py",
   "mimetype": "text/x-python",
   "name": "python",
   "nbconvert_exporter": "python",
   "pygments_lexer": "ipython3",
   "version": "3.5.1"
  }
 },
 "nbformat": 4,
 "nbformat_minor": 0
}

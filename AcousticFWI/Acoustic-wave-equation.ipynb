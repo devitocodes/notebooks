{
 "cells": [
  {
   "cell_type": "code",
   "execution_count": 1,
   "metadata": {
    "collapsed": false
   },
   "outputs": [],
   "source": [
    "from sympy import *\n",
    "from sympy.abc import *\n",
    "from sympy.galgebra.ga import *\n",
    "import numpy as np\n",
    "from numpy import linalg as LA\n",
    "from __future__ import print_function\n",
    "from sympy.utilities.autowrap import binary_function\n",
    "init_printing()"
   ]
  },
  {
   "cell_type": "markdown",
   "metadata": {
    "collapsed": false
   },
   "source": [
    "## PDE \n",
    "The acoustic wave equation for the square slowness m and a source q is given in 3D by :\n",
    "\n",
    "\\begin{cases} \n",
    " &m \\frac{d^2 u(x,t)}{dt^2} - \\nabla^2 u(x,t) =q  \\\\\n",
    " &u(.,0) = 0 \\\\\n",
    " &\\frac{d u(x,t)}{dt}|_{t=0} = 0 \n",
    "\\end{cases}\n",
    "\n",
    "with the zero initial conditons to guaranty unicity of the solution"
   ]
  },
  {
   "cell_type": "code",
   "execution_count": 2,
   "metadata": {
    "collapsed": false
   },
   "outputs": [],
   "source": [
    "p=Function('p')\n",
    "m,s,h = symbols('m s h')\n",
    "m=M(x,y)\n",
    "q=Q(x,y,t)\n",
    "tb, tf, xb, xf, yb, yf, c, m_var, q_var = symbols('tb tf xb xf yb yf c mv qv')"
   ]
  },
  {
   "cell_type": "markdown",
   "metadata": {
    "collapsed": false
   },
   "source": [
    "### Time and space  discretization as a Taylor expansion.\n",
    "\n",
    "The time discretization is define as a second order ( $ O (dt^2)) $) centered finite difference to get an explicit Euler scheme easy to solve by steping in time. \n",
    "\n",
    "$ \\frac{d^2 u(x,t)}{dt^2} \\simeq \\frac{u(x,t+dt) - 2 u(x,t) + u(x,t-dt)}{dt^2} + O(dt^2) $\n",
    "\n",
    "And we define the space discretization also as a Taylor serie, with oder chosen by the user. This can either be a direct expansion of the second derivative bulding the laplacian, or a combination of first oder space derivative. The second option can be a better choice in case you would want to extand the method to more complex wave equations involving first order derivatives in chain only.\n",
    "\n",
    "$ \\frac{d^2 u(x,t)}{dt^2} \\simeq \\frac{1}{dx^2} \\sum_k \\alpha_k (u(x+k dx,t)+u(x-k dx,t)) + O(dx^k) $"
   ]
  },
  {
   "cell_type": "code",
   "execution_count": 3,
   "metadata": {
    "collapsed": false
   },
   "outputs": [
    {
     "data": {
      "image/png": "[encoded data removed]",
      "text/latex": [
       "$$\\left ( - \\frac{2}{s^{2}} p{\\left (x,y,t \\right )} + \\frac{1}{s^{2}} p{\\left (x,y,- s + t \\right )} + \\frac{1}{s^{2}} p{\\left (x,y,s + t \\right )}, \\quad - \\frac{2}{h^{2}} p{\\left (x,y,t \\right )} + \\frac{1}{h^{2}} p{\\left (- h + x,y,t \\right )} + \\frac{1}{h^{2}} p{\\left (h + x,y,t \\right )}, \\quad - \\frac{2}{h^{2}} p{\\left (x,y,t \\right )} + \\frac{1}{h^{2}} p{\\left (x,- h + y,t \\right )} + \\frac{1}{h^{2}} p{\\left (x,h + y,t \\right )}\\right )$$"
      ],
      "text/plain": [
       "⎛  2⋅p(x, y, t)   p(x, y, -s + t)   p(x, y, s + t)    2⋅p(x, y, t)   p(-h + x,\n",
       "⎜- ──────────── + ─────────────── + ──────────────, - ──────────── + ─────────\n",
       "⎜        2                2                2                2                2\n",
       "⎝       s                s                s                h                h \n",
       "\n",
       " y, t)   p(h + x, y, t)    2⋅p(x, y, t)   p(x, -h + y, t)   p(x, h + y, t)⎞\n",
       "────── + ──────────────, - ──────────── + ─────────────── + ──────────────⎟\n",
       "                2                2                2                2      ⎟\n",
       "               h                h                h                h       ⎠"
      ]
     },
     "execution_count": 3,
     "metadata": {},
     "output_type": "execute_result"
    }
   ],
   "source": [
    "dtt=as_finite_diff(p(x,y,t).diff(t,t), [t-s,t, t+s])\n",
    "# Spacial finite differences can easily be extended to higher order by increasing the list of sampling point in the next expression. \n",
    "# Be sure to keep this stencil symmetric and everything else in the notebook will follow.\n",
    "dxx=as_finite_diff(p(x,y,t).diff(x,x), [x-h,x, x+h]) \n",
    "dyy=as_finite_diff(p(x,y,t).diff(y,y), [y-h,y, y+h])\n",
    "dtt,dxx,dyy"
   ]
  },
  {
   "cell_type": "markdown",
   "metadata": {
    "collapsed": true
   },
   "source": [
    "### Solve forward in time \n",
    "\n",
    "The wave equation is then solved forward in time by \n",
    "\n",
    "\\begin{align}\n",
    " \\color{red}{\\text{ For  }} &\\text{ t = 0 to T  } \\\\\n",
    "  &u(x,t+dt)  = 2 u(x,t) - u(x,t-dt) + \\frac{dt^2}{m} (\\Delta u(x,t) + q(x,t)) \\\\\n",
    "  \\color{red}{\\text{ end  }}\n",
    "\\end{align}"
   ]
  },
  {
   "cell_type": "code",
   "execution_count": 4,
   "metadata": {
    "collapsed": false,
    "scrolled": true
   },
   "outputs": [
    {
     "data": {
      "image/png": "[encoded data removed]",
      "text/latex": [
       "$$- \\frac{1}{M{\\left (x,y \\right )}} \\left(- \\frac{4}{h^{2}} p{\\left (x,y,t \\right )} + \\frac{1}{h^{2}} p{\\left (x,- h + y,t \\right )} + \\frac{1}{h^{2}} p{\\left (x,h + y,t \\right )} + \\frac{1}{h^{2}} p{\\left (- h + x,y,t \\right )} + \\frac{1}{h^{2}} p{\\left (h + x,y,t \\right )}\\right) - Q{\\left (x,y,t \\right )} - \\frac{2}{s^{2}} p{\\left (x,y,t \\right )} + \\frac{1}{s^{2}} p{\\left (x,y,- s + t \\right )} + \\frac{1}{s^{2}} p{\\left (x,y,s + t \\right )}$$"
      ],
      "text/plain": [
       "    4⋅p(x, y, t)   p(x, -h + y, t)   p(x, h + y, t)   p(-h + x, y, t)   p(h + \n",
       "  - ──────────── + ─────────────── + ────────────── + ─────────────── + ──────\n",
       "          2                2                2                 2               \n",
       "         h                h                h                 h                \n",
       "- ────────────────────────────────────────────────────────────────────────────\n",
       "                                        M(x, y)                               \n",
       "                                                                              \n",
       "\n",
       "x, y, t)                                                               \n",
       "────────                                                               \n",
       " 2                                                                     \n",
       "h                       2⋅p(x, y, t)   p(x, y, -s + t)   p(x, y, s + t)\n",
       "──────── - Q(x, y, t) - ──────────── + ─────────────── + ──────────────\n",
       "                              2                2                2      \n",
       "                             s                s                s       "
      ]
     },
     "execution_count": 4,
     "metadata": {},
     "output_type": "execute_result"
    }
   ],
   "source": [
    "wave_equation = dtt- 1/m*(dxx+dyy) - q\n",
    "wave_equation"
   ]
  },
  {
   "cell_type": "code",
   "execution_count": 6,
   "metadata": {
    "collapsed": false
   },
   "outputs": [],
   "source": [
    "stencil = solve(wave_equation,p(x,y,t+s))[0]\n",
    "stencil\n",
    "stencil = stencil.subs({p(x,y,t-s):tb, p(x-h,y,t):xb, p(x,y,t):c, p(x+h,y,t):xf, p(x,y-h,t): yb, p(x,y+h,t): yf, m:m_var, q:q_var})\n",
    "compiled_stencil = binary_function('compiled_stencil', stencil.expand(), backend='Cython', args=[tb, xb, c, xf, yb, yf, q_var, m_var, s, h])"
   ]
  },
  {
   "cell_type": "code",
   "execution_count": 12,
   "metadata": {
    "collapsed": false
   },
   "outputs": [
    {
     "name": "stdout",
     "output_type": "stream",
     "text": [
      "52 45 45\n"
     ]
    }
   ],
   "source": [
    "import matplotlib.pyplot as plt\n",
    "from matplotlib import animation\n",
    "\n",
    "hstep=0.025 #space increment d  = minv/(10*f0);\n",
    "tstep=0.004 #time increment dt = .5 * hstep /maxv;\n",
    "tmin=0.0 #initial time\n",
    "tmax=.2 #simulate until\n",
    "xmin=-.5 - 2*hstep #left bound\n",
    "xmax=.5 + 2*hstep #right bound...assume packet never reaches boundary\n",
    "ymin=-.5 - 2*hstep #left bound\n",
    "ymax=.5 + 2*hstep #right bound...assume packet never reaches boundary\n",
    "sos=3.0 #speed of sound\n",
    "f0=10\n",
    "t0=1/10\n",
    "\n",
    "nx = int((xmax-xmin)/hstep) + 1 #number of points on x grid\n",
    "ny = int((ymax-ymin)/hstep) + 1 #number of points on x grid\n",
    "nt = int((tmax-tmin)/tstep) + 2 #number of points on t grid\n",
    "print(nt,nx,ny)\n",
    "u  = np.zeros((nt,nx,ny)) #solution to WE\n",
    "rec= np.zeros((nt,nx)) # receiver all over x at y=0\n",
    "xsrc=0.0\n",
    "ysrc=0.0\n",
    "\n",
    "#set source as Ricker wavelet for f0 \n",
    "def source(x,y,t):\n",
    "    r = (np.pi*f0*(t-t0))\n",
    "    val = (1-2.*r**2)*np.exp(-r**2)\n",
    "    if abs(x-xsrc)<hstep/2 and abs(y-ysrc)<hstep/2:\n",
    "        return val\n",
    "    else:\n",
    "        return 0.0"
   ]
  },
  {
   "cell_type": "code",
   "execution_count": null,
   "metadata": {
    "collapsed": false
   },
   "outputs": [],
   "source": [
    "\n",
    "#fig = plt.figure()\n",
    "#plts = []             # get ready to populate this list the Line artists to be plotted\n",
    "#plt.hold(\"off\")\n",
    "\n",
    "for ti in range(1,nt-1):\n",
    "    for a in range(1,nx-1):\n",
    "        for b in range(1,ny-1):\n",
    "            src = source(xmin+a*hstep,ymin+b*hstep,tstep*ti)\n",
    "            view = u[ti-1:ti+2, a-1:a+2, b-1:b+2]\n",
    "            subs={tb:view[0,1,1],xb:view[1,0,1], c:view[1,1,1], xf:view[1,2,1],\n",
    "                  yb:view[1,1,0], yf:view[1,1,2], q_var:src , m_var:sos**-2, s:tstep, h:hstep}\n",
    "            u[ti+1,a,b]=compiled_stencil(tb, xb, c, xf, yb, yf, q_var, m_var, s, h).evalf(subs=subs)\n",
    "            if np.absolute(b-floor(ny/2))<hstep/2 :\n",
    "                rec[ti+1,a]=u[ti+1,a,floor(ny/2)] "
   ]
  },
  {
   "cell_type": "code",
   "execution_count": 10,
   "metadata": {
    "collapsed": false
   },
   "outputs": [],
   "source": [
    "fig = plt.figure()\n",
    "plts = []             # get ready to populate this list the Line artists to be plotted\n",
    "plt.hold(\"off\")\n",
    "for i in range(nt-1):\n",
    "    r = plt.imshow(u[i,:,:])   # this is how you'd plot a single line...\n",
    "    plts.append( [r] )  \n",
    "ani = animation.ArtistAnimation(fig, plts, interval=50,  repeat = True)   # run the animation\n",
    "plt.show()"
   ]
  },
  {
   "cell_type": "code",
   "execution_count": 11,
   "metadata": {
    "collapsed": false
   },
   "outputs": [],
   "source": [
    "fig2 = plt.figure()\n",
    "plt.hold(\"off\")\n",
    "shotrec = plt.imshow(rec)   # this is how you'd plot a single line...\n",
    "plt.show()"
   ]
  },
  {
   "cell_type": "code",
   "execution_count": null,
   "metadata": {
    "collapsed": true
   },
   "outputs": [],
   "source": [
    "#COmpare with analytical solution, have an expression for Helmholtz, trickier for time domain"
   ]
  },
  {
   "cell_type": "code",
   "execution_count": null,
   "metadata": {
    "collapsed": true
   },
   "outputs": [],
   "source": []
  },
  {
   "cell_type": "markdown",
   "metadata": {},
   "source": [
    "## Rewriting the discret PDE as part of an Inversion\n",
    "### Accuracy and rigourousness of the dicretization\n",
    "\n",
    "The above axpression are good for modelling. However, if you want to include a wave equation solver into an Inversion workflow, a more rigourous study of the discretization must be done. We can rewrite a single time step as follows \n",
    "\n",
    "$ A_3  u(x,t+dt)  = A_1 u(x,t) + A_2 u(x,t-dt) +q(x,t)$\n",
    "\n",
    "where $ A_1,A_2,A_3 $ are square, invertible matrices, and symetric without any boundary conditions. In more details we have :\n",
    "\n",
    "\\begin{align}\n",
    "& A_1 = \\frac{2}{dt^2 m} + \\Delta \\\\\n",
    "& A_2 = \\frac{-1}{dt^2 m} \\\\\n",
    "& A_3 = \\frac{1}{dt^2 m}\n",
    "\\end{align}\n",
    "\n",
    "We can the write the action of the adjoint wave equation operator. The adjoint wave equation is defined by \n",
    "\\begin{cases} \n",
    " &m \\frac{d^2 v(x,t)}{dt^2} - \\nabla^2 v(x,t) = \\delta d  \\\\\n",
    " &v(.,T) = 0 \\\\\n",
    " &\\frac{d v(x,t)}{dt}|_{t=T} = 0 \n",
    "\\end{cases}\n",
    "\n",
    "but by choosing to discretize first we will not discretize this equation. Instead we will take the adjoint of the forward wave equation operator and by testing that the operator is the true adjoint, we will guaranty solving the adjoint wave equation. We have the the single time step for the adjoint wavefield going backward in time in order to keep an explicit Euler scheme\n",
    "\n",
    "$  A_2^T v(x,t-dt)  = A_1^T v(x,t) + A_3^T v(x,t+dt) + \\delta d(x,t)$\n",
    "\n",
    "and as $A_2$ and $A_3$ are diagonal matrices  there is no issue in inverting it. We can also see that choosing a asymetric stencil for the spacial derivative may lead to erro has the Laplacian would stop to be self-adjoint, and the actual adjoint finite difference scheme should be implemented."
   ]
  },
  {
   "cell_type": "code",
   "execution_count": null,
   "metadata": {
    "collapsed": false
   },
   "outputs": [],
   "source": [
    "wave_equationA = dtt- 1/m*(dxx+dyy) - D(x,y,t)\n",
    "stencilA = solve(wave_equationA,p(x,y,t-s))[0]\n",
    "wave_equationA,stencilA"
   ]
  },
  {
   "cell_type": "markdown",
   "metadata": {
    "collapsed": true
   },
   "source": [
    "# Adjoint test\n",
    "\n",
    "In ordr to guaranty we have the gradient we need to make sure that the solution of the adjoint wave equation is indeed the true adjoint. Tod os so one should check that\n",
    "\n",
    "$ <Ax,y> - <x,A^Ty> = 0$\n",
    "\n",
    "where $A$ is the wave_equation,  $A^T$ is wave_equationA and $x,y$ are any random vectors in the range of each operator. This can however be expensive as this two vector would be of size $N * n_t$. To test our operator we will the relax this test by\n",
    "\n",
    "$ <P_r A P_s^T x,y> - <x,P_SA^TP_r^Ty> = 0$\n",
    "\n",
    "where $P_r , P_s^T$ are the source and recevier projection operator mapping the source and receiver locations and times onto the full domain. This allow to have only a random source of size $n_t$ at a random postion."
   ]
  },
  {
   "cell_type": "code",
   "execution_count": null,
   "metadata": {
    "collapsed": false
   },
   "outputs": [],
   "source": [
    "srca= np.zeros((nt)) # receiver all over x at y=0\n",
    "v = np.zeros((nt,nx,ny))\n",
    "for ti in range(1,nt):\n",
    "    for a in range(1,nx-1):\n",
    "        for b in range(1,ny-1):\n",
    "            if np.absolute(b-floor(ny/2))<hstep/2:\n",
    "                resid=rec[nt-ti,a]\n",
    "            else:\n",
    "                resid=0\n",
    "            subs={p(x,y,t+s):v[ti+1,a,b],p(x-h,y,t):v[ti,a-1,b], p(x,y,t):v[ti,a,b], p(x+h,y,t):v[ti,a+1,b],\n",
    "                  p(x,y-h,t):v[ti,a,b-1], p(x,y+h,t):v[ti,a,b+1], D(x,y,t):resid, m:sos**-2, s:tstep, h:hstep}\n",
    "            v[ti+1,a,b]=stencilA.evalf(subs=subs)\n",
    "    srca[ti+1]=v[ti+1,floor(nx/2),floor(ny/2)]"
   ]
  },
  {
   "cell_type": "code",
   "execution_count": null,
   "metadata": {
    "collapsed": false
   },
   "outputs": [],
   "source": [
    "fig = plt.figure()\n",
    "plts = []             # get ready to populate this list the Line artists to be plotted\n",
    "plt.hold(\"off\")\n",
    "for i in range(1,nt-1):\n",
    "    r = plt.imshow(v[nt-i,:,:])   # this is how you'd plot a single line...\n",
    "    plts.append( [r] )  \n",
    "ani = animation.ArtistAnimation(fig, plts, interval=50,  repeat = False)   # run the animation\n",
    "plt.show()"
   ]
  },
  {
   "cell_type": "code",
   "execution_count": null,
   "metadata": {
    "collapsed": false
   },
   "outputs": [],
   "source": [
    "fig3 = plt.figure()\n",
    "plt.hold(\"off\")\n",
    "shotrec = plt.plot(srca)   # this is how you'd plot a single line...\n",
    "plt.show()"
   ]
  },
  {
   "cell_type": "code",
   "execution_count": null,
   "metadata": {
    "collapsed": false
   },
   "outputs": [],
   "source": [
    "# Actual adjoint test\n",
    "term1=0\n",
    "for ti in range(1,nt-1):\n",
    "    term1=term1+srca[ti]*source(0.0,0.0,ti*tstep)\n",
    "\n",
    "term2=LA.norm(rec,ord=2)**2\n",
    "\n",
    "term1,term2,term1-term2,srca[20]"
   ]
  },
  {
   "cell_type": "markdown",
   "metadata": {},
   "source": [
    "# Least square objective Gradient\n",
    "\n",
    "We will consider here the least square objective, as this is the one in need of an adjoint. The test that will follow are however necessary for any objective and associated gradient in a optimization framework. The objective function can be written\n",
    "\n",
    "$ min_m \\Phi(m) := \\frac{1}{2} \\| P_r A^{-1}(m) q - d\\|_2^2$\n",
    "\n",
    "And it's gradient becomes \n",
    "\n",
    "$ \\nabla_m \\Phi(m) = - (\\frac{dA(m)u}{dm})^T v $\n",
    "\n",
    "where v is the soltuion if the adjoint wave equation. For the simple acoustic case the  gradient can be rewritten as \n",
    "\n",
    "$ \\nabla_m \\Phi(m) = - \\sum_{t=1}^{nt} \\frac{d^2u(t)}{dt^2} v(t) $"
   ]
  },
  {
   "cell_type": "code",
   "execution_count": null,
   "metadata": {
    "collapsed": false
   },
   "outputs": [],
   "source": [
    "v=np.ones((nx,ny))+.5\n",
    "v[floor(nx/2):nx,:]=2.5\n",
    "\n",
    "def smooth10(v):\n",
    "    v0=v\n",
    "    for a in range(2,nx-2):\n",
    "        v0[a,:]=np.sum(v0[a-2:a+2,:)/5\n",
    "    return v0\n",
    "\n",
    "v0=smooth10(v)"
   ]
  },
  {
   "cell_type": "code",
   "execution_count": null,
   "metadata": {
    "collapsed": true
   },
   "outputs": [],
   "source": [
    "# True data\n",
    "for ti in range(1,nt-1):\n",
    "    for a in range(1,nx-1):\n",
    "        for b in range(1,ny-1):\n",
    "            src = source(xmin+a*hstep,ymin+b*hstep,tstep*ti)\n",
    "            subs={p(x,y,t-s):u[ti-1,a,b],p(x-h,y,t):u[ti,a-1,b], p(x,y,t):u[ti,a,b], p(x+h,y,t):u[ti,a+1,b],\n",
    "                  p(x,y-h,t):u[ti,a,b-1], p(x,y+h,t):u[ti,a,b+1], q(x,y,t):src , m:v[a,b]**-2, s:tstep, h:hstep}\n",
    "            u[ti+1,a,b]=stencil.evalf(subs=subs)\n",
    "            if b-floor(ny/2)<hstep/2 :\n",
    "                rec[ti+1,a]=u[ti+1,a,floor(ny/2)] "
   ]
  },
  {
   "cell_type": "code",
   "execution_count": null,
   "metadata": {
    "collapsed": true
   },
   "outputs": [],
   "source": [
    "#set source as Ricker wavelet for f0 \n",
    "rec0= np.zeros((nt,nx)) # receiver all over x at y=0\n",
    "for ti in range(1,nt-1):\n",
    "    for a in range(1,nx-1):\n",
    "        for b in range(1,ny-1):\n",
    "            src = source(xmin+a*hstep,ymin+b*hstep,tstep*ti)\n",
    "            subs={p(x,y,t-s):u[ti-1,a,b],p(x-h,y,t):u[ti,a-1,b], p(x,y,t):u[ti,a,b], p(x+h,y,t):u[ti,a+1,b],\n",
    "                  p(x,y-h,t):u[ti,a,b-1], p(x,y+h,t):u[ti,a,b+1], q(x,y,t):src , m:v0[a,b]**-2, s:tstep, h:hstep}\n",
    "            u[ti+1,a,b]=stencil.evalf(subs=subs)\n",
    "            if b-floor(ny/2)<hstep/2 :\n",
    "                rec0[ti+1,a]=u[ti+1,a,floor(ny/2)] "
   ]
  },
  {
   "cell_type": "code",
   "execution_count": null,
   "metadata": {
    "collapsed": true
   },
   "outputs": [],
   "source": [
    "v  = np.zeros((nt,nx,ny)) #solution to WE\n",
    "grad= np.zeros((nx,ny)) # receiver all over x at y=0\n",
    "\n",
    "for ti in range(1,nt-1):\n",
    "    for a in range(1,nx-1):\n",
    "        for b in range(1,ny-1):\n",
    "            if b-floor(ny/2)<hstep/2 :\n",
    "                dd=rec0[ti+1,a]-rec[ti+1,a]\n",
    "            src = source(a,b,tstep*ti)\n",
    "            subs={p(x,y,t-s):v[ti-1,a,b],p(x-h,y,t):v[ti,a-1,b], p(x,y,t):v[ti,a,b], p(x+h,y,t):v[ti,a+1,b],\n",
    "                  p(x,y-h,t):v[ti,a,b-1], p(x,y+h,t):v[ti,a,b+1], dd(x,y,t):dd , m:v0[a,b]**-2, s:tstep, h:hstep}\n",
    "            u[ti+1,a,b]=stencil.evalf(subs=subs)\n",
    "    for a in range(1,nx-1):\n",
    "        for b in range(1,ny-1):\n",
    "            grad[a,b]=grad[a,b]+(v[ti+1,a,b]-2*v[ti,a,b]+v[ti-1,a,b])*(u[nt-ti+1,a,b])"
   ]
  },
  {
   "cell_type": "code",
   "execution_count": null,
   "metadata": {
    "collapsed": true
   },
   "outputs": [],
   "source": [
    "fig2 = plt.figure()\n",
    "plt.hold(\"off\")\n",
    "shotrec = plt.imshow(grad)   # this is how you'd plot a single line...\n",
    "plt.show()"
   ]
  },
  {
   "cell_type": "markdown",
   "metadata": {},
   "source": [
    "# Gradient Test\n",
    "The last part is to check that the operators are consistent with the problem. There is then two properties to be satisfied \n",
    "\n",
    "$ \\Phi(m + hdm) = \\Phi(m) +  \\mathcal{O} (h) \\\\\n",
    "   \\Phi(m + h dm) = \\Phi(m) + h (J[m]^T\\delta |d)dm + \\mathcal{O} (h^2) $\n",
    "   \n",
    "which are the linearization conditions for the objective. This is a bit slow to run here but here is the way to test it.\n",
    "\n",
    "1 - Genrate data for the true model m  \n",
    "2 - Define a smooth initial model $m_0$ and comput the data $d_0$ for this model   \n",
    "3 - You now have $\\Phi(m_0)$   \n",
    "4 - Define $ dm = m-m_0$ and $ h = {1,.1,.01,.001,...}$  \n",
    "5 - For each $h$ compute $\\Phi(m_0 + h dm)$ by generating data for $m_0 + h dm$ and compute $(J[m_0 + h dm]^T\\delta |d) $   \n",
    "6 - Plot in Loglog the two lines of equation above"
   ]
  },
  {
   "cell_type": "code",
   "execution_count": null,
   "metadata": {
    "collapsed": true
   },
   "outputs": [],
   "source": []
  },
  {
   "cell_type": "code",
   "execution_count": null,
   "metadata": {
    "collapsed": true
   },
   "outputs": [],
   "source": []
  }
 ],
 "metadata": {
  "kernelspec": {
   "display_name": "Python 2",
   "language": "python",
   "name": "python2"
  },
  "language_info": {
   "codemirror_mode": {
    "name": "ipython",
    "version": 2
   },
   "file_extension": ".py",
   "mimetype": "text/x-python",
   "name": "python",
   "nbconvert_exporter": "python",
   "pygments_lexer": "ipython2",
   "version": "2.7.10"
  }
 },
 "nbformat": 4,
 "nbformat_minor": 0
}

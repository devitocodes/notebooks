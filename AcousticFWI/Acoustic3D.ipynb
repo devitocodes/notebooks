{
 "cells": [
  {
   "cell_type": "code",
   "execution_count": 1,
   "metadata": {
    "collapsed": true
   },
   "outputs": [],
   "source": [
    "from sympy import *\n",
    "from sympy.abc import *\n",
    "from sympy.galgebra.ga import *\n",
    "import numpy as np\n",
    "from numpy import linalg as LA\n",
    "from __future__ import print_function\n",
    "init_printing()"
   ]
  },
  {
   "cell_type": "markdown",
   "metadata": {},
   "source": [
    "## PDE \n",
    "The acoustic wave equation for the square slowness m and a source q is given in 3D by :\n",
    "\n",
    "\\begin{cases} \n",
    " &m \\frac{d^2 u(x,t)}{dt^2} - \\nabla^2 u(x,t) =q  \\\\\n",
    " &u(.,0) = 0 \\\\\n",
    " &\\frac{d u(x,t)}{dt}|_{t=0} = 0 \n",
    "\\end{cases}\n",
    "\n",
    "with the zero initial conditons to guaranty unicity of the solution"
   ]
  },
  {
   "cell_type": "code",
   "execution_count": 2,
   "metadata": {
    "collapsed": true
   },
   "outputs": [],
   "source": [
    "p=Function('p')\n",
    "m,s,h = symbols('m s h')\n",
    "m=M(x,y,z)\n",
    "q=Q(x,y,z,t)\n",
    "d=D(x,y,z,t)\n",
    "e=E(x,y,z)"
   ]
  },
  {
   "cell_type": "code",
   "execution_count": 8,
   "metadata": {
    "collapsed": true
   },
   "outputs": [],
   "source": [
    "# Choose dimension (2 or 3)\n",
    "dim = 3\n",
    "# Choose order\n",
    "time_order = 2\n",
    "space_order = 2\n",
    "\n",
    "# half width for indexes, goes from -half to half\n",
    "width_t = int(time_order/2)\n",
    "width_h = int(space_order/2)\n",
    "solvep = p(x,y,z,t+width_t*s)\n",
    "solvepa = p(x,y,z,t-width_t*s)"
   ]
  },
  {
   "cell_type": "code",
   "execution_count": 9,
   "metadata": {
    "collapsed": true
   },
   "outputs": [],
   "source": [
    "# Indexes for finite differences\n",
    "indx = []\n",
    "indy = []\n",
    "indz = []\n",
    "indt = []\n",
    "for i in range(-width_h,width_h+1):\n",
    "    indx.append(x + i * h)\n",
    "    indy.append(y + i * h)\n",
    "    indz.append(z + i* h)\n",
    "    \n",
    "for i in range(-width_t,width_t+1):\n",
    "    indt.append(t + i * s)"
   ]
  },
  {
   "cell_type": "code",
   "execution_count": 10,
   "metadata": {
    "collapsed": false
   },
   "outputs": [],
   "source": [
    "# Finite differences\n",
    "dtt=as_finite_diff(p(x,y,z,t).diff(t,t),indt)\n",
    "dxx=as_finite_diff(p(x,y,z,t).diff(x,x), indx) \n",
    "dyy=as_finite_diff(p(x,y,z,t).diff(y,y), indy) \n",
    "dzz=as_finite_diff(p(x,y,z,t).diff(z,z), indz)\n",
    "dt=as_finite_diff(p(x,y,z,t).diff(t), indt)\n",
    "lap = dxx + dyy + dzz"
   ]
  },
  {
   "cell_type": "code",
   "execution_count": 11,
   "metadata": {
    "collapsed": false
   },
   "outputs": [
    {
     "data": {
      "image/png": "[encoded data removed]",
      "text/latex": [
       "$$\\left ( p{\\left (x,y,z,- s + t \\right )}, \\quad p{\\left (x,y,z,t \\right )}, \\quad p{\\left (- h + x,y,z,t \\right )}, \\quad p{\\left (x,y,z,t \\right )}, \\quad p{\\left (h + x,y,z,t \\right )}, \\quad p{\\left (x,- h + y,z,t \\right )}, \\quad p{\\left (x,y,z,t \\right )}, \\quad p{\\left (x,h + y,z,t \\right )}, \\quad p{\\left (x,y,- h + z,t \\right )}, \\quad p{\\left (x,y,z,t \\right )}, \\quad p{\\left (x,y,h + z,t \\right )}, \\quad Q{\\left (x,y,z,t \\right )}, \\quad M{\\left (x,y,z \\right )}, \\quad s, \\quad h, \\quad E{\\left (x,y,z \\right )}\\right )$$"
      ],
      "text/plain": [
       "(p(x, y, z, -s + t), p(x, y, z, t), p(-h + x, y, z, t), p(x, y, z, t), p(h + x\n",
       ", y, z, t), p(x, -h + y, z, t), p(x, y, z, t), p(x, h + y, z, t), p(x, y, -h +\n",
       " z, t), p(x, y, z, t), p(x, y, h + z, t), Q(x, y, z, t), M(x, y, z), s, h, E(x\n",
       ", y, z))"
      ]
     },
     "execution_count": 11,
     "metadata": {},
     "output_type": "execute_result"
    }
   ],
   "source": [
    "arglamb=[]\n",
    "arglamba=[]\n",
    "for i in range(-width_t,width_t):\n",
    "    arglamb.append( p(x,y,z,indt[i+width_t]))\n",
    "    arglamba.append( p(x,y,z,indt[i+width_t+1]))\n",
    "        \n",
    "for i in range(-width_h,width_h+1):\n",
    "    arglamb.append( p(indx[i+width_h],y,z,t))\n",
    "    arglamba.append( p(indx[i+width_h],y,z,t))\n",
    "    \n",
    "for i in range(-width_h,width_h+1):\n",
    "    arglamb.append( p(x,indy[i+width_h],z,t))\n",
    "    arglamba.append( p(x,indy[i+width_h],z,t))\n",
    "    \n",
    "for i in range(-width_h,width_h+1):\n",
    "    arglamb.append( p(x,y,indz[i+width_h],t))\n",
    "    arglamba.append( p(x,y,indz[i+width_h],t))\n",
    "        \n",
    "arglamb.extend((q , m, s, h, e))\n",
    "arglamb=tuple(arglamb)\n",
    "arglamba.extend((q , m, s, h, e))\n",
    "arglamba=tuple(arglamba)\n",
    "\n",
    "arglamb=[ii for n,ii in enumerate(arglamb) if ii not in arglamb[:n]]"
   ]
  },
  {
   "cell_type": "code",
   "execution_count": 12,
   "metadata": {
    "collapsed": false
   },
   "outputs": [
    {
     "data": {
      "image/png": "[encoded data removed]",
      "text/latex": [
       "$$\\frac{1}{h^{2} \\left(s E{\\left (x,y,z \\right )} + 2 M{\\left (x,y,z \\right )}\\right)} \\left(2 h^{2} s^{2} Q{\\left (x,y,z,t \\right )} + h^{2} s E{\\left (x,y,z \\right )} p{\\left (x,y,z,- s + t \\right )} + 4 h^{2} M{\\left (x,y,z \\right )} p{\\left (x,y,z,t \\right )} - 2 h^{2} M{\\left (x,y,z \\right )} p{\\left (x,y,z,- s + t \\right )} - 12 s^{2} p{\\left (x,y,z,t \\right )} + 2 s^{2} p{\\left (x,y,- h + z,t \\right )} + 2 s^{2} p{\\left (x,y,h + z,t \\right )} + 2 s^{2} p{\\left (x,- h + y,z,t \\right )} + 2 s^{2} p{\\left (x,h + y,z,t \\right )} + 2 s^{2} p{\\left (- h + x,y,z,t \\right )} + 2 s^{2} p{\\left (h + x,y,z,t \\right )}\\right)$$"
      ],
      "text/plain": [
       "   2  2                  2                                      2             \n",
       "2⋅h ⋅s ⋅Q(x, y, z, t) + h ⋅s⋅E(x, y, z)⋅p(x, y, z, -s + t) + 4⋅h ⋅M(x, y, z)⋅p\n",
       "──────────────────────────────────────────────────────────────────────────────\n",
       "                                                                              \n",
       "                                                                              \n",
       "\n",
       "                  2                                     2                    2\n",
       "(x, y, z, t) - 2⋅h ⋅M(x, y, z)⋅p(x, y, z, -s + t) - 12⋅s ⋅p(x, y, z, t) + 2⋅s \n",
       "──────────────────────────────────────────────────────────────────────────────\n",
       "                                                          2                   \n",
       "                                                         h ⋅(s⋅E(x, y, z) + 2⋅\n",
       "\n",
       "                         2                        2                         2 \n",
       "⋅p(x, y, -h + z, t) + 2⋅s ⋅p(x, y, h + z, t) + 2⋅s ⋅p(x, -h + y, z, t) + 2⋅s ⋅\n",
       "──────────────────────────────────────────────────────────────────────────────\n",
       "                                                                              \n",
       "M(x, y, z))                                                                   \n",
       "\n",
       "                       2                         2                  \n",
       "p(x, h + y, z, t) + 2⋅s ⋅p(-h + x, y, z, t) + 2⋅s ⋅p(h + x, y, z, t)\n",
       "────────────────────────────────────────────────────────────────────\n",
       "                                                                    \n",
       "                                                                    "
      ]
     },
     "execution_count": 12,
     "metadata": {},
     "output_type": "execute_result"
    }
   ],
   "source": [
    "# Forward wave equation\n",
    "wave_equation = m*dtt- lap - q  + e*dt\n",
    "stencil = solve(wave_equation,solvep)[0]\n",
    "ts=lambdify(arglamb,stencil,\"numpy\")\n",
    "stencil"
   ]
  },
  {
   "cell_type": "code",
   "execution_count": 13,
   "metadata": {
    "collapsed": false
   },
   "outputs": [
    {
     "data": {
      "image/png": "[encoded data removed]",
      "text/latex": [
       "$$\\frac{1}{h^{2} \\left(s E{\\left (x,y,z \\right )} + 2 M{\\left (x,y,z \\right )}\\right)} \\left(2 h^{2} s^{2} D{\\left (x,y,z,t \\right )} + h^{2} s E{\\left (x,y,z \\right )} p{\\left (x,y,z,s + t \\right )} + 4 h^{2} M{\\left (x,y,z \\right )} p{\\left (x,y,z,t \\right )} - 2 h^{2} M{\\left (x,y,z \\right )} p{\\left (x,y,z,s + t \\right )} - 12 s^{2} p{\\left (x,y,z,t \\right )} + 2 s^{2} p{\\left (x,y,- h + z,t \\right )} + 2 s^{2} p{\\left (x,y,h + z,t \\right )} + 2 s^{2} p{\\left (x,- h + y,z,t \\right )} + 2 s^{2} p{\\left (x,h + y,z,t \\right )} + 2 s^{2} p{\\left (- h + x,y,z,t \\right )} + 2 s^{2} p{\\left (h + x,y,z,t \\right )}\\right)$$"
      ],
      "text/plain": [
       "   2  2                  2                                     2              \n",
       "2⋅h ⋅s ⋅D(x, y, z, t) + h ⋅s⋅E(x, y, z)⋅p(x, y, z, s + t) + 4⋅h ⋅M(x, y, z)⋅p(\n",
       "──────────────────────────────────────────────────────────────────────────────\n",
       "                                                                              \n",
       "                                                                              \n",
       "\n",
       "                 2                                    2                    2  \n",
       "x, y, z, t) - 2⋅h ⋅M(x, y, z)⋅p(x, y, z, s + t) - 12⋅s ⋅p(x, y, z, t) + 2⋅s ⋅p\n",
       "──────────────────────────────────────────────────────────────────────────────\n",
       "                                                         2                    \n",
       "                                                        h ⋅(s⋅E(x, y, z) + 2⋅M\n",
       "\n",
       "                       2                        2                         2   \n",
       "(x, y, -h + z, t) + 2⋅s ⋅p(x, y, h + z, t) + 2⋅s ⋅p(x, -h + y, z, t) + 2⋅s ⋅p(\n",
       "──────────────────────────────────────────────────────────────────────────────\n",
       "                                                                              \n",
       "(x, y, z))                                                                    \n",
       "\n",
       "                     2                         2                  \n",
       "x, h + y, z, t) + 2⋅s ⋅p(-h + x, y, z, t) + 2⋅s ⋅p(h + x, y, z, t)\n",
       "──────────────────────────────────────────────────────────────────\n",
       "                                                                  \n",
       "                                                                  "
      ]
     },
     "execution_count": 13,
     "metadata": {},
     "output_type": "execute_result"
    }
   ],
   "source": [
    "# Adjoint wave equation\n",
    "wave_equationA = m*dtt- lap - d - e*dt\n",
    "stencilA = solve(wave_equationA,solvepa)[0]\n",
    "tsA=lambdify(arglamba,stencilA,\"numpy\")\n",
    "stencilA"
   ]
  },
  {
   "cell_type": "markdown",
   "metadata": {
    "collapsed": true
   },
   "source": [
    "# Forward modelling\n",
    "Point source on the grid\n",
    "No receivers\n",
    "Non cube grid (to make it general)"
   ]
  },
  {
   "cell_type": "code",
   "execution_count": 18,
   "metadata": {
    "collapsed": true
   },
   "outputs": [],
   "source": [
    "import matplotlib.pyplot as plt\n",
    "from matplotlib import animation\n",
    "\n",
    "hstep=25 #space increment d  = minv/(10*f0);\n",
    "tstep=2 #time increment dt < .5 * hstep /maxv;\n",
    "tmin=0.0 #initial time\n",
    "tmax=300 #simulate until\n",
    "xmin=-500.0 #left bound\n",
    "xmax=500.0 #right bound...assume packet never reaches boundary\n",
    "ymin=-600.0 #left bound\n",
    "ymax=600.0 #right bound...assume packet never reaches boundary\n",
    "zmin=-250.0 #left bound\n",
    "zmax=400.0 #right bound...assume packet never reaches boundary\n",
    "f0=.010\n",
    "t0=1/.010\n",
    "nbpml=10\n",
    "nx = int((xmax-xmin)/hstep) + 1 #number of points on x grid\n",
    "ny = int((ymax-ymin)/hstep) + 1 #number of points on x grid\n",
    "nz = int((zmax-zmin)/hstep) + 1 #number of points on x grid\n",
    "nt = int((tmax-tmin)/tstep) + 2 #number of points on t grid\n",
    "xsrc=0.0\n",
    "ysrc=0.0\n",
    "zsrc=25.0\n",
    "#set source as Ricker wavelet for f0 \n",
    "def source(x,y,z,t):\n",
    "    r = (np.pi*f0*(t-t0))\n",
    "    val = (1-2.*r**2)*np.exp(-r**2)\n",
    "    if abs(x-xsrc)<hstep/2 and abs(y-ysrc)<hstep/2 and abs(z-zsrc)<hstep/2:\n",
    "        return val\n",
    "    else:\n",
    "        return 0.0\n",
    "    \n",
    "def dampx(x):\n",
    "    dampcoeff=1.5*np.log(1.0/0.001)/(5.0*hstep);\n",
    "    if x<nbpml:\n",
    "        return dampcoeff*((nbpml-x)/nbpml)**2\n",
    "    elif x>nx-nbpml-1:\n",
    "        return dampcoeff*((x-nx+nbpml)/nbpml)**2\n",
    "    else:\n",
    "        return 0.0\n",
    "def dampy(y):\n",
    "    dampcoeff=1.5*np.log(1.0/0.001)/(5.0*hstep);\n",
    "    if y<nbpml:\n",
    "        return dampcoeff*((nbpml-y)/nbpml)**2\n",
    "    elif y>ny-nbpml-1:\n",
    "        return dampcoeff*((y-ny+nbpml)/nbpml)**2\n",
    "    else:\n",
    "        return 0.0\n",
    "    \n",
    "def dampz(z):\n",
    "    dampcoeff=1.5*np.log(1.0/0.001)/(5.0*hstep);\n",
    "    if z<nbpml:\n",
    "        return dampcoeff*((nbpml-z)/nbpml)**2\n",
    "    elif z>nz-nbpml-1:\n",
    "        return dampcoeff*((z-ny+nbpml)/nbpml)**2\n",
    "    else:\n",
    "        return 0.0"
   ]
  },
  {
   "cell_type": "code",
   "execution_count": 19,
   "metadata": {
    "collapsed": false
   },
   "outputs": [],
   "source": [
    "# True velocity\n",
    "vel=np.ones((nx,ny,nz)) + 2.0\n",
    "vel[:,:,int(nz/2):nz]=4.5\n",
    "mt=vel**-2"
   ]
  },
  {
   "cell_type": "code",
   "execution_count": 20,
   "metadata": {
    "collapsed": true
   },
   "outputs": [],
   "source": [
    "def Forward(nt,nx,ny,nz,m):\n",
    "    u=np.zeros((nt+2,nx,ny,nz))\n",
    "    for ti in range(2,nt+2):\n",
    "        for a in range(1,nx-1):\n",
    "            for b in range(1,ny-1):\n",
    "                for c in range(1,nz-1):\n",
    "                    src = source(xmin+a*hstep,ymin+b*hstep,zmin+c*hstep,tstep*ti)\n",
    "                    damp=dampx(a)+dampy(b)+dampz(c)\n",
    "                    u[ti,a,b,c]=ts(u[ti-2,a,b,c], \n",
    "                                   u[ti-1,a-1,b,c], \n",
    "                                   u[ti-1,a+1,b,c],\n",
    "                                   u[ti-1,a,b-1,c],\n",
    "                                   u[ti-1,a,b+1,c],\n",
    "                                   u[ti-1,a,b,c-1],\n",
    "                                   u[ti-1,a,b,c+1],\n",
    "                                   src , m[a,b,c], dt, hstep, damp)\n",
    "    return u\n"
   ]
  },
  {
   "cell_type": "code",
   "execution_count": 21,
   "metadata": {
    "collapsed": false
   },
   "outputs": [
    {
     "ename": "TypeError",
     "evalue": "<lambda>() missing 4 required positional arguments: '_Dummy_43', '_Dummy_44', '_Dummy_45', and '_Dummy_46'",
     "output_type": "error",
     "traceback": [
      "\u001b[1;31m---------------------------------------------------------------------------\u001b[0m",
      "\u001b[1;31mTypeError\u001b[0m                                 Traceback (most recent call last)",
      "\u001b[1;32m<ipython-input-21-fb61e73f1272>\u001b[0m in \u001b[0;36m<module>\u001b[1;34m()\u001b[0m\n\u001b[1;32m----> 1\u001b[1;33m \u001b[0mu\u001b[0m \u001b[1;33m=\u001b[0m \u001b[0mForward\u001b[0m\u001b[1;33m(\u001b[0m\u001b[0mnt\u001b[0m\u001b[1;33m,\u001b[0m\u001b[0mnx\u001b[0m\u001b[1;33m,\u001b[0m\u001b[0mny\u001b[0m\u001b[1;33m,\u001b[0m\u001b[0mnz\u001b[0m\u001b[1;33m,\u001b[0m\u001b[0mmt\u001b[0m\u001b[1;33m)\u001b[0m\u001b[1;33m\u001b[0m\u001b[0m\n\u001b[0m",
      "\u001b[1;32m<ipython-input-20-812a419998f4>\u001b[0m in \u001b[0;36mForward\u001b[1;34m(nt, nx, ny, nz, m)\u001b[0m\n\u001b[0;32m     14\u001b[0m                                    \u001b[0mu\u001b[0m\u001b[1;33m[\u001b[0m\u001b[0mti\u001b[0m\u001b[1;33m-\u001b[0m\u001b[1;36m1\u001b[0m\u001b[1;33m,\u001b[0m\u001b[0ma\u001b[0m\u001b[1;33m,\u001b[0m\u001b[0mb\u001b[0m\u001b[1;33m,\u001b[0m\u001b[0mc\u001b[0m\u001b[1;33m-\u001b[0m\u001b[1;36m1\u001b[0m\u001b[1;33m]\u001b[0m\u001b[1;33m,\u001b[0m\u001b[1;33m\u001b[0m\u001b[0m\n\u001b[0;32m     15\u001b[0m                                    \u001b[0mu\u001b[0m\u001b[1;33m[\u001b[0m\u001b[0mti\u001b[0m\u001b[1;33m-\u001b[0m\u001b[1;36m1\u001b[0m\u001b[1;33m,\u001b[0m\u001b[0ma\u001b[0m\u001b[1;33m,\u001b[0m\u001b[0mb\u001b[0m\u001b[1;33m,\u001b[0m\u001b[0mc\u001b[0m\u001b[1;33m+\u001b[0m\u001b[1;36m1\u001b[0m\u001b[1;33m]\u001b[0m\u001b[1;33m,\u001b[0m\u001b[1;33m\u001b[0m\u001b[0m\n\u001b[1;32m---> 16\u001b[1;33m                                    src , m[a,b,c], dt, hstep, damp)\n\u001b[0m\u001b[0;32m     17\u001b[0m     \u001b[1;32mreturn\u001b[0m \u001b[0mu\u001b[0m\u001b[1;33m\u001b[0m\u001b[0m\n",
      "\u001b[1;31mTypeError\u001b[0m: <lambda>() missing 4 required positional arguments: '_Dummy_43', '_Dummy_44', '_Dummy_45', and '_Dummy_46'"
     ]
    }
   ],
   "source": [
    "u = Forward(nt,nx,ny,nz,mt)"
   ]
  },
  {
   "cell_type": "code",
   "execution_count": null,
   "metadata": {
    "collapsed": true
   },
   "outputs": [],
   "source": []
  }
 ],
 "metadata": {
  "kernelspec": {
   "display_name": "Python 3",
   "language": "python",
   "name": "python3"
  },
  "language_info": {
   "codemirror_mode": {
    "name": "ipython",
    "version": 3
   },
   "file_extension": ".py",
   "mimetype": "text/x-python",
   "name": "python",
   "nbconvert_exporter": "python",
   "pygments_lexer": "ipython3",
   "version": "3.5.1"
  }
 },
 "nbformat": 4,
 "nbformat_minor": 0
}

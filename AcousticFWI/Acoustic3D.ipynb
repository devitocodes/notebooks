{
 "cells": [
  {
   "cell_type": "code",
   "execution_count": 1,
   "metadata": {
    "collapsed": true
   },
   "outputs": [],
   "source": [
    "from sympy import *\n",
    "from sympy.abc import *\n",
    "from sympy.galgebra.ga import *\n",
    "import numpy as np\n",
    "from numpy import linalg as LA\n",
    "from __future__ import print_function\n",
    "init_printing()"
   ]
  },
  {
   "cell_type": "markdown",
   "metadata": {},
   "source": [
    "## PDE \n",
    "The acoustic wave equation for the square slowness m and a source q is given in 3D by :\n",
    "\n",
    "\\begin{cases} \n",
    " &m \\frac{d^2 u(x,t)}{dt^2} - \\nabla^2 u(x,t) =q  \\\\\n",
    " &u(.,0) = 0 \\\\\n",
    " &\\frac{d u(x,t)}{dt}|_{t=0} = 0 \n",
    "\\end{cases}\n",
    "\n",
    "with the zero initial conditons to guaranty unicity of the solution"
   ]
  },
  {
   "cell_type": "code",
   "execution_count": 3,
   "metadata": {
    "collapsed": true
   },
   "outputs": [],
   "source": [
    "p=Function('p')\n",
    "m,s,h = symbols('m s h')\n",
    "m=M(x,y,z)\n",
    "q=Q(x,y,z,t)\n",
    "d=D(x,y,z,t)\n",
    "e=E(x,y,z)"
   ]
  },
  {
   "cell_type": "code",
   "execution_count": 5,
   "metadata": {
    "collapsed": false
   },
   "outputs": [
    {
     "data": {
      "image/png": "[encoded data removed]",
      "text/latex": [
       "$$\\left ( - \\frac{2}{s^{2}} p{\\left (x,y,z,t \\right )} + \\frac{1}{s^{2}} p{\\left (x,y,z,- s + t \\right )} + \\frac{1}{s^{2}} p{\\left (x,y,z,s + t \\right )}, \\quad - \\frac{2}{h^{2}} p{\\left (x,y,z,t \\right )} + \\frac{1}{h^{2}} p{\\left (- h + x,y,z,t \\right )} + \\frac{1}{h^{2}} p{\\left (h + x,y,z,t \\right )}, \\quad - \\frac{2}{h^{2}} p{\\left (x,y,z,t \\right )} + \\frac{1}{h^{2}} p{\\left (x,- h + y,z,t \\right )} + \\frac{1}{h^{2}} p{\\left (x,h + y,z,t \\right )}, \\quad - \\frac{2}{h^{2}} p{\\left (x,y,z,t \\right )} + \\frac{1}{h^{2}} p{\\left (x,y,- h + z,t \\right )} + \\frac{1}{h^{2}} p{\\left (x,y,h + z,t \\right )}, \\quad - \\frac{1}{2 s} p{\\left (x,y,z,- s + t \\right )} + \\frac{1}{2 s} p{\\left (x,y,z,s + t \\right )}\\right )$$"
      ],
      "text/plain": [
       "⎛  2⋅p(x, y, z, t)   p(x, y, z, -s + t)   p(x, y, z, s + t)    2⋅p(x, y, z, t)\n",
       "⎜- ─────────────── + ────────────────── + ─────────────────, - ───────────────\n",
       "⎜          2                  2                    2                   2      \n",
       "⎝         s                  s                    s                   h       \n",
       "\n",
       "   p(-h + x, y, z, t)   p(h + x, y, z, t)    2⋅p(x, y, z, t)   p(x, -h + y, z,\n",
       " + ────────────────── + ─────────────────, - ─────────────── + ───────────────\n",
       "            2                    2                   2                  2     \n",
       "           h                    h                   h                  h      \n",
       "\n",
       " t)   p(x, h + y, z, t)    2⋅p(x, y, z, t)   p(x, y, -h + z, t)   p(x, y, h + \n",
       "─── + ─────────────────, - ─────────────── + ────────────────── + ────────────\n",
       "               2                   2                  2                    2  \n",
       "              h                   h                  h                    h   \n",
       "\n",
       "z, t)    p(x, y, z, -s + t)   p(x, y, z, s + t)⎞\n",
       "─────, - ────────────────── + ─────────────────⎟\n",
       "                2⋅s                  2⋅s       ⎟\n",
       "                                               ⎠"
      ]
     },
     "execution_count": 5,
     "metadata": {},
     "output_type": "execute_result"
    }
   ],
   "source": [
    "dtt=as_finite_diff(p(x,y,z,t).diff(t,t), [t-s,t, t+s])\n",
    "dt=as_finite_diff(p(x,y,z,t).diff(t), [t-s, t+s])\n",
    "# Spacial finite differences can easily be extended to higher order by increasing the list of sampling point in the next expression. \n",
    "# Be sure to keep this stencil symmetric and everything else in the notebook will follow.\n",
    "dxx=as_finite_diff(p(x,y,z,t).diff(x,x), [x-h, x, x+h]) \n",
    "dyy=as_finite_diff(p(x,y,z,t).diff(y,y), [y-h, y, y+h])\n",
    "dzz=as_finite_diff(p(x,y,z,t).diff(z,z), [z-h, z, z+h])\n",
    "dtt,dxx,dyy,dzz,dt"
   ]
  },
  {
   "cell_type": "code",
   "execution_count": 9,
   "metadata": {
    "collapsed": false
   },
   "outputs": [
    {
     "data": {
      "image/png": "[encoded data removed]",
      "text/latex": [
       "$$\\frac{1}{h^{2} \\left(s E{\\left (x,y \\right )} + 2 M{\\left (x,y \\right )}\\right)} \\left(2 h^{2} s^{2} Q{\\left (x,y,t \\right )} + h^{2} s E{\\left (x,y \\right )} p{\\left (x,y,z,- s + t \\right )} + 4 h^{2} M{\\left (x,y \\right )} p{\\left (x,y,z,t \\right )} - 2 h^{2} M{\\left (x,y \\right )} p{\\left (x,y,z,- s + t \\right )} - 12 s^{2} p{\\left (x,y,z,t \\right )} + 2 s^{2} p{\\left (x,y,- h + z,t \\right )} + 2 s^{2} p{\\left (x,y,h + z,t \\right )} + 2 s^{2} p{\\left (x,- h + y,z,t \\right )} + 2 s^{2} p{\\left (x,h + y,z,t \\right )} + 2 s^{2} p{\\left (- h + x,y,z,t \\right )} + 2 s^{2} p{\\left (h + x,y,z,t \\right )}\\right)$$"
      ],
      "text/plain": [
       "   2  2               2                                   2                   \n",
       "2⋅h ⋅s ⋅Q(x, y, t) + h ⋅s⋅E(x, y)⋅p(x, y, z, -s + t) + 4⋅h ⋅M(x, y)⋅p(x, y, z,\n",
       "──────────────────────────────────────────────────────────────────────────────\n",
       "                                                                              \n",
       "                                                                              \n",
       "\n",
       "         2                                  2                    2            \n",
       " t) - 2⋅h ⋅M(x, y)⋅p(x, y, z, -s + t) - 12⋅s ⋅p(x, y, z, t) + 2⋅s ⋅p(x, y, -h \n",
       "──────────────────────────────────────────────────────────────────────────────\n",
       "                                                       2                      \n",
       "                                                      h ⋅(s⋅E(x, y) + 2⋅M(x, y\n",
       "\n",
       "             2                        2                         2             \n",
       "+ z, t) + 2⋅s ⋅p(x, y, h + z, t) + 2⋅s ⋅p(x, -h + y, z, t) + 2⋅s ⋅p(x, h + y, \n",
       "──────────────────────────────────────────────────────────────────────────────\n",
       "                                                                              \n",
       "))                                                                            \n",
       "\n",
       "           2                         2                  \n",
       "z, t) + 2⋅s ⋅p(-h + x, y, z, t) + 2⋅s ⋅p(h + x, y, z, t)\n",
       "────────────────────────────────────────────────────────\n",
       "                                                        \n",
       "                                                        "
      ]
     },
     "execution_count": 9,
     "metadata": {},
     "output_type": "execute_result"
    }
   ],
   "source": [
    "# Forward wave equation\n",
    "wave_equation = m*dtt- (dxx+dyy+dzz) - q  + e*dt\n",
    "stencil = solve(wave_equation,p(x,y,z,t+s))[0]\n",
    "ts=lambdify((p(x,y,z,t-s),p(x-h,y,z,t), p(x+h,y,z,t), p(x,y-h,z,t),p(x,y+h,z,t), p(x,y,z-h,t), p(x,y,z+h,t), q , m, s, h,e),stencil,\"numpy\")\n",
    "stencil"
   ]
  },
  {
   "cell_type": "code",
   "execution_count": 10,
   "metadata": {
    "collapsed": false
   },
   "outputs": [
    {
     "data": {
      "image/png": "[encoded data removed]",
      "text/latex": [
       "$$\\frac{1}{h^{2} \\left(s E{\\left (x,y \\right )} + 2 M{\\left (x,y \\right )}\\right)} \\left(2 h^{2} s^{2} D{\\left (x,y,t \\right )} + h^{2} s E{\\left (x,y \\right )} p{\\left (x,y,z,s + t \\right )} + 4 h^{2} M{\\left (x,y \\right )} p{\\left (x,y,z,t \\right )} - 2 h^{2} M{\\left (x,y \\right )} p{\\left (x,y,z,s + t \\right )} - 12 s^{2} p{\\left (x,y,z,t \\right )} + 2 s^{2} p{\\left (x,y,- h + z,t \\right )} + 2 s^{2} p{\\left (x,y,h + z,t \\right )} + 2 s^{2} p{\\left (x,- h + y,z,t \\right )} + 2 s^{2} p{\\left (x,h + y,z,t \\right )} + 2 s^{2} p{\\left (- h + x,y,z,t \\right )} + 2 s^{2} p{\\left (h + x,y,z,t \\right )}\\right)$$"
      ],
      "text/plain": [
       "   2  2               2                                  2                    \n",
       "2⋅h ⋅s ⋅D(x, y, t) + h ⋅s⋅E(x, y)⋅p(x, y, z, s + t) + 4⋅h ⋅M(x, y)⋅p(x, y, z, \n",
       "──────────────────────────────────────────────────────────────────────────────\n",
       "                                                                              \n",
       "                                                                              \n",
       "\n",
       "        2                                 2                    2              \n",
       "t) - 2⋅h ⋅M(x, y)⋅p(x, y, z, s + t) - 12⋅s ⋅p(x, y, z, t) + 2⋅s ⋅p(x, y, -h + \n",
       "──────────────────────────────────────────────────────────────────────────────\n",
       "                                                      2                       \n",
       "                                                     h ⋅(s⋅E(x, y) + 2⋅M(x, y)\n",
       "\n",
       "           2                        2                         2               \n",
       "z, t) + 2⋅s ⋅p(x, y, h + z, t) + 2⋅s ⋅p(x, -h + y, z, t) + 2⋅s ⋅p(x, h + y, z,\n",
       "──────────────────────────────────────────────────────────────────────────────\n",
       "                                                                              \n",
       ")                                                                             \n",
       "\n",
       "         2                         2                  \n",
       " t) + 2⋅s ⋅p(-h + x, y, z, t) + 2⋅s ⋅p(h + x, y, z, t)\n",
       "──────────────────────────────────────────────────────\n",
       "                                                      \n",
       "                                                      "
      ]
     },
     "execution_count": 10,
     "metadata": {},
     "output_type": "execute_result"
    }
   ],
   "source": [
    "# Adjoint wave equation\n",
    "wave_equationA = m*dtt- (dxx+dyy+dzz) - D(x,y,t) - e*dt\n",
    "stencilA = solve(wave_equationA,p(x,y,z,t-s))[0]\n",
    "tsA=lambdify((p(x,y,z,t+s),p(x-h,y,z,t), p(x+h,y,z,t), p(x,y-h,z,t),p(x,y+h,z,t), p(x,y,z-h,t), p(x,y,z+h,t), d , m, s, h,e),stencilA,\"numpy\")\n",
    "stencilA"
   ]
  },
  {
   "cell_type": "code",
   "execution_count": null,
   "metadata": {
    "collapsed": true
   },
   "outputs": [],
   "source": []
  }
 ],
 "metadata": {
  "kernelspec": {
   "display_name": "Python 3",
   "language": "python",
   "name": "python3"
  },
  "language_info": {
   "codemirror_mode": {
    "name": "ipython",
    "version": 3
   },
   "file_extension": ".py",
   "mimetype": "text/x-python",
   "name": "python",
   "nbconvert_exporter": "python",
   "pygments_lexer": "ipython3",
   "version": "3.5.1"
  }
 },
 "nbformat": 4,
 "nbformat_minor": 0
}

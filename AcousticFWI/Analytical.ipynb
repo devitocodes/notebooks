{
 "cells": [
  {
   "cell_type": "code",
   "execution_count": 39,
   "metadata": {
    "collapsed": false
   },
   "outputs": [],
   "source": [
    "from sympy import *\n",
    "from scipy.fftpack import rfft\n",
    "import numpy as np\n",
    "import matplotlib.pyplot as plt\n",
    "init_printing()\n",
    "# Analytical solution for the constant medium acoustic wave equation\n",
    "# Given for a nx by ny domain of velocity v on a h grid with source at position xsrc,ysrc , 2second propagation at dt=1ms\n",
    "\n",
    "T=2.0\n",
    "dt=.001\n",
    "df=1.0/T\n",
    "maxf=1.0/dt\n",
    "nt=floor(T/dt+1)\n",
    "\n",
    "tt=np.linspace(0,T,nt)\n",
    "ff=rfft(tt)\n",
    "tt,ff\n",
    "\n",
    "fig2 = plt.figure()\n",
    "plt.hold(\"off\")\n",
    "shotrec = plt.plot(ff,ff)   # this is how you'd plot a single line...\n",
    "plt.show()"
   ]
  },
  {
   "cell_type": "code",
   "execution_count": 25,
   "metadata": {
    "collapsed": false
   },
   "outputs": [
    {
     "data": {
      "text/plain": [
       "numpy.ndarray"
      ]
     },
     "execution_count": 25,
     "metadata": {},
     "output_type": "execute_result"
    }
   ],
   "source": []
  },
  {
   "cell_type": "code",
   "execution_count": null,
   "metadata": {
    "collapsed": false
   },
   "outputs": [],
   "source": [
    "nx=200\n",
    "ny=200\n",
    "h=1\n",
    "xsrc=100 # in grid points\n",
    "ysrc=100 # in grid points\n",
    "v=1\n",
    "\n",
    "U_a=np.zeros((nx,ny,nf))\n",
    "for a in range(0,nf):\n",
    "    k = 2*np.pi*f[a]/v\n",
    "\n",
    "    for m in range(0,nx):\n",
    "        for n in range(0,ny):\n",
    "            tmp = k*sqrt((h*(m - xsrc))**2 + h*(n - ysrc)**2)\n",
    "            U_a[m,n,a] = 1j* hankel1(0,tmp)/4.0;"
   ]
  },
  {
   "cell_type": "code",
   "execution_count": null,
   "metadata": {
    "collapsed": true
   },
   "outputs": [],
   "source": [
    "# Do inverse fft on 0:.001:2 (third dimension on U) and you have analytical solution o"
   ]
  }
 ],
 "metadata": {
  "kernelspec": {
   "display_name": "Python 3",
   "language": "python",
   "name": "python3"
  },
  "language_info": {
   "codemirror_mode": {
    "name": "ipython",
    "version": 3
   },
   "file_extension": ".py",
   "mimetype": "text/x-python",
   "name": "python",
   "nbconvert_exporter": "python",
   "pygments_lexer": "ipython3",
   "version": "3.5.1"
  }
 },
 "nbformat": 4,
 "nbformat_minor": 0
}

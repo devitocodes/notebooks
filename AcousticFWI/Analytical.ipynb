{
 "cells": [
  {
   "cell_type": "code",
   "execution_count": 1,
   "metadata": {
    "collapsed": false
   },
   "outputs": [],
   "source": [
    "from scipy.fftpack import rfft\n",
    "from scipy.special import hankel2\n",
    "import numpy as np\n",
    "import matplotlib.pyplot as plt\n",
    "# Analytical solution for the constant medium acoustic wave equation\n",
    "# Given for a nx by ny domain of velocity v on a h grid with source at position xsrc,ysrc , 2second propagation at dt=1ms\n",
    "\n",
    "\n",
    "\n",
    "T = .4\n",
    "dt = .01\n",
    "nt = int(T/dt+1)\n",
    "nf = int(nt/2+1)\n",
    "f0 = 15\n",
    "tt = np.linspace(0,T,nt)\n",
    "fnyq = 1. / (2*(dt))\n",
    "df = 2*fnyq/nt\n",
    "faxis = df*np.arange(nf)\n",
    "\n",
    "# Ricker wavelet in frew domain\n",
    "R=np.zeros((nf))\n",
    "for ff in range(0,nf-1):\n",
    "    R[ff]=2/np.sqrt(np.pi)*faxis[ff]**3/f0**3*np.exp(-faxis[ff]**2/f0**2)"
   ]
  },
  {
   "cell_type": "markdown",
   "metadata": {},
   "source": [
    "# Analytical expression\n",
    "\\begin{eqnarray}\n",
    "u_s(\\rho, \\phi, t) = \\frac{1}{2\\pi} \\int_{-\\infty}^{\\infty} \\{ -i \\pi H_0^{(2)}\\left(k | \\sigma - \\sigma_s| \\right) F(\\omega) e^{i\\omega t} d\\omega\\}\n",
    "\\end{eqnarray}"
   ]
  },
  {
   "cell_type": "code",
   "execution_count": 2,
   "metadata": {
    "collapsed": false
   },
   "outputs": [],
   "source": [
    "# Ricker wavelet time domain\n",
    "def ricker(f, length=0.512, dt=0.001):\n",
    "    t = np.linspace(-length/2, (length-dt)/2, length/dt)\n",
    "    y = (1.0 - 2.0*(np.pi**2)*(f**2)*(t**2)) * np.exp(-(np.pi**2)*(f**2)*(t**2))\n",
    "    return t, y\n",
    " \n",
    "f = 5 # A low wavelength of 5 Hz\n",
    "t, y = ricker(f)\n",
    " \n",
    "plt.plot(t, y)\n",
    "plt.show()"
   ]
  },
  {
   "cell_type": "code",
   "execution_count": 3,
   "metadata": {
    "collapsed": false
   },
   "outputs": [],
   "source": [
    "nx=100\n",
    "ny=100\n",
    "h=5\n",
    "xsrc=50\n",
    "ysrc=50\n",
    "v=1000\n",
    "\n",
    "\n",
    "U_a=np.zeros((nx,ny,nf),dtype=complex)\n",
    "for a in range(1,nf-1):\n",
    "    k = 2*np.pi*faxis[a]/v\n",
    "    for m in range(0,nx):\n",
    "        for n in range(0,ny):\n",
    "            tmp = k*np.sqrt((h*(m - xsrc))**2 + (h*(n - ysrc))**2)\n",
    "            U_a[m,n,a] = -1j*np.pi* hankel2(0,tmp)*R[a]"
   ]
  },
  {
   "cell_type": "code",
   "execution_count": 4,
   "metadata": {
    "collapsed": false
   },
   "outputs": [],
   "source": [
    "# Do inverse fft on 0:dt:T (third dimension on U) and you have analytical solution o\n",
    "U_t=np.zeros((nx,ny,nf))\n",
    "for m in range(0,nx):\n",
    "     for n in range(0,ny):\n",
    "        U_t[m,n,:]=np.real(np.fft.ifft(U_a[m,n,:]))"
   ]
  },
  {
   "cell_type": "code",
   "execution_count": 5,
   "metadata": {
    "collapsed": false
   },
   "outputs": [],
   "source": [
    "from matplotlib import animation\n",
    "fig = plt.figure()\n",
    "plts = []             # get ready to populate this list the Line artists to be plotted\n",
    "plt.hold(\"off\")\n",
    "for i in range(1,nf):\n",
    "    r = plt.imshow(U_t[:,:,nf-i])   # this is how you'd plot a single line...\n",
    "    plts.append( [r] )  \n",
    "ani = animation.ArtistAnimation(fig, plts, interval=50,  repeat = False)   # run the animation\n",
    "plt.show()"
   ]
  },
  {
   "cell_type": "code",
   "execution_count": null,
   "metadata": {
    "collapsed": true
   },
   "outputs": [],
   "source": []
  },
  {
   "cell_type": "code",
   "execution_count": null,
   "metadata": {
    "collapsed": true
   },
   "outputs": [],
   "source": []
  }
 ],
 "metadata": {
  "kernelspec": {
   "display_name": "Python 2",
   "language": "python",
   "name": "python2"
  },
  "language_info": {
   "codemirror_mode": {
    "name": "ipython",
    "version": 2
   },
   "file_extension": ".py",
   "mimetype": "text/x-python",
   "name": "python",
   "nbconvert_exporter": "python",
   "pygments_lexer": "ipython2",
   "version": "2.7.6"
  }
 },
 "nbformat": 4,
 "nbformat_minor": 0
}

{
 "cells": [
  {
   "cell_type": "code",
   "execution_count": 1,
   "metadata": {
    "collapsed": true
   },
   "outputs": [],
   "source": [
    "from sympy import *\n",
    "from sympy.abc import *\n",
    "from sympy.galgebra.ga import *\n",
    "import numpy as np\n",
    "from numpy import linalg as LA\n",
    "from __future__ import print_function\n",
    "init_printing()"
   ]
  },
  {
   "cell_type": "markdown",
   "metadata": {},
   "source": [
    "# Multi order stencil for the 2D/3D acoustic isotropic wave equation"
   ]
  },
  {
   "cell_type": "code",
   "execution_count": 2,
   "metadata": {
    "collapsed": false
   },
   "outputs": [],
   "source": [
    "# Choose dimension (2 or 3)\n",
    "dim = 2\n",
    "# Choose order\n",
    "time_order = 6\n",
    "space_order = 12\n",
    "\n",
    "# half width for indexes, goes from -half to half\n",
    "width_t = int(time_order/2)\n",
    "width_h = int(space_order/2)"
   ]
  },
  {
   "cell_type": "code",
   "execution_count": 3,
   "metadata": {
    "collapsed": false
   },
   "outputs": [],
   "source": [
    "# Define functions and symbols\n",
    "p=Function('p')\n",
    "s,h = symbols('s h')\n",
    "if dim==2:\n",
    "    m=M(x,z)\n",
    "    q=Q(x,z,t)\n",
    "    d=D(x,z,t)\n",
    "    solvep = p(x,z,t+width_t*s)\n",
    "    solvepa = p(x,z,t-width_t*s)\n",
    "else :\n",
    "    m=M(x,y,z)\n",
    "    q=Q(x,y,z,t)\n",
    "    d=D(x,y,z,t)\n",
    "    solvep = p(x,y,z,t+width_t*s)\n",
    "    solvepa = p(x,y,z,t-width_t*s)"
   ]
  },
  {
   "cell_type": "code",
   "execution_count": 4,
   "metadata": {
    "collapsed": true
   },
   "outputs": [],
   "source": [
    "# Finite differences coefficients, not necessary here but good to have somewhere\n",
    "def fd_coeff_1(order):\n",
    "    if order==16:\n",
    "        coeffs = [0.000010, -0.000178, 0.001554, -0.008702, 0.035354, -0.113131, 0.311111, -0.888889, 0.000000,\n",
    "                  0.888889, -0.311111, 0.113131, -0.035354, 0.008702, -0.001554, 0.000178, -0.000010]\n",
    "        \n",
    "    if order==14:\n",
    "        coeffs = [-0.000042, 0.000680, -0.005303, 0.026515, -0.097222, 0.291667, -0.875000, 0.000000,\n",
    "                  0.875000, -0.291667, 0.097222, -0.026515, 0.005303, -0.000680, 0.000042]\n",
    "        \n",
    "    if order==12:\n",
    "        coeffs = [ 0.0002, -0.0026, 0.0179, -0.0794, 0.2679, -0.8571, -0.0000, 0.8571, -0.2679, 0.0794, -0.0179, 0.0026, -0.0002]\n",
    "        \n",
    "    if order==10:\n",
    "        coeffs =[-0.0008 , 0.0099, -0.0595, 0.2381, -0.8333, 0.0000, 0.8333, -0.2381, 0.0595, -0.0099, 0.0008]\n",
    "        \n",
    "    if order==8:\n",
    "        coeffs = [1.0/280, -4.0/105, 1.0/5, -4.0/5, 0, 4.0/5, -1.0/5,4.0/105,-1.0/280]\n",
    "    \n",
    "    if space_order==6:\n",
    "        coeffs = [-1.0/60, 3.0/20, -3.0/4, 0, 3.0/4, -3.0/20, 1.0/60]\n",
    "    \n",
    "    if space_order==4:\n",
    "        coeffs = [1.0/12, -2.0/3, 0, 2.0/3, -1.0/12]\n",
    "    \n",
    "    if space_order==2:\n",
    "        coeffs = [-0.5, 0, 0.5]\n",
    "        \n",
    "def fd_coeff_2(ordrer):\n",
    "    if order==16:\n",
    "        coeffs = [-0.000002, 0.000051, -0.000518, 0.003481, -0.017677, 0.075421, -0.311111, 1.777778, -3.054844,\n",
    "                  1.777778, -0.311111, 0.075421, -0.017677, 0.003481, -0.000518, 0.000051, -0.000002]\n",
    "        \n",
    "    if order==14:\n",
    "        coeffs = [0.000012, -0.000227, 0.002121, -0.013258, 0.064815, -0.291667, 1.750000, -3.023594, \n",
    "                  1.750000, -0.291667, 0.064815, -0.013258, 0.002121, -0.000227, 0.000012]\n",
    "        \n",
    "    if order==12:\n",
    "        coeffs = [-0.000060, 0.001039, -0.008929, 0.052910, -0.267857, 1.714286, -2.982778,\n",
    "                  1.714286, -0.267857, 0.052910, -0.008929, 0.001039, -0.000060]\n",
    "        \n",
    "    if order==10:\n",
    "        coeffs = [0.000317, -0.004960, 0.039683, -0.238095, 1.666667, -2.927222,\n",
    "                  1.666667, -0.238095, 0.039683, -0.004960, 0.000317]\n",
    "        \n",
    "    if order==8:\n",
    "        coeffs = [-0.001786, 0.025397, -0.200000, 1.600000, -2.847222, 1.600000, -0.200000, 0.025397, -0.001786]\n",
    "    \n",
    "    if space_order==6:\n",
    "        coeffs = [0.011111, -0.150000, 1.500000, -2.722222, 1.500000, -0.150000, 0.01111]\n",
    "    \n",
    "    if space_order==4:\n",
    "        coeffs = [-0.083333, 1.333333, -2.500000, 1.333333, -0.08333]\n",
    "    \n",
    "    if space_order==2:\n",
    "        coeffs = [1, -2, 1]"
   ]
  },
  {
   "cell_type": "code",
   "execution_count": 5,
   "metadata": {
    "collapsed": false
   },
   "outputs": [],
   "source": [
    "# Indexes for finite differences\n",
    "indx = []\n",
    "indy = []\n",
    "indz = []\n",
    "indt = []\n",
    "for i in range(-width_h,width_h+1):\n",
    "    indx.append(x + i * h)\n",
    "    indy.append(y + i * h)\n",
    "    indz.append(z + i* h)\n",
    "    \n",
    "for i in range(-width_t,width_t+1):\n",
    "    indt.append(t + i * s)"
   ]
  },
  {
   "cell_type": "code",
   "execution_count": 6,
   "metadata": {
    "collapsed": false
   },
   "outputs": [],
   "source": [
    "# Finite differences\n",
    "if dim==2:\n",
    "    dtt=as_finite_diff(p(x,z,t).diff(t,t),indt)\n",
    "    dxx=as_finite_diff(p(x,z,t).diff(x,x), indx) \n",
    "    dzz=as_finite_diff(p(x,z,t).diff(z,z), indz)\n",
    "    dt=as_finite_diff(p(x,z,t).diff(t), indt)\n",
    "    lap = dxx + dzz\n",
    "else:\n",
    "    dtt=as_finite_diff(p(x,y,z,t).diff(t,t),indt)\n",
    "    dxx=as_finite_diff(p(x,y,z,t).diff(x,x), indx) \n",
    "    dyy=as_finite_diff(p(x,y,z,t).diff(y,y), indy) \n",
    "    dzz=as_finite_diff(p(x,y,z,t).diff(z,z), indz)\n",
    "    dt=as_finite_diff(p(x,y,z,t).diff(t), indt)\n",
    "    lap = dxx + dyy + dzz"
   ]
  },
  {
   "cell_type": "code",
   "execution_count": 7,
   "metadata": {
    "collapsed": false
   },
   "outputs": [],
   "source": [
    "# Argument list for lambdify\n",
    "arglamb=[]\n",
    "arglamba=[]\n",
    "if dim==2:\n",
    "    for i in range(-width_t,width_t):\n",
    "        arglamb.append( p(x,z,indt[i+width_t]))\n",
    "        arglamba.append( p(x,z,indt[i+width_t+1]))\n",
    "        \n",
    "    for i in range(-width_h,width_h+1):\n",
    "        for j in range(-width_h,width_h+1):\n",
    "            arglamb.append( p(indx[i+width_h],indz[j+width_h],t))\n",
    "            arglamba.append( p(indx[i+width_h],indz[j+width_h],t))\n",
    "else:\n",
    "    for i in range(-width_t,width_t):\n",
    "        arglamb.append( p(x,y,z,indt[i+width_t]))\n",
    "        arglamba.append( p(x,y,z,indt[i+width_t+1]))\n",
    "        \n",
    "    for i in range(-width_h,width_h+1):\n",
    "        for j in range(-width_h,width_h+1):\n",
    "            for k in range(-width_h,width_h+1):\n",
    "                arglamb.append( p(indx[i+width_h],indy[i+width_h],indz[j+width_h],t))\n",
    "                arglamba.append( p(indx[i+width_h],indy[i+width_h],indz[j+width_h],t))\n",
    "        \n",
    "arglamb.extend((q , m, s, h, e))\n",
    "arglamb=tuple(arglamb)\n",
    "arglamba.extend((q , m, s, h, e))\n",
    "arglamba=tuple(arglamba)"
   ]
  },
  {
   "cell_type": "code",
   "execution_count": 8,
   "metadata": {
    "collapsed": false
   },
   "outputs": [
    {
     "data": {
      "image/png": "[encoded data removed]",
      "text/latex": [
       "$$p{\\left (x,z,- 3 s + t \\right )}$$"
      ],
      "text/plain": [
       "p(x, z, -3⋅s + t)"
      ]
     },
     "execution_count": 8,
     "metadata": {},
     "output_type": "execute_result"
    }
   ],
   "source": [
    "solvepa"
   ]
  },
  {
   "cell_type": "markdown",
   "metadata": {},
   "source": [
    "# Forward and adjoint stencil \n",
    "2D-3D is automatic from the setup"
   ]
  },
  {
   "cell_type": "code",
   "execution_count": 9,
   "metadata": {
    "collapsed": false
   },
   "outputs": [
    {
     "data": {
      "image/png": "[encoded data removed]",
      "text/latex": [
       "$$\\frac{1}{4620 h^{2} \\left(3 e s + 2 M{\\left (x,z \\right )}\\right)} \\left(13860 e h^{2} s p{\\left (x,z,- 3 s + t \\right )} - 124740 e h^{2} s p{\\left (x,z,- 2 s + t \\right )} + 623700 e h^{2} s p{\\left (x,z,- s + t \\right )} - 623700 e h^{2} s p{\\left (x,z,s + t \\right )} + 124740 e h^{2} s p{\\left (x,z,2 s + t \\right )} + 831600 h^{2} s^{2} Q{\\left (x,z,t \\right )} + 2263800 h^{2} M{\\left (x,z \\right )} p{\\left (x,z,t \\right )} - 9240 h^{2} M{\\left (x,z \\right )} p{\\left (x,z,- 3 s + t \\right )} + 124740 h^{2} M{\\left (x,z \\right )} p{\\left (x,z,- 2 s + t \\right )} - 1247400 h^{2} M{\\left (x,z \\right )} p{\\left (x,z,- s + t \\right )} - 1247400 h^{2} M{\\left (x,z \\right )} p{\\left (x,z,s + t \\right )} + 124740 h^{2} M{\\left (x,z \\right )} p{\\left (x,z,2 s + t \\right )} - 4960956 s^{2} p{\\left (x,z,t \\right )} - 50 s^{2} p{\\left (x,- 6 h + z,t \\right )} + 864 s^{2} p{\\left (x,- 5 h + z,t \\right )} - 7425 s^{2} p{\\left (x,- 4 h + z,t \\right )} + 44000 s^{2} p{\\left (x,- 3 h + z,t \\right )} - 222750 s^{2} p{\\left (x,- 2 h + z,t \\right )} + 1425600 s^{2} p{\\left (x,- h + z,t \\right )} + 1425600 s^{2} p{\\left (x,h + z,t \\right )} - 222750 s^{2} p{\\left (x,2 h + z,t \\right )} + 44000 s^{2} p{\\left (x,3 h + z,t \\right )} - 7425 s^{2} p{\\left (x,4 h + z,t \\right )} + 864 s^{2} p{\\left (x,5 h + z,t \\right )} - 50 s^{2} p{\\left (x,6 h + z,t \\right )} - 50 s^{2} p{\\left (- 6 h + x,z,t \\right )} + 864 s^{2} p{\\left (- 5 h + x,z,t \\right )} - 7425 s^{2} p{\\left (- 4 h + x,z,t \\right )} + 44000 s^{2} p{\\left (- 3 h + x,z,t \\right )} - 222750 s^{2} p{\\left (- 2 h + x,z,t \\right )} + 1425600 s^{2} p{\\left (- h + x,z,t \\right )} + 1425600 s^{2} p{\\left (h + x,z,t \\right )} - 222750 s^{2} p{\\left (2 h + x,z,t \\right )} + 44000 s^{2} p{\\left (3 h + x,z,t \\right )} - 7425 s^{2} p{\\left (4 h + x,z,t \\right )} + 864 s^{2} p{\\left (5 h + x,z,t \\right )} - 50 s^{2} p{\\left (6 h + x,z,t \\right )}\\right)$$"
      ],
      "text/plain": [
       "         2                                 2                                 2\n",
       "13860⋅e⋅h ⋅s⋅p(x, z, -3⋅s + t) - 124740⋅e⋅h ⋅s⋅p(x, z, -2⋅s + t) + 623700⋅e⋅h \n",
       "──────────────────────────────────────────────────────────────────────────────\n",
       "                                                                              \n",
       "                                                                              \n",
       "\n",
       "                               2                              2               \n",
       "⋅s⋅p(x, z, -s + t) - 623700⋅e⋅h ⋅s⋅p(x, z, s + t) + 124740⋅e⋅h ⋅s⋅p(x, z, 2⋅s \n",
       "──────────────────────────────────────────────────────────────────────────────\n",
       "                                                                              \n",
       "                                                                              \n",
       "\n",
       "               2  2                       2                            2      \n",
       "+ t) + 831600⋅h ⋅s ⋅Q(x, z, t) + 2263800⋅h ⋅M(x, z)⋅p(x, z, t) - 9240⋅h ⋅M(x, \n",
       "──────────────────────────────────────────────────────────────────────────────\n",
       "                                                                              \n",
       "                                                                              \n",
       "\n",
       "                               2                                      2       \n",
       "z)⋅p(x, z, -3⋅s + t) + 124740⋅h ⋅M(x, z)⋅p(x, z, -2⋅s + t) - 1247400⋅h ⋅M(x, z\n",
       "──────────────────────────────────────────────────────────────────────────────\n",
       "                                                                              \n",
       "                                                                              \n",
       "\n",
       "                             2                                  2             \n",
       ")⋅p(x, z, -s + t) - 1247400⋅h ⋅M(x, z)⋅p(x, z, s + t) + 124740⋅h ⋅M(x, z)⋅p(x,\n",
       "──────────────────────────────────────────────────────────────────────────────\n",
       "                                                                              \n",
       "                                                                              \n",
       "\n",
       "                        2                  2                          2       \n",
       " z, 2⋅s + t) - 4960956⋅s ⋅p(x, z, t) - 50⋅s ⋅p(x, -6⋅h + z, t) + 864⋅s ⋅p(x, -\n",
       "──────────────────────────────────────────────────────────────────────────────\n",
       "                                                                              \n",
       "                                                                              \n",
       "\n",
       "                    2                            2                            \n",
       "5⋅h + z, t) - 7425⋅s ⋅p(x, -4⋅h + z, t) + 44000⋅s ⋅p(x, -3⋅h + z, t) - 222750⋅\n",
       "──────────────────────────────────────────────────────────────────────────────\n",
       "                                                                     2        \n",
       "                                                               4620⋅h ⋅(3⋅e⋅s \n",
       "\n",
       " 2                              2                            2                \n",
       "s ⋅p(x, -2⋅h + z, t) + 1425600⋅s ⋅p(x, -h + z, t) + 1425600⋅s ⋅p(x, h + z, t) \n",
       "──────────────────────────────────────────────────────────────────────────────\n",
       "                                                                              \n",
       "+ 2⋅M(x, z))                                                                  \n",
       "\n",
       "          2                           2                          2            \n",
       "- 222750⋅s ⋅p(x, 2⋅h + z, t) + 44000⋅s ⋅p(x, 3⋅h + z, t) - 7425⋅s ⋅p(x, 4⋅h + \n",
       "──────────────────────────────────────────────────────────────────────────────\n",
       "                                                                              \n",
       "                                                                              \n",
       "\n",
       "             2                        2                        2              \n",
       "z, t) + 864⋅s ⋅p(x, 5⋅h + z, t) - 50⋅s ⋅p(x, 6⋅h + z, t) - 50⋅s ⋅p(-6⋅h + x, z\n",
       "──────────────────────────────────────────────────────────────────────────────\n",
       "                                                                              \n",
       "                                                                              \n",
       "\n",
       "            2                           2                            2        \n",
       ", t) + 864⋅s ⋅p(-5⋅h + x, z, t) - 7425⋅s ⋅p(-4⋅h + x, z, t) + 44000⋅s ⋅p(-3⋅h \n",
       "──────────────────────────────────────────────────────────────────────────────\n",
       "                                                                              \n",
       "                                                                              \n",
       "\n",
       "                     2                              2                         \n",
       "+ x, z, t) - 222750⋅s ⋅p(-2⋅h + x, z, t) + 1425600⋅s ⋅p(-h + x, z, t) + 142560\n",
       "──────────────────────────────────────────────────────────────────────────────\n",
       "                                                                              \n",
       "                                                                              \n",
       "\n",
       "   2                          2                           2                   \n",
       "0⋅s ⋅p(h + x, z, t) - 222750⋅s ⋅p(2⋅h + x, z, t) + 44000⋅s ⋅p(3⋅h + x, z, t) -\n",
       "──────────────────────────────────────────────────────────────────────────────\n",
       "                                                                              \n",
       "                                                                              \n",
       "\n",
       "       2                         2                        2                 \n",
       " 7425⋅s ⋅p(4⋅h + x, z, t) + 864⋅s ⋅p(5⋅h + x, z, t) - 50⋅s ⋅p(6⋅h + x, z, t)\n",
       "────────────────────────────────────────────────────────────────────────────\n",
       "                                                                            \n",
       "                                                                            "
      ]
     },
     "execution_count": 9,
     "metadata": {},
     "output_type": "execute_result"
    }
   ],
   "source": [
    "# Forward wave equation\n",
    "wave_equation = m*dtt- lap- q  + e*dt\n",
    "stencil = solve(wave_equation,solvep)[0]\n",
    "ts=lambdify(arglamb,stencil,\"numpy\")\n",
    "stencil"
   ]
  },
  {
   "cell_type": "code",
   "execution_count": 10,
   "metadata": {
    "collapsed": false
   },
   "outputs": [
    {
     "data": {
      "image/png": "[encoded data removed]",
      "text/latex": [
       "$$\\frac{1}{4620 h^{2} \\left(3 e s + 2 M{\\left (x,z \\right )}\\right)} \\left(124740 e h^{2} s p{\\left (x,z,- 2 s + t \\right )} - 623700 e h^{2} s p{\\left (x,z,- s + t \\right )} + 623700 e h^{2} s p{\\left (x,z,s + t \\right )} - 124740 e h^{2} s p{\\left (x,z,2 s + t \\right )} + 13860 e h^{2} s p{\\left (x,z,3 s + t \\right )} + 831600 h^{2} s^{2} D{\\left (x,z,t \\right )} + 2263800 h^{2} M{\\left (x,z \\right )} p{\\left (x,z,t \\right )} + 124740 h^{2} M{\\left (x,z \\right )} p{\\left (x,z,- 2 s + t \\right )} - 1247400 h^{2} M{\\left (x,z \\right )} p{\\left (x,z,- s + t \\right )} - 1247400 h^{2} M{\\left (x,z \\right )} p{\\left (x,z,s + t \\right )} + 124740 h^{2} M{\\left (x,z \\right )} p{\\left (x,z,2 s + t \\right )} - 9240 h^{2} M{\\left (x,z \\right )} p{\\left (x,z,3 s + t \\right )} - 4960956 s^{2} p{\\left (x,z,t \\right )} - 50 s^{2} p{\\left (x,- 6 h + z,t \\right )} + 864 s^{2} p{\\left (x,- 5 h + z,t \\right )} - 7425 s^{2} p{\\left (x,- 4 h + z,t \\right )} + 44000 s^{2} p{\\left (x,- 3 h + z,t \\right )} - 222750 s^{2} p{\\left (x,- 2 h + z,t \\right )} + 1425600 s^{2} p{\\left (x,- h + z,t \\right )} + 1425600 s^{2} p{\\left (x,h + z,t \\right )} - 222750 s^{2} p{\\left (x,2 h + z,t \\right )} + 44000 s^{2} p{\\left (x,3 h + z,t \\right )} - 7425 s^{2} p{\\left (x,4 h + z,t \\right )} + 864 s^{2} p{\\left (x,5 h + z,t \\right )} - 50 s^{2} p{\\left (x,6 h + z,t \\right )} - 50 s^{2} p{\\left (- 6 h + x,z,t \\right )} + 864 s^{2} p{\\left (- 5 h + x,z,t \\right )} - 7425 s^{2} p{\\left (- 4 h + x,z,t \\right )} + 44000 s^{2} p{\\left (- 3 h + x,z,t \\right )} - 222750 s^{2} p{\\left (- 2 h + x,z,t \\right )} + 1425600 s^{2} p{\\left (- h + x,z,t \\right )} + 1425600 s^{2} p{\\left (h + x,z,t \\right )} - 222750 s^{2} p{\\left (2 h + x,z,t \\right )} + 44000 s^{2} p{\\left (3 h + x,z,t \\right )} - 7425 s^{2} p{\\left (4 h + x,z,t \\right )} + 864 s^{2} p{\\left (5 h + x,z,t \\right )} - 50 s^{2} p{\\left (6 h + x,z,t \\right )}\\right)$$"
      ],
      "text/plain": [
       "          2                                 2                               2 \n",
       "124740⋅e⋅h ⋅s⋅p(x, z, -2⋅s + t) - 623700⋅e⋅h ⋅s⋅p(x, z, -s + t) + 623700⋅e⋅h ⋅\n",
       "──────────────────────────────────────────────────────────────────────────────\n",
       "                                                                              \n",
       "                                                                              \n",
       "\n",
       "                             2                               2                \n",
       "s⋅p(x, z, s + t) - 124740⋅e⋅h ⋅s⋅p(x, z, 2⋅s + t) + 13860⋅e⋅h ⋅s⋅p(x, z, 3⋅s +\n",
       "──────────────────────────────────────────────────────────────────────────────\n",
       "                                                                              \n",
       "                                                                              \n",
       "\n",
       "              2  2                       2                              2     \n",
       " t) + 831600⋅h ⋅s ⋅D(x, z, t) + 2263800⋅h ⋅M(x, z)⋅p(x, z, t) + 124740⋅h ⋅M(x,\n",
       "──────────────────────────────────────────────────────────────────────────────\n",
       "                                                                              \n",
       "                                                                              \n",
       "\n",
       "                                 2                                    2       \n",
       " z)⋅p(x, z, -2⋅s + t) - 1247400⋅h ⋅M(x, z)⋅p(x, z, -s + t) - 1247400⋅h ⋅M(x, z\n",
       "──────────────────────────────────────────────────────────────────────────────\n",
       "                                                                              \n",
       "                                                                              \n",
       "\n",
       "                           2                                  2               \n",
       ")⋅p(x, z, s + t) + 124740⋅h ⋅M(x, z)⋅p(x, z, 2⋅s + t) - 9240⋅h ⋅M(x, z)⋅p(x, z\n",
       "──────────────────────────────────────────────────────────────────────────────\n",
       "                                                                              \n",
       "                                                                              \n",
       "\n",
       "                      2                  2                          2         \n",
       ", 3⋅s + t) - 4960956⋅s ⋅p(x, z, t) - 50⋅s ⋅p(x, -6⋅h + z, t) + 864⋅s ⋅p(x, -5⋅\n",
       "──────────────────────────────────────────────────────────────────────────────\n",
       "                                                                              \n",
       "                                                                              \n",
       "\n",
       "                  2                            2                             2\n",
       "h + z, t) - 7425⋅s ⋅p(x, -4⋅h + z, t) + 44000⋅s ⋅p(x, -3⋅h + z, t) - 222750⋅s \n",
       "──────────────────────────────────────────────────────────────────────────────\n",
       "                                                                    2         \n",
       "                                                              4620⋅h ⋅(3⋅e⋅s +\n",
       "\n",
       "                              2                            2                  \n",
       "⋅p(x, -2⋅h + z, t) + 1425600⋅s ⋅p(x, -h + z, t) + 1425600⋅s ⋅p(x, h + z, t) - \n",
       "──────────────────────────────────────────────────────────────────────────────\n",
       "                                                                              \n",
       " 2⋅M(x, z))                                                                   \n",
       "\n",
       "        2                           2                          2              \n",
       "222750⋅s ⋅p(x, 2⋅h + z, t) + 44000⋅s ⋅p(x, 3⋅h + z, t) - 7425⋅s ⋅p(x, 4⋅h + z,\n",
       "──────────────────────────────────────────────────────────────────────────────\n",
       "                                                                              \n",
       "                                                                              \n",
       "\n",
       "           2                        2                        2                \n",
       " t) + 864⋅s ⋅p(x, 5⋅h + z, t) - 50⋅s ⋅p(x, 6⋅h + z, t) - 50⋅s ⋅p(-6⋅h + x, z, \n",
       "──────────────────────────────────────────────────────────────────────────────\n",
       "                                                                              \n",
       "                                                                              \n",
       "\n",
       "          2                           2                            2          \n",
       "t) + 864⋅s ⋅p(-5⋅h + x, z, t) - 7425⋅s ⋅p(-4⋅h + x, z, t) + 44000⋅s ⋅p(-3⋅h + \n",
       "──────────────────────────────────────────────────────────────────────────────\n",
       "                                                                              \n",
       "                                                                              \n",
       "\n",
       "                   2                              2                           \n",
       "x, z, t) - 222750⋅s ⋅p(-2⋅h + x, z, t) + 1425600⋅s ⋅p(-h + x, z, t) + 1425600⋅\n",
       "──────────────────────────────────────────────────────────────────────────────\n",
       "                                                                              \n",
       "                                                                              \n",
       "\n",
       " 2                          2                           2                     \n",
       "s ⋅p(h + x, z, t) - 222750⋅s ⋅p(2⋅h + x, z, t) + 44000⋅s ⋅p(3⋅h + x, z, t) - 7\n",
       "──────────────────────────────────────────────────────────────────────────────\n",
       "                                                                              \n",
       "                                                                              \n",
       "\n",
       "     2                         2                        2                 \n",
       "425⋅s ⋅p(4⋅h + x, z, t) + 864⋅s ⋅p(5⋅h + x, z, t) - 50⋅s ⋅p(6⋅h + x, z, t)\n",
       "──────────────────────────────────────────────────────────────────────────\n",
       "                                                                          \n",
       "                                                                          "
      ]
     },
     "execution_count": 10,
     "metadata": {},
     "output_type": "execute_result"
    }
   ],
   "source": [
    "# Adjoint wave equation\n",
    "wave_equationA = m*dtt- lap - d - e*dt\n",
    "stencilA = solve(wave_equationA,solvepa)[0]\n",
    "tsA=lambdify(arglamba,stencilA,\"numpy\")\n",
    "stencilA"
   ]
  },
  {
   "cell_type": "code",
   "execution_count": null,
   "metadata": {
    "collapsed": true
   },
   "outputs": [],
   "source": []
  }
 ],
 "metadata": {
  "kernelspec": {
   "display_name": "Python 3",
   "language": "python",
   "name": "python3"
  },
  "language_info": {
   "codemirror_mode": {
    "name": "ipython",
    "version": 3
   },
   "file_extension": ".py",
   "mimetype": "text/x-python",
   "name": "python",
   "nbconvert_exporter": "python",
   "pygments_lexer": "ipython3",
   "version": "3.5.1"
  }
 },
 "nbformat": 4,
 "nbformat_minor": 0
}

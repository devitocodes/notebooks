{
 "cells": [
  {
   "cell_type": "code",
   "execution_count": 1,
   "metadata": {
    "collapsed": true
   },
   "outputs": [],
   "source": [
    "from sympy import *\n",
    "from sympy.abc import *\n",
    "from sympy.galgebra.ga import *\n",
    "import numpy as np\n",
    "from numpy import linalg as LA\n",
    "from __future__ import print_function\n",
    "init_printing()"
   ]
  },
  {
   "cell_type": "markdown",
   "metadata": {},
   "source": [
    "# Operational intensity of  differential operation\n",
    "\n",
    "We consder  differential operation on a vector $u$ at a given point in 3D with a 1D stencil size $k$ (number of points in the stencil) for every order, the subindex $i$ represent the dimension number $1$ for z, $2$ for $x$ and 3 for $y$, \n",
    "\n",
    "First order :\n",
    "$\n",
    "\\frac{d u}{dx_i}\n",
    "$\n",
    "\n",
    "Second order :\n",
    "$\n",
    "\\frac{d^2 u}{dx_i^2}\n",
    "$\n",
    "\n",
    "Second order cross derivative\n",
    "$\n",
    "\\frac{d^2 u}{dx_i dx_j}\n",
    "$"
   ]
  },
  {
   "cell_type": "code",
   "execution_count": 2,
   "metadata": {
    "collapsed": false
   },
   "outputs": [],
   "source": [
    "# Arithmetic operations\n",
    "k = symbols('k')\n",
    "s = symbols('s')\n",
    "# 1D stencil\n",
    "#                multiplication         addition\n",
    "AI_dxi   =              k            +    k - 1\n",
    "AI_dxxi  =           k + 1           +    k - 1\n",
    "AI_dxxij =    (k+1)**2 - 2*k + 1 + 1 +   (k+1)**2 - 2*k + 1 -1"
   ]
  },
  {
   "cell_type": "code",
   "execution_count": 3,
   "metadata": {
    "collapsed": true
   },
   "outputs": [],
   "source": [
    "# I/O operations\n",
    "#                    load          \n",
    "IO_dxi   =           k             \n",
    "IO_dxxi  =           k             \n",
    "IO_dxxij =    (k+1)**2 - 2*k + 1   "
   ]
  },
  {
   "cell_type": "code",
   "execution_count": 4,
   "metadata": {
    "collapsed": false
   },
   "outputs": [
    {
     "name": "stdout",
     "output_type": "stream",
     "text": [
      "(2*k - 1)/(4*k)\n",
      "1/2\n",
      "(-4*k + 2*(k + 1)**2 + 2)/(-8*k + 4*(k + 1)**2 + 4)\n"
     ]
    }
   ],
   "source": [
    "# Operational intensity in sing;e precision\n",
    "\n",
    "print(AI_dxi/(4*IO_dxi))\n",
    "print(AI_dxxi/(4*IO_dxxi))\n",
    "print(AI_dxxij/(4*IO_dxxij))\n",
    "\n",
    "OI_dxi   = lambdify(k,AI_dxi/(4*IO_dxi))\n",
    "OI_dxxi  = lambdify(k,AI_dxxi/(4*IO_dxxi))\n",
    "OI_dxxij = lambdify(k,AI_dxxij/(4*IO_dxxij))"
   ]
  },
  {
   "cell_type": "markdown",
   "metadata": {},
   "source": [
    "# Operational intensity of  wave equations\n",
    "\n",
    "We now consider geophysical wave equations to obtain the theoretical expression of the operational intensity. We write directly the expression of a single time step as a function of differential operators. An operation on a wavefield is counted only once as we consider the minimum of arithmetic operations required.\n",
    "\n",
    "## Acoustic isotropic\n",
    "\n",
    "$ u(x,y,z,t+dt) = dt^2 v^2(x,y,z) ( 2 u(x,y,z,t) + u(x,y,z,t-dt) + \\nabla^2 u(x,y,z,t) +q )  $\n",
    "\n",
    "## VTI\n",
    "$ p(x,y,z,t+dt) = dt^2 v^2(x,y,z) \\left( 2 p(x,y,z,t) + p(x,y,z,t-dt) +(1+2\\epsilon)(\\frac{d^2 p(x,t)}{dx^2}+ \\frac{d^2 p(x,t)}{dy^2}) + \\sqrt{(1+2\\delta)} \\frac{d^2 r(x,t)}{dz^2} + q \\right)  $\n",
    "$ r(x,y,z,t+dt) = dt^2 v^2(x,y,z) \\left( 2 r(x,y,z,t) + r(x,y,z,t-dt) +\\sqrt{(1+2\\delta)}(\\frac{d^2 p(x,t)}{dx^2}+ \\frac{d^2 p(x,t)}{dy^2}) +  \\frac{d^2 r(x,t)}{dz^2} + q \\right)   $\n",
    "\n",
    "\n",
    "## TTI\n",
    "$  p(x,y,z,t+dt) = dt^2 v^2(x,y,z) \\left( 2 p(x,y,z,t) + p(x,y,z,t-dt) + (1+2\\epsilon) (G_{\\bar{x}\\bar{x}} + G_{\\bar{y}\\bar{y}}) p(x,y,z,t) + \\sqrt{(1+2\\delta)} G_{\\bar{z}\\bar{z}} r(x,y,z,t) + q \\right)  $\n",
    "$  r(x,y,z,t+dt) = dt^2 v^2(x,y,z) \\left( 2 r(x,y,z,t) + r(x,y,z,t-dt) + \\sqrt{(1+2\\delta)}(G_{\\bar{x}\\bar{x}} + G_{\\bar{y}\\bar{y}}) p(x,y,z,t) + G_{\\bar{z}\\bar{z}} r(x,y,z) +q  \\right)  $\n",
    "\n",
    "where\n",
    "$\n",
    "\\begin{cases} \n",
    "G_{\\bar{x}\\bar{x}} & = cos(\\phi)^2 cos(\\theta)^2 \\frac{d^2}{dx^2} +sin(\\phi)^2 cos(\\theta)^2 \\frac{d^2}{dy^2}+ sin(\\theta)^2 \\frac{d^2}{dz^2} + sin(2\\phi) cos(\\theta)^2 \\frac{d^2}{dx dy} - sin(\\phi) sin(2\\theta) \\frac{d^2}{dy dz} -cos(\\phi) sin(2\\theta) \\frac{d^2}{dx dz} \\\\\n",
    "G_{\\bar{y}\\bar{y}} & =  sin(\\phi)^2 \\frac{d^2}{dx^2} +cos(\\phi)^2  \\frac{d^2}{dy^2} - sin(2\\phi)^2 \\frac{d^2}{dx dy}\\\\\n",
    "G_{\\bar{z}\\bar{z}} & = cos(\\phi)^2 sin(\\theta)^2 \\frac{d^2}{dx^2} +sin(\\phi)^2 sin(\\theta)^2 \\frac{d^2}{dy^2}+ cos(\\theta)^2 \\frac{d^2}{dz^2} + sin(2\\phi) sin(\\theta)^2 \\frac{d^2}{dx dy} + sin(\\phi) sin(2\\theta) \\frac{d^2}{dy dz} +cos(\\phi) sin(2\\theta) \\frac{d^2}{dx dz} \\\\ \n",
    "\\end{cases}\n",
    "$"
   ]
  },
  {
   "cell_type": "code",
   "execution_count": 5,
   "metadata": {
    "collapsed": true
   },
   "outputs": [],
   "source": [
    "# Arithmetic\n",
    "#                    dxi             dxxi             dxxij        multiplications     additions   duplicates \n",
    "AI_acou =        0*AI_dxi    +    3*AI_dxxi   +    0*AI_dxxij    +        3          +     5     -  2 * 2\n",
    "AI_vti  = 2 * (  0*AI_dxi    +    3*AI_dxxi   +    0*AI_dxxij    +        5          +     5     -  2    )\n",
    "AI_tti  = 2 * (  0*AI_dxi    +    3*AI_dxxi   +    3*AI_dxxij    +        44         +     17    -  0    )"
   ]
  },
  {
   "cell_type": "code",
   "execution_count": 6,
   "metadata": {
    "collapsed": false
   },
   "outputs": [],
   "source": [
    "# I/O operations (we load a point once only)\n",
    "#                     dxi              dxxi             dxxij         duplicate   other load/write\n",
    "IO_acou   =         0*IO_dxi    +    3*IO_dxxi   +    0*IO_dxxij  -     2       +     3\n",
    "IO_acoum  =         0*IO_dxi    +    3*IO_dxxi   +    0*IO_dxxij  -     2       +     3    +  1 / s\n",
    "IO_vti    =  2 * (  0*IO_dxi    +    3*IO_dxxi   +    0*IO_dxxij  -     2       +     2      ) + 3\n",
    "IO_tti    =  2 * (  0*IO_dxi    +    3*IO_dxxi   +    3*IO_dxxij  -  3*k +2     +     4     )  + 7"
   ]
  },
  {
   "cell_type": "code",
   "execution_count": 7,
   "metadata": {
    "collapsed": false
   },
   "outputs": [
    {
     "name": "stdout",
     "output_type": "stream",
     "text": [
      "(3*k + 2)/(2*(3*k + 1))\n",
      "(3*k + 2)/(2*(3*k + 1))\n",
      "(6*k**2 + 6*k + 73)/(2*(6*k**2 + 31))\n",
      "s*(3*k + 2)/(2*(s*(3*k + 1) + 1))\n"
     ]
    }
   ],
   "source": [
    "print(simplify(AI_acou/(4*IO_acou)))\n",
    "print(simplify(AI_acou/(4*IO_acou)))\n",
    "print(simplify(AI_tti/(4*IO_tti)))\n",
    "print(simplify(AI_acou/(4*IO_acoum)))\n",
    "\n",
    "OI_acou  = lambdify(k,AI_acou/(4*IO_acou))\n",
    "OI_acoum = lambdify((k,s),AI_acou/(4*IO_acoum))\n",
    "OI_vti   = lambdify(k,AI_vti/(4*IO_vti))\n",
    "OI_tti   = lambdify(k,AI_tti/(4*IO_tti))"
   ]
  },
  {
   "cell_type": "code",
   "execution_count": 8,
   "metadata": {
    "collapsed": false
   },
   "outputs": [
    {
     "name": "stdout",
     "output_type": "stream",
     "text": [
      "1/2\n",
      "1/2\n",
      "1/2\n"
     ]
    }
   ],
   "source": [
    "print(limit(OI_acou(k),k,oo))\n",
    "print(limit(OI_vti(k),k,oo))\n",
    "print(limit(OI_tti(k),k,oo))\n"
   ]
  },
  {
   "cell_type": "code",
   "execution_count": 9,
   "metadata": {
    "collapsed": false
   },
   "outputs": [],
   "source": [
    "k=[2,4,6,8,10,12,14,16,18,20,22,24,26,28,30]\n",
    "OI_wave=np.zeros((15,3))\n",
    "OI=np.zeros((15,3))\n",
    "for i in range(0,15):\n",
    "    OI_wave[i,0]=OI_acou(k[i])\n",
    "    OI_wave[i,1]=OI_vti(k[i])\n",
    "    OI_wave[i,2]=OI_tti(k[i])\n",
    "    OI[i,0]=OI_dxi(k[i])\n",
    "    OI[i,1]=OI_dxxi(k[i])\n",
    "    OI[i,2]=OI_dxxij(k[i])"
   ]
  },
  {
   "cell_type": "code",
   "execution_count": 10,
   "metadata": {
    "collapsed": true
   },
   "outputs": [],
   "source": [
    "k=[2,4,6,8,10,12,14,16,18,20,22,24,26,28,30]\n",
    "s=[2,4,8,16,32,64,128,256]\n",
    "OI_wavem=np.zeros((15,8))\n",
    "for i in range(0,15):\n",
    "    for j in range(0,8):\n",
    "        OI_wavem[i,j]=OI_acoum(k[i],s[j])"
   ]
  },
  {
   "cell_type": "code",
   "execution_count": 17,
   "metadata": {
    "collapsed": true
   },
   "outputs": [],
   "source": [
    "import matplotlib.pyplot as plt"
   ]
  },
  {
   "cell_type": "code",
   "execution_count": 18,
   "metadata": {
    "collapsed": true
   },
   "outputs": [],
   "source": [
    "fig = plt.figure()\n",
    "plt.hold(\"off\")\n",
    "intensity = plt.plot(OI)   # this is how you'd plot a single line..."
   ]
  },
  {
   "cell_type": "code",
   "execution_count": 19,
   "metadata": {
    "collapsed": false
   },
   "outputs": [],
   "source": [
    "fig = plt.figure()\n",
    "plt.hold(\"off\")\n",
    "acou = plt.plot(OI_wave[:,0],label='acou')   # this is how you'd plot a single line...\n",
    "acou = plt.plot(OI_wavem[:,5],label='acoum')   # this is how you'd plot a single line...\n",
    "vti  = plt.plot(OI_wave[:,1],label='vti')   # this is how you'd plot a single line...\n",
    "tti  = plt.plot(OI_wave[:,2],label='tti')   # this is how you'd plot a single line..."
   ]
  },
  {
   "cell_type": "code",
   "execution_count": 20,
   "metadata": {
    "collapsed": true
   },
   "outputs": [],
   "source": [
    "fig = plt.figure()\n",
    "plt.hold(\"off\")\n",
    "intensity = plt.imshow(OI_wavem)   # this is how you'd plot a single line...\n",
    "plt.show()"
   ]
  },
  {
   "cell_type": "code",
   "execution_count": null,
   "metadata": {
    "collapsed": true
   },
   "outputs": [],
   "source": []
  }
 ],
 "metadata": {
  "kernelspec": {
   "display_name": "Python 3",
   "language": "python",
   "name": "python3"
  },
  "language_info": {
   "codemirror_mode": {
    "name": "ipython",
    "version": 3
   },
   "file_extension": ".py",
   "mimetype": "text/x-python",
   "name": "python",
   "nbconvert_exporter": "python",
   "pygments_lexer": "ipython3",
   "version": "3.5.1"
  }
 },
 "nbformat": 4,
 "nbformat_minor": 0
}

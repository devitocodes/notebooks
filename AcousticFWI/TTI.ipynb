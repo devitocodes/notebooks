{
 "cells": [
  {
   "cell_type": "code",
   "execution_count": 1,
   "metadata": {
    "collapsed": true
   },
   "outputs": [],
   "source": [
    "from sympy import *\n",
    "from sympy.abc import *\n",
    "from sympy.galgebra.ga import *\n",
    "import numpy as np\n",
    "from numpy import linalg as LA\n",
    "from __future__ import print_function\n",
    "init_printing()"
   ]
  },
  {
   "cell_type": "markdown",
   "metadata": {},
   "source": [
    "## PDE \n",
    "The TTI wave equation for the square slowness m, thomsen parametersd $\\epsilon$, $\\delta$, $\\theta$ and $\\Phi$ (dip and asymuth)  and a source q is given in 3D by :\n",
    "\n",
    "\\begin{cases} \n",
    " &m \\frac{d^2 p(x,t)}{dt^2} - (1+2\\epsilon)(G_{\\bar{x}\\bar{x}} + G_{\\bar{y}\\bar{y}}) p(x,t) - \\sqrt{(1+2\\delta)}G_{\\bar{z}\\bar{z}} r(x,t) =q  \\\\\n",
    " &m \\frac{d^2 r(x,t)}{dt^2} -  \\sqrt{(1+2\\delta)}(G_{\\bar{x}\\bar{x}} + G_{\\bar{y}\\bar{y}}) p(x,t) - G_{\\bar{z}\\bar{z}} r(x,t) =q    \\\\\n",
    " &u(.,0) = 0 \\\\\n",
    " &\\frac{d u(x,t)}{dt}|_{t=0} = 0 \n",
    "\\end{cases}\n",
    "\n",
    "\n",
    "where\n",
    "\\begin{cases} \n",
    "G_{\\bar{x}\\bar{x}} & = cos(\\phi)^2 cos(\\theta)^2 \\frac{d^2}{dx^2} +sin(\\phi)^2 cos(\\theta)^2 \\frac{d^2}{dy^2}+ sin(\\theta)^2 \\frac{d^2}{dz^2} + sin(2\\phi) cos(\\theta)^2 \\frac{d^2}{dx dy} - sin(\\phi) sin(2\\theta) \\frac{d^2}{dy dz} -cos(\\phi) sin(2\\theta) \\frac{d^2}{dx dz} \\\\\n",
    "G_{\\bar{y}\\bar{y}} & =  sin(\\phi)^2 \\frac{d^2}{dx^2} +cos(\\phi)^2  \\frac{d^2}{dy^2} - sin(2\\phi)^2 \\frac{d^2}{dx dy}\\\\\n",
    "G_{\\bar{z}\\bar{z}} & = cos(\\phi)^2 sin(\\theta)^2 \\frac{d^2}{dx^2} +sin(\\phi)^2 sin(\\theta)^2 \\frac{d^2}{dy^2}+ cos(\\theta)^2 \\frac{d^2}{dz^2} + sin(2\\phi) sin(\\theta)^2 \\frac{d^2}{dx dy} + sin(\\phi) sin(2\\theta) \\frac{d^2}{dy dz} +cos(\\phi) sin(2\\theta) \\frac{d^2}{dx dz} \\\\ \n",
    "\\end{cases}\n",
    "with the zero initial conditons to guaranty unicity of the solution\n",
    "\n",
    "It correspondto a velocity model where the velocity in the z direction is different from the velocity in the xy plane"
   ]
  },
  {
   "cell_type": "markdown",
   "metadata": {
    "collapsed": true
   },
   "source": [
    "## Adjoint PDE \n",
    "The TTI wave equation for the square slowness m, thomsen parametersd $\\epsilon$, $\\delta$, $\\theta$ and $\\Phi$ (dip and asymuth)  and a source q is given in 3D by :\n",
    "\n",
    "\\begin{cases} \n",
    " &m \\frac{d^2 p(x,t)}{dt^2} - (G_{\\bar{x}\\bar{x}} + G_{\\bar{y}\\bar{y}})^T((1+2\\epsilon) p(x,t)) - G_{\\bar{z}\\bar{z}}^T(\\sqrt{(1+2\\delta)} r(x,t)) =q  \\\\\n",
    " &m \\frac{d^2 r(x,t)}{dt^2} -  (G_{\\bar{x}\\bar{x}} + G_{\\bar{y}\\bar{y}})^T(\\sqrt{(1+2\\delta)} p(x,t)) - G_{\\bar{z}\\bar{z}}^T r(x,t) =q    \\\\\n",
    " &u(.,T) = 0 \\\\\n",
    " &\\frac{d u(x,t)}{dt}|_{t=T} = 0 \n",
    "\\end{cases}\n",
    "\n",
    "\n",
    "where\n",
    "\\begin{cases} \n",
    "G_{\\bar{x}\\bar{x}} & = cos(\\phi)^2 cos(\\theta)^2 \\frac{d^2}{dx^2} +sin(\\phi)^2 cos(\\theta)^2 \\frac{d^2}{dy^2}+ sin(\\theta)^2 \\frac{d^2}{dz^2} + sin(2\\phi) cos(\\theta)^2 \\frac{d^2}{dx dy} - sin(\\phi) sin(2\\theta) \\frac{d^2}{dy dz} -cos(\\phi) sin(2\\theta) \\frac{d^2}{dx dz} \\\\\n",
    "G_{\\bar{y}\\bar{y}} & =  sin(\\phi)^2 \\frac{d^2}{dx^2} +cos(\\phi)^2  \\frac{d^2}{dy^2} - sin(2\\phi)^2 \\frac{d^2}{dx dy}\\\\\n",
    "G_{\\bar{z}\\bar{z}} & = cos(\\phi)^2 sin(\\theta)^2 \\frac{d^2}{dx^2} +sin(\\phi)^2 sin(\\theta)^2 \\frac{d^2}{dy^2}+ cos(\\theta)^2 \\frac{d^2}{dz^2} + sin(2\\phi) sin(\\theta)^2 \\frac{d^2}{dx dy} + sin(\\phi) sin(2\\theta) \\frac{d^2}{dy dz} +cos(\\phi) sin(2\\theta) \\frac{d^2}{dx dz} \\\\ \n",
    "\\end{cases}\n",
    "with the zero initial conditons to guaranty unicity of the solution\n",
    "\n",
    "It correspondto a velocity model where the velocity in the z direction is different from the velocity in the xy plane"
   ]
  },
  {
   "cell_type": "markdown",
   "metadata": {},
   "source": [
    "# 2D equations\n",
    "In 2D we only have $z,x$ variables and $\\Phi=0$ as there is no azymuth so $ + G_{\\bar{y}\\bar{y}} $  is not there\n",
    "\n",
    "## Forward\n",
    "\n",
    "\n",
    "\\begin{cases} \n",
    " &m \\frac{d^2 p(x,t)}{dt^2} - (1+2\\epsilon)G_{\\bar{x}\\bar{x}} p(x,t) - \\sqrt{(1+2\\delta)}G_{\\bar{z}\\bar{z}} r(x,t) =q  \\\\\n",
    " &m \\frac{d^2 r(x,t)}{dt^2} -  \\sqrt{(1+2\\delta)}G_{\\bar{x}\\bar{x}} p(x,t) - G_{\\bar{z}\\bar{z}} r(x,t) =q    \\\\\n",
    " &u(.,0) = 0 \\\\\n",
    " &\\frac{d u(x,t)}{dt}|_{t=0} = 0 \n",
    "\\end{cases}\n",
    "\n",
    "\n",
    "## Adjoint\n",
    "\n",
    "\\begin{cases} \n",
    " &m \\frac{d^2 p(x,t)}{dt^2} - G_{\\bar{x}\\bar{x}}^T((1+2\\epsilon) p(x,t)) - G_{\\bar{z}\\bar{z}}^T(\\sqrt{(1+2\\delta)} r(x,t)) =q  \\\\\n",
    " &m \\frac{d^2 r(x,t)}{dt^2} -  G_{\\bar{x}\\bar{x}}^T(\\sqrt{(1+2\\delta)} p(x,t)) - G_{\\bar{z}\\bar{z}}^T r(x,t) =q    \\\\\n",
    " &u(.,T) = 0 \\\\\n",
    " &\\frac{d u(x,t)}{dt}|_{t=T} = 0 \n",
    "\\end{cases}\n",
    "\n",
    "\n",
    "# Differential operators\n",
    "\n",
    "where\n",
    "\\begin{cases} \n",
    "G_{\\bar{x}\\bar{x}} & = cos(\\theta)^2 \\frac{d^2}{dx^2} + sin(\\theta)^2 \\frac{d^2}{dz^2} - sin(2\\theta) \\frac{d^2}{dx dz} \\\\\n",
    "G_{\\bar{z}\\bar{z}} & =  sin(\\theta)^2 \\frac{d^2}{dx^2} + cos(\\theta)^2 \\frac{d^2}{dz^2} +sin(2\\theta) \\frac{d^2}{dx dz} \\\\ \n",
    "\\end{cases}"
   ]
  },
  {
   "cell_type": "code",
   "execution_count": 2,
   "metadata": {
    "collapsed": false
   },
   "outputs": [],
   "source": [
    "p=Function('p')\n",
    "r=Function('r')\n",
    "m,s,h = symbols('m s h')\n",
    "m=M(z,x)\n",
    "q=Q(z,x,t)\n",
    "d=D(z,x,t)\n",
    "e=E(z,x)\n",
    "\n",
    "A=epsilon(z,x)\n",
    "B=delta(z,x)\n",
    "Th=theta(z,x)"
   ]
  },
  {
   "cell_type": "code",
   "execution_count": 3,
   "metadata": {
    "collapsed": false
   },
   "outputs": [],
   "source": [
    "dttp=as_finite_diff(p(z,x,t).diff(t,t), [t-s,t, t+s])\n",
    "dttr=as_finite_diff(r(z,x,t).diff(t,t), [t-s,t, t+s])\n",
    "dtp=as_finite_diff(p(z,x,t).diff(t), [t-s,t])\n",
    "dtr=as_finite_diff(r(z,x,t).diff(t), [t-s,t])\n",
    "# Spacial finite differences can easily be extended to higher order by increasing the list of sampling point in the next expression. \n",
    "# Be sure to keep this stencil symmetric and everything else in the notebook will follow.\n",
    "dxxp=as_finite_diff(p(z,x,t).diff(x,x), [x-h,x, x+h]) \n",
    "dzzp=as_finite_diff(p(z,x,t).diff(z,z), [z-h,z, z+h])\n",
    "dxxr=as_finite_diff(r(z,x,t).diff(x,x), [x-h,x, x+h]) \n",
    "dzzr=as_finite_diff(r(z,x,t).diff(z,z), [z-h,z, z+h])\n",
    "dxzr=1/(2*h)*as_finite_diff(r(z,x+h,t).diff(z), [z-h, z+h]) -1/(2*h)*as_finite_diff(r(z,x-h,t).diff(z), [z-h, z+h])\n",
    "dxzp=1/(2*h)*as_finite_diff(p(z,x+h,t).diff(z), [z-h, z+h]) -1/(2*h)*as_finite_diff(p(z,x-h,t).diff(z), [z-h, z+h])"
   ]
  },
  {
   "cell_type": "code",
   "execution_count": 4,
   "metadata": {
    "collapsed": false
   },
   "outputs": [],
   "source": [
    "Gxxp=cos(Th)**2 * dxxp + sin(Th)**2 * dzzp - sin(2*Th)*dxzp\n",
    "Gxxr=cos(Th)**2 * dxxr + sin(Th)**2 * dzzr - sin(2*Th)*dxzr\n",
    "\n",
    "Gzzp=sin(Th)**2 * dxxp + cos(Th)**2 * dzzp + sin(2*Th)*dxzp\n",
    "Gzzr=sin(Th)**2 * dxxr + cos(Th)**2 * dzzr + sin(2*Th)*dxzr"
   ]
  },
  {
   "cell_type": "code",
   "execution_count": 5,
   "metadata": {
    "collapsed": false
   },
   "outputs": [],
   "source": [
    "# Forward wave equation p\n",
    "wavep = m*dttp -(1+2*A) *Gxxp - sqrt(1+2*B)* Gzzr - q  + e*dtp\n",
    "stencilp = solve(wavep,p(z,x,t+s))[0]\n",
    "tsp=lambdify((p(z,x,t-s),p(z-h,x,t), p(z,x,t), p(z+h,x,t), r(z,x,t),r(z,x-h,t), r(z,x+h,t), q , m, s, h,A,B,Th,e),stencilp,\"numpy\")"
   ]
  },
  {
   "cell_type": "code",
   "execution_count": null,
   "metadata": {
    "collapsed": true
   },
   "outputs": [],
   "source": [
    "# Forward wave equation r\n",
    "waver = m*dttr -sqrt(1+2*B)* Gxxp - Gzzr - q  + e*dtp\n",
    "stencilr = solve(waver,r(x,y,t+s))[0]\n",
    "tsr=lambdify((r(z,x,t-s),p(z-h,x,t), p(z,x,t), p(z+h,x,t), r(z,x,t),r(z,x-h,t), r(z,x+h,t), q , m, s, h,A,B,Th,e),stencilr,\"numpy\")"
   ]
  },
  {
   "cell_type": "code",
   "execution_count": 6,
   "metadata": {
    "collapsed": false
   },
   "outputs": [
    {
     "data": {
      "image/png": "[encoded data removed]",
      "text/latex": [
       "$$\\frac{1}{h^{2} M{\\left (z,x \\right )}} \\left(h^{2} s \\left(s Q{\\left (z,x,t \\right )} - E{\\left (z,x \\right )} p{\\left (z,x,t \\right )} + E{\\left (z,x \\right )} p{\\left (z,x,- s + t \\right )}\\right) + h^{2} \\left(2 p{\\left (z,x,t \\right )} - p{\\left (z,x,- s + t \\right )}\\right) M{\\left (z,x \\right )} + \\frac{s^{2}}{4} \\left(- 8 \\sqrt{2 \\delta{\\left (z,x \\right )} + 1} r{\\left (z,x,t \\right )} - 2 \\sqrt{2 \\delta{\\left (z,x \\right )} + 1} r{\\left (z,- h + x,t \\right )} \\cos{\\left (2 \\theta{\\left (z,x \\right )} \\right )} + 2 \\sqrt{2 \\delta{\\left (z,x \\right )} + 1} r{\\left (z,- h + x,t \\right )} - 2 \\sqrt{2 \\delta{\\left (z,x \\right )} + 1} r{\\left (z,h + x,t \\right )} \\cos{\\left (2 \\theta{\\left (z,x \\right )} \\right )} + 2 \\sqrt{2 \\delta{\\left (z,x \\right )} + 1} r{\\left (z,h + x,t \\right )} + 2 \\sqrt{2 \\delta{\\left (z,x \\right )} + 1} r{\\left (- h + z,x,t \\right )} \\cos{\\left (2 \\theta{\\left (z,x \\right )} \\right )} + 2 \\sqrt{2 \\delta{\\left (z,x \\right )} + 1} r{\\left (- h + z,x,t \\right )} + \\sqrt{2 \\delta{\\left (z,x \\right )} + 1} r{\\left (- h + z,- h + x,t \\right )} \\sin{\\left (2 \\theta{\\left (z,x \\right )} \\right )} - \\sqrt{2 \\delta{\\left (z,x \\right )} + 1} r{\\left (- h + z,h + x,t \\right )} \\sin{\\left (2 \\theta{\\left (z,x \\right )} \\right )} + 2 \\sqrt{2 \\delta{\\left (z,x \\right )} + 1} r{\\left (h + z,x,t \\right )} \\cos{\\left (2 \\theta{\\left (z,x \\right )} \\right )} + 2 \\sqrt{2 \\delta{\\left (z,x \\right )} + 1} r{\\left (h + z,x,t \\right )} - \\sqrt{2 \\delta{\\left (z,x \\right )} + 1} r{\\left (h + z,- h + x,t \\right )} \\sin{\\left (2 \\theta{\\left (z,x \\right )} \\right )} + \\sqrt{2 \\delta{\\left (z,x \\right )} + 1} r{\\left (h + z,h + x,t \\right )} \\sin{\\left (2 \\theta{\\left (z,x \\right )} \\right )} - 16 \\epsilon{\\left (z,x \\right )} p{\\left (z,x,t \\right )} + 4 \\epsilon{\\left (z,x \\right )} p{\\left (z,- h + x,t \\right )} \\cos{\\left (2 \\theta{\\left (z,x \\right )} \\right )} + 4 \\epsilon{\\left (z,x \\right )} p{\\left (z,- h + x,t \\right )} + 4 \\epsilon{\\left (z,x \\right )} p{\\left (z,h + x,t \\right )} \\cos{\\left (2 \\theta{\\left (z,x \\right )} \\right )} + 4 \\epsilon{\\left (z,x \\right )} p{\\left (z,h + x,t \\right )} - 4 \\epsilon{\\left (z,x \\right )} p{\\left (- h + z,x,t \\right )} \\cos{\\left (2 \\theta{\\left (z,x \\right )} \\right )} + 4 \\epsilon{\\left (z,x \\right )} p{\\left (- h + z,x,t \\right )} - 2 \\epsilon{\\left (z,x \\right )} p{\\left (- h + z,- h + x,t \\right )} \\sin{\\left (2 \\theta{\\left (z,x \\right )} \\right )} + 2 \\epsilon{\\left (z,x \\right )} p{\\left (- h + z,h + x,t \\right )} \\sin{\\left (2 \\theta{\\left (z,x \\right )} \\right )} - 4 \\epsilon{\\left (z,x \\right )} p{\\left (h + z,x,t \\right )} \\cos{\\left (2 \\theta{\\left (z,x \\right )} \\right )} + 4 \\epsilon{\\left (z,x \\right )} p{\\left (h + z,x,t \\right )} + 2 \\epsilon{\\left (z,x \\right )} p{\\left (h + z,- h + x,t \\right )} \\sin{\\left (2 \\theta{\\left (z,x \\right )} \\right )} - 2 \\epsilon{\\left (z,x \\right )} p{\\left (h + z,h + x,t \\right )} \\sin{\\left (2 \\theta{\\left (z,x \\right )} \\right )} - 8 p{\\left (z,x,t \\right )} + 2 p{\\left (z,- h + x,t \\right )} \\cos{\\left (2 \\theta{\\left (z,x \\right )} \\right )} + 2 p{\\left (z,- h + x,t \\right )} + 2 p{\\left (z,h + x,t \\right )} \\cos{\\left (2 \\theta{\\left (z,x \\right )} \\right )} + 2 p{\\left (z,h + x,t \\right )} - 2 p{\\left (- h + z,x,t \\right )} \\cos{\\left (2 \\theta{\\left (z,x \\right )} \\right )} + 2 p{\\left (- h + z,x,t \\right )} - p{\\left (- h + z,- h + x,t \\right )} \\sin{\\left (2 \\theta{\\left (z,x \\right )} \\right )} + p{\\left (- h + z,h + x,t \\right )} \\sin{\\left (2 \\theta{\\left (z,x \\right )} \\right )} - 2 p{\\left (h + z,x,t \\right )} \\cos{\\left (2 \\theta{\\left (z,x \\right )} \\right )} + 2 p{\\left (h + z,x,t \\right )} + p{\\left (h + z,- h + x,t \\right )} \\sin{\\left (2 \\theta{\\left (z,x \\right )} \\right )} - p{\\left (h + z,h + x,t \\right )} \\sin{\\left (2 \\theta{\\left (z,x \\right )} \\right )}\\right)\\right)$$"
      ],
      "text/plain": [
       "                                                                              \n",
       " 2                                                                    2       \n",
       "h ⋅s⋅(s⋅Q(z, x, t) - E(z, x)⋅p(z, x, t) + E(z, x)⋅p(z, x, -s + t)) + h ⋅(2⋅p(z\n",
       "                                                                              \n",
       "──────────────────────────────────────────────────────────────────────────────\n",
       "                                                                              \n",
       "                                                                              \n",
       "\n",
       "                                      2 ⎛      _______________                \n",
       "                                     s ⋅⎝- 8⋅╲╱ 2⋅δ(z, x) + 1 ⋅r(z, x, t) - 2⋅\n",
       ", x, t) - p(z, x, -s + t))⋅M(z, x) + ─────────────────────────────────────────\n",
       "                                                                              \n",
       "──────────────────────────────────────────────────────────────────────────────\n",
       "                                                                              \n",
       "                                                                              \n",
       "\n",
       "  _______________                                      _______________        \n",
       "╲╱ 2⋅δ(z, x) + 1 ⋅r(z, -h + x, t)⋅cos(2⋅θ(z, x)) + 2⋅╲╱ 2⋅δ(z, x) + 1 ⋅r(z, -h\n",
       "──────────────────────────────────────────────────────────────────────────────\n",
       "                                                                              \n",
       "──────────────────────────────────────────────────────────────────────────────\n",
       "                                                                              \n",
       "                                                                              \n",
       "\n",
       "               _______________                                     ___________\n",
       " + x, t) - 2⋅╲╱ 2⋅δ(z, x) + 1 ⋅r(z, h + x, t)⋅cos(2⋅θ(z, x)) + 2⋅╲╱ 2⋅δ(z, x) \n",
       "──────────────────────────────────────────────────────────────────────────────\n",
       "                                                                              \n",
       "──────────────────────────────────────────────────────────────────────────────\n",
       "                                                                              \n",
       "                                                                              \n",
       "\n",
       "____                      _______________                                     \n",
       "+ 1 ⋅r(z, h + x, t) + 2⋅╲╱ 2⋅δ(z, x) + 1 ⋅r(-h + z, x, t)⋅cos(2⋅θ(z, x)) + 2⋅╲\n",
       "──────────────────────────────────────────────────────────────────────────────\n",
       "                                                                              \n",
       "──────────────────────────────────────────────────────────────────────────────\n",
       "                                                                              \n",
       "                                                                              \n",
       "\n",
       " _______________                     _______________                          \n",
       "╱ 2⋅δ(z, x) + 1 ⋅r(-h + z, x, t) + ╲╱ 2⋅δ(z, x) + 1 ⋅r(-h + z, -h + x, t)⋅sin(\n",
       "──────────────────────────────────────────────────────────────────────────────\n",
       "                                                                              \n",
       "──────────────────────────────────────────────────────────────────────────────\n",
       "                                                                              \n",
       "                                                                              \n",
       "\n",
       "               _______________                                          ______\n",
       "2⋅θ(z, x)) - ╲╱ 2⋅δ(z, x) + 1 ⋅r(-h + z, h + x, t)⋅sin(2⋅θ(z, x)) + 2⋅╲╱ 2⋅δ(z\n",
       "──────────────────────────────────────────────────────────────────────────────\n",
       "                                                                              \n",
       "──────────────────────────────────────────────────────────────────────────────\n",
       "                                                                              \n",
       "                                                                              \n",
       "\n",
       "_________                                     _______________                 \n",
       ", x) + 1 ⋅r(h + z, x, t)⋅cos(2⋅θ(z, x)) + 2⋅╲╱ 2⋅δ(z, x) + 1 ⋅r(h + z, x, t) -\n",
       "──────────────────────────────────────────────────────────────────────────────\n",
       "                                                                              \n",
       "──────────────────────────────────────────────────────────────────────────────\n",
       "                                                                              \n",
       "                                                                              \n",
       "\n",
       "   _______________                                        _______________     \n",
       " ╲╱ 2⋅δ(z, x) + 1 ⋅r(h + z, -h + x, t)⋅sin(2⋅θ(z, x)) + ╲╱ 2⋅δ(z, x) + 1 ⋅r(h \n",
       "──────────────────────────────────────────────────────────────────────────────\n",
       "                                                                              \n",
       "──────────────────────────────────────────────────────────────────────────────\n",
       "                                                                              \n",
       "                                                                              \n",
       "\n",
       "                                                                              \n",
       "+ z, h + x, t)⋅sin(2⋅θ(z, x)) - 16⋅ε(z, x)⋅p(z, x, t) + 4⋅ε(z, x)⋅p(z, -h + x,\n",
       "──────────────────────────────────────────────────────────────────────────────\n",
       "                                                                              \n",
       "──────────────────────────────────────────────────────────────────────────────\n",
       "                                                                              \n",
       "                                                                              \n",
       "\n",
       "                                                                              \n",
       " t)⋅cos(2⋅θ(z, x)) + 4⋅ε(z, x)⋅p(z, -h + x, t) + 4⋅ε(z, x)⋅p(z, h + x, t)⋅cos(\n",
       "──────────────────────────────────────────────────────────────────────────────\n",
       "                                                                              \n",
       "──────────────────────────────────────────────────────────────────────────────\n",
       "                  2                                                           \n",
       "                 h ⋅M(z, x)                                                   \n",
       "\n",
       "                                                                              \n",
       "2⋅θ(z, x)) + 4⋅ε(z, x)⋅p(z, h + x, t) - 4⋅ε(z, x)⋅p(-h + z, x, t)⋅cos(2⋅θ(z, x\n",
       "──────────────────────────────────────────────────────────────────────────────\n",
       "4                                                                             \n",
       "──────────────────────────────────────────────────────────────────────────────\n",
       "                                                                              \n",
       "                                                                              \n",
       "\n",
       "                                                                              \n",
       ")) + 4⋅ε(z, x)⋅p(-h + z, x, t) - 2⋅ε(z, x)⋅p(-h + z, -h + x, t)⋅sin(2⋅θ(z, x))\n",
       "──────────────────────────────────────────────────────────────────────────────\n",
       "                                                                              \n",
       "──────────────────────────────────────────────────────────────────────────────\n",
       "                                                                              \n",
       "                                                                              \n",
       "\n",
       "                                                                              \n",
       " + 2⋅ε(z, x)⋅p(-h + z, h + x, t)⋅sin(2⋅θ(z, x)) - 4⋅ε(z, x)⋅p(h + z, x, t)⋅cos\n",
       "──────────────────────────────────────────────────────────────────────────────\n",
       "                                                                              \n",
       "──────────────────────────────────────────────────────────────────────────────\n",
       "                                                                              \n",
       "                                                                              \n",
       "\n",
       "                                                                              \n",
       "(2⋅θ(z, x)) + 4⋅ε(z, x)⋅p(h + z, x, t) + 2⋅ε(z, x)⋅p(h + z, -h + x, t)⋅sin(2⋅θ\n",
       "──────────────────────────────────────────────────────────────────────────────\n",
       "                                                                              \n",
       "──────────────────────────────────────────────────────────────────────────────\n",
       "                                                                              \n",
       "                                                                              \n",
       "\n",
       "                                                                              \n",
       "(z, x)) - 2⋅ε(z, x)⋅p(h + z, h + x, t)⋅sin(2⋅θ(z, x)) - 8⋅p(z, x, t) + 2⋅p(z, \n",
       "──────────────────────────────────────────────────────────────────────────────\n",
       "                                                                              \n",
       "──────────────────────────────────────────────────────────────────────────────\n",
       "                                                                              \n",
       "                                                                              \n",
       "\n",
       "                                                                              \n",
       "-h + x, t)⋅cos(2⋅θ(z, x)) + 2⋅p(z, -h + x, t) + 2⋅p(z, h + x, t)⋅cos(2⋅θ(z, x)\n",
       "──────────────────────────────────────────────────────────────────────────────\n",
       "                                                                              \n",
       "──────────────────────────────────────────────────────────────────────────────\n",
       "                                                                              \n",
       "                                                                              \n",
       "\n",
       "                                                                              \n",
       ") + 2⋅p(z, h + x, t) - 2⋅p(-h + z, x, t)⋅cos(2⋅θ(z, x)) + 2⋅p(-h + z, x, t) - \n",
       "──────────────────────────────────────────────────────────────────────────────\n",
       "                                                                              \n",
       "──────────────────────────────────────────────────────────────────────────────\n",
       "                                                                              \n",
       "                                                                              \n",
       "\n",
       "                                                                              \n",
       "p(-h + z, -h + x, t)⋅sin(2⋅θ(z, x)) + p(-h + z, h + x, t)⋅sin(2⋅θ(z, x)) - 2⋅p\n",
       "──────────────────────────────────────────────────────────────────────────────\n",
       "                                                                              \n",
       "──────────────────────────────────────────────────────────────────────────────\n",
       "                                                                              \n",
       "                                                                              \n",
       "\n",
       "                                                                              \n",
       "(h + z, x, t)⋅cos(2⋅θ(z, x)) + 2⋅p(h + z, x, t) + p(h + z, -h + x, t)⋅sin(2⋅θ(\n",
       "──────────────────────────────────────────────────────────────────────────────\n",
       "                                                                              \n",
       "──────────────────────────────────────────────────────────────────────────────\n",
       "                                                                              \n",
       "                                                                              \n",
       "\n",
       "                                          ⎞\n",
       "z, x)) - p(h + z, h + x, t)⋅sin(2⋅θ(z, x))⎠\n",
       "───────────────────────────────────────────\n",
       "                                           \n",
       "───────────────────────────────────────────\n",
       "                                           \n",
       "                                           "
      ]
     },
     "execution_count": 6,
     "metadata": {},
     "output_type": "execute_result"
    }
   ],
   "source": [
    "stencilp"
   ]
  },
  {
   "cell_type": "code",
   "execution_count": null,
   "metadata": {
    "collapsed": true
   },
   "outputs": [],
   "source": [
    "stencilr"
   ]
  }
 ],
 "metadata": {
  "kernelspec": {
   "display_name": "Python 3",
   "language": "python",
   "name": "python3"
  },
  "language_info": {
   "codemirror_mode": {
    "name": "ipython",
    "version": 3
   },
   "file_extension": ".py",
   "mimetype": "text/x-python",
   "name": "python",
   "nbconvert_exporter": "python",
   "pygments_lexer": "ipython3",
   "version": "3.5.1"
  }
 },
 "nbformat": 4,
 "nbformat_minor": 0
}

{
 "cells": [
  {
   "cell_type": "code",
   "execution_count": null,
   "metadata": {
    "collapsed": true
   },
   "outputs": [],
   "source": [
    "from sympy import *\n",
    "from sympy.abc import *\n",
    "from sympy.galgebra.ga import *\n",
    "import numpy as np\n",
    "from numpy import linalg as LA\n",
    "from __future__ import print_function\n",
    "init_printing()"
   ]
  },
  {
   "cell_type": "markdown",
   "metadata": {},
   "source": [
    "## PDE \n",
    "The TTI wave equation for the square slowness m, thomsen parametersd $\\epsilon$, $\\delta$, $\\theta$ and $\\Phi$ (dip and asymuth)  and a source q is given in 3D by :\n",
    "\n",
    "\\begin{cases} \n",
    " &m \\frac{d^2 p(x,t)}{dt^2} - (1+2\\epsilon)(G_{\\bar{x}\\bar{x}} + G_{\\bar{y}\\bar{y}}) p(x,t) - \\sqrt{(1+2\\delta)}G_{\\bar{z}\\bar{z}} r(x,t) =q  \\\\\n",
    " &m \\frac{d^2 r(x,t)}{dt^2} -  \\sqrt{(1+2\\delta)}(G_{\\bar{x}\\bar{x}} + G_{\\bar{y}\\bar{y}}) p(x,t) - G_{\\bar{z}\\bar{z}} r(x,t) =q    \\\\\n",
    " &u(.,0) = 0 \\\\\n",
    " &\\frac{d u(x,t)}{dt}|_{t=0} = 0 \n",
    "\\end{cases}\n",
    "\n",
    "\n",
    "where\n",
    "\\begin{cases} \n",
    "G_{\\bar{x}\\bar{x}} & = cos(\\phi)^2 cos(\\theta)^2 \\frac{d^2}{dx^2} +sin(\\phi)^2 cos(\\theta)^2 \\frac{d^2}{dy^2}+ sin(\\theta)^2 \\frac{d^2}{dz^2} + sin(2\\phi) cos(\\theta)^2 \\frac{d^2}{dx dy} - sin(\\phi) sin(2\\theta) \\frac{d^2}{dy dz} -cos(\\phi) sin(2\\theta) \\frac{d^2}{dx dz} \\\\\n",
    "G_{\\bar{y}\\bar{y}} & =  sin(\\phi)^2 \\frac{d^2}{dx^2} +cos(\\phi)^2  \\frac{d^2}{dy^2} - sin(2\\phi)^2 \\frac{d^2}{dx dy}\\\\\n",
    "G_{\\bar{z}\\bar{z}} & = cos(\\phi)^2 sin(\\theta)^2 \\frac{d^2}{dx^2} +sin(\\phi)^2 sin(\\theta)^2 \\frac{d^2}{dy^2}+ cos(\\theta)^2 \\frac{d^2}{dz^2} + sin(2\\phi) sin(\\theta)^2 \\frac{d^2}{dx dy} + sin(\\phi) sin(2\\theta) \\frac{d^2}{dy dz} +cos(\\phi) sin(2\\theta) \\frac{d^2}{dx dz} \\\\ \n",
    "\\end{cases}\n",
    "with the zero initial conditons to guaranty unicity of the solution\n",
    "\n",
    "It correspondto a velocity model where the velocity in the z direction is different from the velocity in the xy plane"
   ]
  },
  {
   "cell_type": "markdown",
   "metadata": {
    "collapsed": true
   },
   "source": [
    "## Adjoint PDE \n",
    "The TTI wave equation for the square slowness m, thomsen parametersd $\\epsilon$, $\\delta$, $\\theta$ and $\\Phi$ (dip and asymuth)  and a source q is given in 3D by :\n",
    "\n",
    "\\begin{cases} \n",
    " &m \\frac{d^2 p(x,t)}{dt^2} - (G_{\\bar{x}\\bar{x}} + G_{\\bar{y}\\bar{y}})^T((1+2\\epsilon) p(x,t)) - G_{\\bar{z}\\bar{z}}^T(\\sqrt{(1+2\\delta)} r(x,t)) =q  \\\\\n",
    " &m \\frac{d^2 r(x,t)}{dt^2} -  (G_{\\bar{x}\\bar{x}} + G_{\\bar{y}\\bar{y}})^T(\\sqrt{(1+2\\delta)} p(x,t)) - G_{\\bar{z}\\bar{z}}^T r(x,t) =q    \\\\\n",
    " &u(.,T) = 0 \\\\\n",
    " &\\frac{d u(x,t)}{dt}|_{t=T} = 0 \n",
    "\\end{cases}\n",
    "\n",
    "\n",
    "where\n",
    "\\begin{cases} \n",
    "G_{\\bar{x}\\bar{x}} & = cos(\\phi)^2 cos(\\theta)^2 \\frac{d^2}{dx^2} +sin(\\phi)^2 cos(\\theta)^2 \\frac{d^2}{dy^2}+ sin(\\theta)^2 \\frac{d^2}{dz^2} + sin(2\\phi) cos(\\theta)^2 \\frac{d^2}{dx dy} - sin(\\phi) sin(2\\theta) \\frac{d^2}{dy dz} -cos(\\phi) sin(2\\theta) \\frac{d^2}{dx dz} \\\\\n",
    "G_{\\bar{y}\\bar{y}} & =  sin(\\phi)^2 \\frac{d^2}{dx^2} +cos(\\phi)^2  \\frac{d^2}{dy^2} - sin(2\\phi)^2 \\frac{d^2}{dx dy}\\\\\n",
    "G_{\\bar{z}\\bar{z}} & = cos(\\phi)^2 sin(\\theta)^2 \\frac{d^2}{dx^2} +sin(\\phi)^2 sin(\\theta)^2 \\frac{d^2}{dy^2}+ cos(\\theta)^2 \\frac{d^2}{dz^2} + sin(2\\phi) sin(\\theta)^2 \\frac{d^2}{dx dy} + sin(\\phi) sin(2\\theta) \\frac{d^2}{dy dz} +cos(\\phi) sin(2\\theta) \\frac{d^2}{dx dz} \\\\ \n",
    "\\end{cases}\n",
    "with the zero initial conditons to guaranty unicity of the solution\n",
    "\n",
    "It correspondto a velocity model where the velocity in the z direction is different from the velocity in the xy plane"
   ]
  },
  {
   "cell_type": "markdown",
   "metadata": {},
   "source": [
    "# 2D equations\n",
    "In 2D we only have $z,x$ variables and $\\Phi=0$ as there is no azymuth so $ + G_{\\bar{y}\\bar{y}} $  is not there\n",
    "\n",
    "## Forward\n",
    "\n",
    "\n",
    "\\begin{cases} \n",
    " &m \\frac{d^2 p(x,t)}{dt^2} - (1+2\\epsilon)G_{\\bar{x}\\bar{x}} p(x,t) - \\sqrt{(1+2\\delta)}G_{\\bar{z}\\bar{z}} r(x,t) =q  \\\\\n",
    " &m \\frac{d^2 r(x,t)}{dt^2} -  \\sqrt{(1+2\\delta)}(G_{\\bar{x}\\bar{x}}) p(x,t) - G_{\\bar{z}\\bar{z}} r(x,t) =q    \\\\\n",
    " &u(.,0) = 0 \\\\\n",
    " &\\frac{d u(x,t)}{dt}|_{t=0} = 0 \n",
    "\\end{cases}\n",
    "\n",
    "\n",
    "## Adjoint\n",
    "\n",
    "\\begin{cases} \n",
    " &m \\frac{d^2 p(x,t)}{dt^2} - (G_{\\bar{x}\\bar{x}})^T((1+2\\epsilon) p(x,t)) - G_{\\bar{z}\\bar{z}}^T(\\sqrt{(1+2\\delta)} r(x,t)) =q  \\\\\n",
    " &m \\frac{d^2 r(x,t)}{dt^2} -  (G_{\\bar{x}\\bar{x}})^T(\\sqrt{(1+2\\delta)} p(x,t)) - G_{\\bar{z}\\bar{z}}^T r(x,t) =q    \\\\\n",
    " &u(.,T) = 0 \\\\\n",
    " &\\frac{d u(x,t)}{dt}|_{t=T} = 0 \n",
    "\\end{cases}\n",
    "\n",
    "\n",
    "# Differential operators\n",
    "\n",
    "where\n",
    "\\begin{cases} \n",
    "G_{\\bar{x}\\bar{x}} & = cos(\\phi)^2 \\frac{d^2}{dx^2} + sin(\\theta)^2 \\frac{d^2}{dz^2} -cos(\\phi) sin(2\\theta) \\frac{d^2}{dx dz} \\\\\n",
    "G_{\\bar{z}\\bar{z}} & = cos(\\phi)^2 sin(\\theta)^2 \\frac{d^2}{dx^2} + cos(\\theta)^2 \\frac{d^2}{dz^2} +cos(\\phi) sin(2\\theta) \\frac{d^2}{dx dz} \\\\ \n",
    "\\end{cases}"
   ]
  },
  {
   "cell_type": "code",
   "execution_count": null,
   "metadata": {
    "collapsed": true
   },
   "outputs": [],
   "source": []
  }
 ],
 "metadata": {
  "kernelspec": {
   "display_name": "Python 3",
   "language": "python",
   "name": "python3"
  },
  "language_info": {
   "codemirror_mode": {
    "name": "ipython",
    "version": 3
   },
   "file_extension": ".py",
   "mimetype": "text/x-python",
   "name": "python",
   "nbconvert_exporter": "python",
   "pygments_lexer": "ipython3",
   "version": "3.5.1"
  }
 },
 "nbformat": 4,
 "nbformat_minor": 0
}

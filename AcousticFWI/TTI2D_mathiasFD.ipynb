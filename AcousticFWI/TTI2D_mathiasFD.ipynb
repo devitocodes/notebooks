{
 "cells": [
  {
   "cell_type": "code",
   "execution_count": 1,
   "metadata": {
    "collapsed": true
   },
   "outputs": [],
   "source": [
    "from sympy import *\n",
    "from sympy.abc import *\n",
    "from sympy.galgebra.ga import *\n",
    "import numpy as np\n",
    "from numpy import linalg as LA\n",
    "from __future__ import print_function\n",
    "init_printing()"
   ]
  },
  {
   "cell_type": "markdown",
   "metadata": {},
   "source": [
    "# 2D equations\n",
    "The 2D equation for the TTI model are given by\n",
    "\n",
    "## Forward\n",
    "\n",
    "\n",
    "\\begin{cases} \n",
    " &m \\frac{d^2 p(x,t)}{dt^2} - (1+2\\epsilon)G_{\\bar{x}\\bar{x}} p(x,t) - \\sqrt{(1+2\\delta)}G_{\\bar{z}\\bar{z}} r(x,t) =q  \\\\\n",
    " &m \\frac{d^2 r(x,t)}{dt^2} -  \\sqrt{(1+2\\delta)}G_{\\bar{x}\\bar{x}} p(x,t) - G_{\\bar{z}\\bar{z}} r(x,t) =q    \\\\\n",
    " &p(.,0) = 0 \\\\\n",
    " &\\frac{d p(x,t)}{dt}|_{t=0} = 0 \\\\\n",
    " &r(.,0) = 0 \\\\\n",
    " &\\frac{d r(x,t)}{dt}|_{t=0} = 0 \n",
    "\\end{cases}\n",
    "\n",
    "\n",
    "## Adjoint\n",
    "\n",
    "\\begin{cases} \n",
    " &m \\frac{d^2 p(x,t)}{dt^2} - G_{\\bar{x}\\bar{x}}^T((1+2\\epsilon) p(x,t)) - G_{\\bar{z}\\bar{z}}^T(\\sqrt{(1+2\\delta)} r(x,t)) =q  \\\\\n",
    " &m \\frac{d^2 r(x,t)}{dt^2} -  G_{\\bar{x}\\bar{x}}^T(\\sqrt{(1+2\\delta)} p(x,t)) - G_{\\bar{z}\\bar{z}}^T r(x,t) =q    \\\\\n",
    " &p(.,0) = 0 \\\\\n",
    " &\\frac{d p(x,t)}{dt}|_{t=0} = 0 \\\\\n",
    " &r(.,0) = 0 \\\\\n",
    " &\\frac{d r(x,t)}{dt}|_{t=0} = 0 \n",
    "\\end{cases}\n",
    "\n",
    "\n",
    "# Differential operators\n",
    "\n",
    "where\n",
    "\\begin{cases} \n",
    "G_{\\bar{x}\\bar{x}} & = cos(\\theta)^2 \\frac{d^2}{dx^2} + sin(\\theta)^2 \\frac{d^2}{dz^2} - sin(2\\theta) \\frac{d^2}{dx dz} \\\\\n",
    "G_{\\bar{z}\\bar{z}} & =  sin(\\theta)^2 \\frac{d^2}{dx^2} + cos(\\theta)^2 \\frac{d^2}{dz^2} +sin(2\\theta) \\frac{d^2}{dx dz} \\\\ \n",
    "\\end{cases}\n"
   ]
  },
  {
   "cell_type": "markdown",
   "metadata": {},
   "source": [
    "# Finite differences in practice\n",
    "We will use a compact 4th order finite difference schemefor the cross derivatives\n",
    "\n",
    "\\begin{cases} \n",
    "  \\frac{d^2 p(x,z)}{dx dz} = \\frac{1}{2}(-2p(z,x,t) + p(z+h,x,t) + p(z-h,x,t) - p(z-h,x+h,t) + p(z,x-h,t) - p(z+h,x-h,t) + p(z,x+h,t))\n",
    "\\end{cases}\n",
    "\n",
    "he Taylor expansion shows that with this scheme we have \n",
    "\\begin{cases} \n",
    "  \\frac{1}{2}(-2p(z,x,t) + p(z+h,x,t) + p(z-h,x,t) - p(z-h,x+h,t) + p(z,x-h,t) - p(z+h,x-h,t) + p(z,x+h,t)) = \\frac{d^2 p(x,z)}{dx dz}+ O(dx^4,dz^4,dx^\\alpha dz^\\beta : \\alpha+\\beta >3)\n",
    "\\end{cases}"
   ]
  },
  {
   "cell_type": "code",
   "execution_count": 2,
   "metadata": {
    "collapsed": false
   },
   "outputs": [],
   "source": [
    "p=Function('p')\n",
    "r=Function('r')\n",
    "\n",
    "s,h,x,y,z = symbols('s h x y z')\n",
    "m=M(z,x)\n",
    "q=Q(z,x,t)\n",
    "d=D(z,x,t)\n",
    "e=E(z,x)\n",
    "\n",
    "A=epsilon(z,x)  # (1 + 2epsilon) but make the symbolic simpler\n",
    "B=delta(z,x) # sqrt(1 + 2epsilon) but make the symbolic simpler\n",
    "Th=theta(z,x)\n",
    "\n",
    "# Weights to sum the two fields\n",
    "w1=.5\n",
    "w2=.5"
   ]
  },
  {
   "cell_type": "code",
   "execution_count": 3,
   "metadata": {
    "collapsed": false
   },
   "outputs": [],
   "source": [
    "dttp=as_finite_diff(p(z,x,t).diff(t,t), [t-s,t, t+s])\n",
    "dttr=as_finite_diff(r(z,x,t).diff(t,t), [t-s,t, t+s])\n",
    "dtp=as_finite_diff(p(z,x,t).diff(t), [t-s,t])\n",
    "dtr=as_finite_diff(r(z,x,t).diff(t), [t-s,t])\n",
    "# Spacial finite differences can easily be extended to higher order by increasing the list of sampling point in the next expression. \n",
    "# Be sure to keep this stencil symmetric and everything else in the notebook will follow.\n",
    "dxxp=as_finite_diff(p(z,x,t).diff(x,x), [x-h, x, x+h]) \n",
    "dzzp=as_finite_diff(p(z,x,t).diff(z,z), [z-h, z, z+h])\n",
    "dxxr=as_finite_diff(r(z,x,t).diff(x,x), [x-h, x, x+h]) \n",
    "dzzr=as_finite_diff(r(z,x,t).diff(z,z), [z-h, z, z+h])\n",
    "\n",
    "# My 4th order stencil for d/dxdy\n",
    "dxzp = .5/(h**2)*(-2*p(z,x,t) + p(z+h,x,t) + p(z-h,x,t) - p(z-h,x+h,t) + p(z,x-h,t) - p(z+h,x-h,t) + p(z,x+h,t))\n",
    "dxzr = .5/(h**2)*(-2*r(z,x,t) + r(z+h,x,t) + r(z-h,x,t) - r(z-h,x+h,t) + r(z,x-h,t) - r(z+h,x-h,t) + r(z,x+h,t))"
   ]
  },
  {
   "cell_type": "code",
   "execution_count": 4,
   "metadata": {
    "collapsed": false,
    "scrolled": true
   },
   "outputs": [],
   "source": [
    "arglambp=(p(z,x,t-s),\n",
    "          p(z,x,t),\n",
    "          p(z,x-h,t),\n",
    "          p(z,x+h,t),\n",
    "          p(z-h,x,t),\n",
    "          p(z+h,x,t),\n",
    "          p(z-h,x+h,t),\n",
    "          p(z+h,x-h,t),\n",
    "          r(z,x,t),\n",
    "          r(z,x-h,t),\n",
    "          r(z,x+h,t),\n",
    "          r(z-h,x,t),\n",
    "          r(z+h,x,t),\n",
    "          r(z-h,x+h,t),\n",
    "          r(z+h,x-h,t),\n",
    "          q , \n",
    "          m,\n",
    "          A,\n",
    "          B,\n",
    "          Th,\n",
    "          s, \n",
    "          h,\n",
    "          e)\n",
    "arglambr=(r(z,x,t-s), \n",
    "          p(z,x,t),\n",
    "          p(z,x-h,t),\n",
    "          p(z,x+h,t),\n",
    "          p(z-h,x,t),\n",
    "          p(z+h,x,t),\n",
    "          p(z-h,x+h,t),\n",
    "          p(z+h,x-h,t),\n",
    "          r(z,x,t),\n",
    "          r(z,x-h,t),\n",
    "          r(z,x+h,t),\n",
    "          r(z-h,x,t),\n",
    "          r(z+h,x,t),\n",
    "          r(z-h,x+h,t),\n",
    "          r(z+h,x-h,t),\n",
    "          q , \n",
    "          m,\n",
    "          A,\n",
    "          B,\n",
    "          Th,\n",
    "          s, \n",
    "          h,\n",
    "          e)"
   ]
  },
  {
   "cell_type": "code",
   "execution_count": 5,
   "metadata": {
    "collapsed": false
   },
   "outputs": [],
   "source": [
    "Gxxp=cos(Th)**2 * dxxp + sin(Th)**2 * dzzp - sin(2*Th)*dxzp\n",
    "Gzzr=sin(Th)**2 * dxxr + cos(Th)**2 * dzzr + sin(2*Th)*dxzr"
   ]
  },
  {
   "cell_type": "code",
   "execution_count": 6,
   "metadata": {
    "collapsed": false
   },
   "outputs": [],
   "source": [
    "# Forward wave equation p\n",
    "wavep = m * dttp - A * Gxxp - B * Gzzr - q \n",
    "#wavep"
   ]
  },
  {
   "cell_type": "code",
   "execution_count": 7,
   "metadata": {
    "collapsed": false
   },
   "outputs": [],
   "source": [
    "# Forward wave equation r\n",
    "waver = m * dttr - B * Gxxp - Gzzr - q  \n",
    "#waver"
   ]
  },
  {
   "cell_type": "code",
   "execution_count": 8,
   "metadata": {
    "collapsed": false
   },
   "outputs": [],
   "source": [
    "stencilp =solve(wavep,p(z,x,t+s),simplify=False)[0]\n",
    "tsp=lambdify(arglambp,  stencilp,  \"numpy\")\n",
    "#factor(stencilp)"
   ]
  },
  {
   "cell_type": "code",
   "execution_count": 9,
   "metadata": {
    "collapsed": false
   },
   "outputs": [],
   "source": [
    "#simplify(stencilp)"
   ]
  },
  {
   "cell_type": "code",
   "execution_count": 10,
   "metadata": {
    "collapsed": false
   },
   "outputs": [],
   "source": [
    "#arglambp"
   ]
  },
  {
   "cell_type": "code",
   "execution_count": 11,
   "metadata": {
    "collapsed": false
   },
   "outputs": [],
   "source": [
    "stencilr = solve(waver,r(z,x,t+s),simplify=False)[0]\n",
    "tsr=lambdify(arglambr, stencilr,  \"numpy\")\n",
    "#stencilr"
   ]
  },
  {
   "cell_type": "code",
   "execution_count": 12,
   "metadata": {
    "collapsed": true
   },
   "outputs": [],
   "source": [
    "import matplotlib.pyplot as plt\n",
    "from matplotlib import animation\n",
    "\n",
    "hstep=10.0 #space increment d  = minv/(10*f0);\n",
    "tstep=1.0 #time increment dt < .5 * hstep /maxv;\n",
    "tmin=0.0 #initial time\n",
    "tmax=300 #simulate until\n",
    "xmin=-500.0 - 10*hstep #left bound\n",
    "xmax=500.0 + 10*hstep #right bound...assume packet never reaches boundary\n",
    "zmin=-500.0 - 10*hstep #left bound\n",
    "zmax=500.0 + 10*hstep #right bound...assume packet never reaches boundary\n",
    "f0=0.015\n",
    "t0=1/.015\n",
    "nbpml=10\n",
    "nx = int((xmax-xmin)/hstep) + 1 #number of points on x grid\n",
    "nz = int((zmax-zmin)/hstep) + 1 #number of points on x grid\n",
    "nt = int((tmax-tmin)/tstep) + 2 #number of points on t grid\n",
    "xsrc=0.0\n",
    "zsrc=0.0\n",
    "zrec = int(nz/4)\n",
    "#set source as Ricker wavelet for f0 \n",
    "def source(z,x,t):\n",
    "    r = (np.pi*f0*(t-t0))\n",
    "    val = (1-2.*r**2)*np.exp(-r**2)\n",
    "    if abs(x-xsrc)<hstep/2 and abs(z-zsrc)<hstep/2:\n",
    "        return val\n",
    "    else:\n",
    "        return 0.0\n",
    "    \n",
    "def dampx(x):\n",
    "    dampcoeff=np.log(1.0/0.001)/(5.0*hstep);\n",
    "    if x<nbpml:\n",
    "        return dampcoeff*((nbpml-x)/nbpml)**2\n",
    "    elif x>nx-nbpml-1:\n",
    "        return dampcoeff*((x-nx+nbpml)/nbpml)**2\n",
    "    else:\n",
    "        return 0.0\n",
    "def dampz(z):\n",
    "    dampcoeff=np.log(1.0/0.001)/(5.0*hstep);\n",
    "    if z<nbpml:\n",
    "        return dampcoeff*((nbpml-z)/nbpml)**2\n",
    "    elif z>nz-nbpml-1:\n",
    "        return dampcoeff*((z-nz+nbpml)/nbpml)**2\n",
    "    else:\n",
    "        return 0.0"
   ]
  },
  {
   "cell_type": "code",
   "execution_count": 13,
   "metadata": {
    "collapsed": false
   },
   "outputs": [],
   "source": [
    "# Velocity models\n",
    "def smooth10(vel,nz,nx):\n",
    "    out=np.ones((nz,nx))\n",
    "    out[:,:]=vel[:,:]\n",
    "    for a in range(5,nz-6):\n",
    "        out[a,:]=np.sum(vel[a-5:a+5,:], axis=0) /10\n",
    "    return out\n",
    "\n",
    "# True velocity\n",
    "vel=np.ones((nz,nx)) + .4\n",
    "#vel[floor(nz/2):nz,:]=4.5\n",
    "mt=vel**-2\n",
    "# Smooth velocity\n",
    "v0=smooth10(vel,nz,nx)\n",
    "m0=v0**-2\n",
    "eps=1+2*(np.ones((nz,nx)) -.6)\n",
    "#eps[0:30,:]=1;\n",
    "eps=smooth10(eps,nz,nx);\n",
    "delt=np.sqrt(1+2*np.ones((nz,nx)) -1.6)\n",
    "#delt[0:30,:]=1;\n",
    "delt=smooth10(delt,nz,nx);\n",
    "the=np.pi/5*np.ones((nz,nx));\n",
    "#the[0:30,:]=0;\n",
    "the=smooth10(the,nz,nx);\n",
    "dm=m0-mt"
   ]
  },
  {
   "cell_type": "code",
   "execution_count": 14,
   "metadata": {
    "collapsed": false
   },
   "outputs": [],
   "source": [
    "def Forward(nt,nz,nx,m,eps,delt,the):\n",
    "    u1=np.zeros((nt+2,nz,nx))\n",
    "    u2=np.zeros((nt+2,nz,nx))\n",
    "    rec=np.zeros((nt,nx-2))\n",
    "    for ti in range(0,nt):\n",
    "        for a in range(1,nz-1):\n",
    "            for b in range(1,nx-1):\n",
    "                src = source(zmin+a*hstep,xmin+b*hstep,tstep*ti)\n",
    "                damp=dampz(a)+dampx(b)\n",
    "                u1[ti+2,a,b]=tsp(u1[ti,a,b],\n",
    "                                 u1[ti+1,a,b],\n",
    "                                 u1[ti+1,a,b-1],\n",
    "                                 u1[ti+1,a,b+1],\n",
    "                                 u1[ti+1,a-1,b],\n",
    "                                 u1[ti+1,a+1,b],\n",
    "                                 u1[ti+1,a-1,b+1],\n",
    "                                 u1[ti+1,a+1,b-1],\n",
    "                                 u2[ti+1,a,b],\n",
    "                                 u2[ti+1,a,b-1],\n",
    "                                 u2[ti+1,a,b+1],\n",
    "                                 u2[ti+1,a-1,b],\n",
    "                                 u2[ti+1,a+1,b],\n",
    "                                 u2[ti+1,a-1,b+1],\n",
    "                                 u2[ti+1,a+1,b-1],\n",
    "                                 .5*src , \n",
    "                                 m[a,b],\n",
    "                                 eps[a,b],\n",
    "                                 delt[a,b],\n",
    "                                 the[a,b],\n",
    "                                 tstep,\n",
    "                                 hstep,\n",
    "                                 damp)\n",
    "                u2[ti+2,a,b]=tsr(u2[ti,a,b],\n",
    "                                 u1[ti+1,a,b],\n",
    "                                 u1[ti+1,a,b-1],\n",
    "                                 u1[ti+1,a,b+1],\n",
    "                                 u1[ti+1,a-1,b],\n",
    "                                 u1[ti+1,a+1,b],\n",
    "                                 u1[ti+1,a-1,b+1],\n",
    "                                 u1[ti+1,a+1,b-1],\n",
    "                                 u2[ti+1,a,b],\n",
    "                                 u2[ti+1,a,b-1],\n",
    "                                 u2[ti+1,a,b+1],\n",
    "                                 u2[ti+1,a-1,b],\n",
    "                                 u2[ti+1,a+1,b],\n",
    "                                 u2[ti+1,a-1,b+1],\n",
    "                                 u2[ti+1,a+1,b-1],\n",
    "                                 .5*src , \n",
    "                                 m[a,b],\n",
    "                                 eps[a,b],\n",
    "                                 delt[a,b],\n",
    "                                 the[a,b],\n",
    "                                 tstep,\n",
    "                                 hstep,\n",
    "                                 damp)\n",
    "                if a==zrec :\n",
    "                    rec[ti,b-1]=(.5*u1[ti+2,a,b] + .5*u2[ti+2,a,b])\n",
    "    return rec,u1,u2"
   ]
  },
  {
   "cell_type": "code",
   "execution_count": 15,
   "metadata": {
    "collapsed": false
   },
   "outputs": [],
   "source": [
    "(rect,u1,u2)=Forward(nt,nz,nx,mt,eps,delt,the)"
   ]
  },
  {
   "cell_type": "code",
   "execution_count": 16,
   "metadata": {
    "collapsed": false
   },
   "outputs": [],
   "source": [
    "\n",
    "#fig = plt.figure()\n",
    "#plts = []             # get ready to populate this list the Line artists to be plotted\n",
    "#plt.hold(\"off\")\n",
    "#for i in range(nt):\n",
    "#    r = plt.imshow(u1[i,:,:],vmin=-1,vmax=1)   # this is how you'd plot a single line...\n",
    "#    plts.append( [r] )  \n",
    "#ani = animation.ArtistAnimation(fig, plts, interval=50,  repeat = False)   # run the animation\n",
    "#plt.show()"
   ]
  },
  {
   "cell_type": "code",
   "execution_count": 17,
   "metadata": {
    "collapsed": true
   },
   "outputs": [],
   "source": [
    "#fig2 = plt.figure()\n",
    "#plt.hold(\"off\")\n",
    "#shotrec = plt.imshow(rect)   # this is how you'd plot a single line...\n",
    "#plt.show()"
   ]
  },
  {
   "cell_type": "code",
   "execution_count": 18,
   "metadata": {
    "collapsed": true
   },
   "outputs": [],
   "source": [
    "#fig2 = plt.figure()\n",
    "#plt.hold(\"off\")\n",
    "#shotrec = plt.imshow(eps)   # this is how you'd plot a single line...\n",
    "#plt.show()\n",
    "#fig2 = plt.figure()\n",
    "#plt.hold(\"off\")\n",
    "#shotrec = plt.imshow(delt)   # this is how you'd plot a single line...\n",
    "#plt.show()\n",
    "#fig2 = plt.figure()\n",
    "#plt.hold(\"off\")\n",
    "#shotrec = plt.imshow(the)   # this is how you'd plot a single line...\n",
    "#plt.show()"
   ]
  },
  {
   "cell_type": "markdown",
   "metadata": {},
   "source": [
    "# Adjoint"
   ]
  },
  {
   "cell_type": "code",
   "execution_count": 19,
   "metadata": {
    "collapsed": false
   },
   "outputs": [],
   "source": [
    "A=Function('A')\n",
    "B=Function('B')\n",
    "r=Function('r')\n",
    "# Need to do it by hand as it is not supported\n",
    "dxxpe= 1/(h**2)*(-2*A(z,x)*p(z,x,t) + A(z,x+h)*p(z,x+h,t) + A(z,x-h)*p(z,x-h,t))\n",
    "dzzpe= 1/(h**2)*(-2*A(z,x)*p(z,x,t) + A(z+h,x)*p(z+h,x,t) + A(z-h,x)*p(z-h,x,t))\n",
    "\n",
    "dxxpd= 1/(h**2)*(-2*B(z,x)*p(z,x,t) + B(z,x+h)*p(z,x+h,t) + B(z,x-h)*p(z,x-h,t))\n",
    "dzzpd= 1/(h**2)*(-2*B(z,x)*p(z,x,t) + B(z+h,x)*p(z+h,x,t) + B(z-h,x)*p(z-h,x,t))\n",
    "dxxrd= 1/(h**2)*(-2*B(z,x)*r(z,x,t) + B(z,x+h)*r(z,x+h,t) + B(z,x-h)*r(z,x-h,t))\n",
    "dzzrd= 1/(h**2)*(-2*B(z,x)*r(z,x,t) + B(z+h,x)*r(z+h,x,t) + B(z-h,x)*r(z-h,x,t))\n",
    "\n",
    "# My 4th order stencil for d/dxdy\n",
    "dxzpe = .5/(h**2)*(-2*A(z,x)*p(z,x,t) + A(z+h,x)*p(z+h,x,t) + A(z-h,x)*p(z-h,x,t) -\n",
    "                   A(z-h,x+h)*p(z-h,x+h,t) + A(z,x-h)*p(z,x-h,t) - A(z+h,x-h)*p(z+h,x-h,t) + A(z,x+h)*p(z,x+h,t))\n",
    "\n",
    "dxzpd = .5/(h**2)*(-2*B(z,x)*p(z,x,t) + B(z+h,x)*p(z+h,x,t) + B(z-h,x)*p(z-h,x,t) -\n",
    "                   B(z-h,x+h)*p(z-h,x+h,t) + B(z,x-h)*p(z,x-h,t) - B(z+h,x-h)*p(z+h,x-h,t) + B(z,x+h)*p(z,x+h,t))\n",
    "dxzrd = .5/(h**2)*(-2*B(z,x)*r(z,x,t) + B(z+h,x)*r(z+h,x,t) + B(z-h,x)*r(z-h,x,t) -\n",
    "                   B(z-h,x+h)*r(z-h,x+h,t) + B(z,x-h)*r(z,x-h,t) - B(z+h,x-h)*r(z+h,x-h,t) + B(z,x+h)*r(z,x+h,t))"
   ]
  },
  {
   "cell_type": "code",
   "execution_count": 20,
   "metadata": {
    "collapsed": false
   },
   "outputs": [],
   "source": [
    "Gxxpe=cos(Th)**2 * dxxpe + sin(Th)**2 * dzzpe - sin(2*Th)*dxzpe\n",
    "Gzzrd=sin(Th)**2 * dxxrd + cos(Th)**2 * dzzrd + sin(2*Th)*dxzrd\n",
    "Gxxpd=cos(Th)**2 * dxxpd + sin(Th)**2 * dzzpd - sin(2*Th)*dxzpd"
   ]
  },
  {
   "cell_type": "code",
   "execution_count": 21,
   "metadata": {
    "collapsed": true
   },
   "outputs": [],
   "source": [
    "# Forward wave equation r\n",
    "wavepa = m * dttp -  Gxxpe - Gzzrd - q  \n",
    "#waver"
   ]
  },
  {
   "cell_type": "code",
   "execution_count": 22,
   "metadata": {
    "collapsed": true
   },
   "outputs": [],
   "source": [
    "# Forward wave equation p\n",
    "wavera = m * dttr -  Gxxpd -  Gzzr - q \n",
    "#wavep"
   ]
  },
  {
   "cell_type": "code",
   "execution_count": 23,
   "metadata": {
    "collapsed": false
   },
   "outputs": [
    {
     "data": {
      "image/png": "[encoded data removed]",
      "text/latex": [
       "$$\\left(- \\frac{2}{s^{2}} p{\\left (z,x,t \\right )} + \\frac{1}{s^{2}} p{\\left (z,x,- s + t \\right )} + \\frac{1}{s^{2}} p{\\left (z,x,s + t \\right )}\\right) M{\\left (z,x \\right )} - Q{\\left (z,x,t \\right )} - \\frac{1}{h^{2}} \\left(- 2 A{\\left (z,x \\right )} p{\\left (z,x,t \\right )} + A{\\left (z,- h + x \\right )} p{\\left (z,- h + x,t \\right )} + A{\\left (z,h + x \\right )} p{\\left (z,h + x,t \\right )}\\right) \\cos^{2}{\\left (\\theta{\\left (z,x \\right )} \\right )} - \\frac{1}{h^{2}} \\left(- 2 A{\\left (z,x \\right )} p{\\left (z,x,t \\right )} + A{\\left (- h + z,x \\right )} p{\\left (- h + z,x,t \\right )} + A{\\left (h + z,x \\right )} p{\\left (h + z,x,t \\right )}\\right) \\sin^{2}{\\left (\\theta{\\left (z,x \\right )} \\right )} - \\frac{1}{h^{2}} \\left(- 2 B{\\left (z,x \\right )} r{\\left (z,x,t \\right )} + B{\\left (z,- h + x \\right )} r{\\left (z,- h + x,t \\right )} + B{\\left (z,h + x \\right )} r{\\left (z,h + x,t \\right )}\\right) \\sin^{2}{\\left (\\theta{\\left (z,x \\right )} \\right )} - \\frac{1}{h^{2}} \\left(- 2 B{\\left (z,x \\right )} r{\\left (z,x,t \\right )} + B{\\left (- h + z,x \\right )} r{\\left (- h + z,x,t \\right )} + B{\\left (h + z,x \\right )} r{\\left (h + z,x,t \\right )}\\right) \\cos^{2}{\\left (\\theta{\\left (z,x \\right )} \\right )} + \\frac{0.5}{h^{2}} \\left(- 2 A{\\left (z,x \\right )} p{\\left (z,x,t \\right )} + A{\\left (z,- h + x \\right )} p{\\left (z,- h + x,t \\right )} + A{\\left (z,h + x \\right )} p{\\left (z,h + x,t \\right )} + A{\\left (- h + z,x \\right )} p{\\left (- h + z,x,t \\right )} - A{\\left (- h + z,h + x \\right )} p{\\left (- h + z,h + x,t \\right )} + A{\\left (h + z,x \\right )} p{\\left (h + z,x,t \\right )} - A{\\left (h + z,- h + x \\right )} p{\\left (h + z,- h + x,t \\right )}\\right) \\sin{\\left (2 \\theta{\\left (z,x \\right )} \\right )} - \\frac{0.5}{h^{2}} \\left(- 2 B{\\left (z,x \\right )} r{\\left (z,x,t \\right )} + B{\\left (z,- h + x \\right )} r{\\left (z,- h + x,t \\right )} + B{\\left (z,h + x \\right )} r{\\left (z,h + x,t \\right )} + B{\\left (- h + z,x \\right )} r{\\left (- h + z,x,t \\right )} - B{\\left (- h + z,h + x \\right )} r{\\left (- h + z,h + x,t \\right )} + B{\\left (h + z,x \\right )} r{\\left (h + z,x,t \\right )} - B{\\left (h + z,- h + x \\right )} r{\\left (h + z,- h + x,t \\right )}\\right) \\sin{\\left (2 \\theta{\\left (z,x \\right )} \\right )}$$"
      ],
      "text/plain": [
       "                                                                              \n",
       "⎛  2⋅p(z, x, t)   p(z, x, -s + t)   p(z, x, s + t)⎞                        (-2\n",
       "⎜- ──────────── + ─────────────── + ──────────────⎟⋅M(z, x) - Q(z, x, t) - ───\n",
       "⎜        2                2                2      ⎟                           \n",
       "⎝       s                s                s       ⎠                           \n",
       "\n",
       "                                                                              \n",
       "⋅A(z, x)⋅p(z, x, t) + A(z, -h + x)⋅p(z, -h + x, t) + A(z, h + x)⋅p(z, h + x, t\n",
       "──────────────────────────────────────────────────────────────────────────────\n",
       "                                              2                               \n",
       "                                             h                                \n",
       "\n",
       "      2                                                                       \n",
       "))⋅cos (θ(z, x))   (-2⋅A(z, x)⋅p(z, x, t) + A(-h + z, x)⋅p(-h + z, x, t) + A(h\n",
       "──────────────── - ───────────────────────────────────────────────────────────\n",
       "                                                                    2         \n",
       "                                                                   h          \n",
       "\n",
       "                            2                                                 \n",
       " + z, x)⋅p(h + z, x, t))⋅sin (θ(z, x))   (-2⋅B(z, x)⋅r(z, x, t) + B(z, -h + x)\n",
       "────────────────────────────────────── - ─────────────────────────────────────\n",
       "                                                                              \n",
       "                                                                              \n",
       "\n",
       "                                                  2                           \n",
       "⋅r(z, -h + x, t) + B(z, h + x)⋅r(z, h + x, t))⋅sin (θ(z, x))   (-2⋅B(z, x)⋅r(z\n",
       "──────────────────────────────────────────────────────────── - ───────────────\n",
       "            2                                                                 \n",
       "           h                                                                  \n",
       "\n",
       "                                                                        2     \n",
       ", x, t) + B(-h + z, x)⋅r(-h + z, x, t) + B(h + z, x)⋅r(h + z, x, t))⋅cos (θ(z,\n",
       "──────────────────────────────────────────────────────────────────────────────\n",
       "                                  2                                           \n",
       "                                 h                                            \n",
       "\n",
       "                                                                              \n",
       " x))   0.5⋅(-2⋅A(z, x)⋅p(z, x, t) + A(z, -h + x)⋅p(z, -h + x, t) + A(z, h + x)\n",
       "──── + ───────────────────────────────────────────────────────────────────────\n",
       "                                                                              \n",
       "                                                                              \n",
       "\n",
       "                                                                              \n",
       "⋅p(z, h + x, t) + A(-h + z, x)⋅p(-h + z, x, t) - A(-h + z, h + x)⋅p(-h + z, h \n",
       "──────────────────────────────────────────────────────────────────────────────\n",
       "                                                 2                            \n",
       "                                                h                             \n",
       "\n",
       "                                                                              \n",
       "+ x, t) + A(h + z, x)⋅p(h + z, x, t) - A(h + z, -h + x)⋅p(h + z, -h + x, t))⋅s\n",
       "──────────────────────────────────────────────────────────────────────────────\n",
       "                                                                              \n",
       "                                                                              \n",
       "\n",
       "                                                                              \n",
       "in(2⋅θ(z, x))   - -0.5⋅(-2⋅B(z, x)⋅r(z, x, t) + B(z, -h + x)⋅r(z, -h + x, t) +\n",
       "───────────── - ──────────────────────────────────────────────────────────────\n",
       "                                                                              \n",
       "                                                                              \n",
       "\n",
       "                                                                              \n",
       " B(z, h + x)⋅r(z, h + x, t) + B(-h + z, x)⋅r(-h + z, x, t) - B(-h + z, h + x)⋅\n",
       "──────────────────────────────────────────────────────────────────────────────\n",
       "                                                            2                 \n",
       "                                                           h                  \n",
       "\n",
       "                                                                              \n",
       "r(-h + z, h + x, t) + B(h + z, x)⋅r(h + z, x, t) - B(h + z, -h + x)⋅r(h + z, -\n",
       "──────────────────────────────────────────────────────────────────────────────\n",
       "                                                                              \n",
       "                                                                              \n",
       "\n",
       "                          \n",
       "h + x, t))⋅sin(2⋅θ(z, x)) \n",
       "──────────────────────────\n",
       "                          \n",
       "                          "
      ]
     },
     "execution_count": 23,
     "metadata": {},
     "output_type": "execute_result"
    }
   ],
   "source": [
    "wavepa"
   ]
  },
  {
   "cell_type": "code",
   "execution_count": 24,
   "metadata": {
    "collapsed": true
   },
   "outputs": [],
   "source": [
    "arglambpa=(p(z,x,t+s),\n",
    "          p(z,x,t),\n",
    "          p(z,x-h,t),\n",
    "          p(z,x+h,t),\n",
    "          p(z-h,x,t),\n",
    "          p(z+h,x,t),\n",
    "          p(z-h,x+h,t),\n",
    "          p(z+h,x-h,t),\n",
    "          r(z,x,t),\n",
    "          r(z,x-h,t),\n",
    "          r(z,x+h,t),\n",
    "          r(z-h,x,t),\n",
    "          r(z+h,x,t),\n",
    "          r(z-h,x+h,t),\n",
    "          r(z+h,x-h,t),\n",
    "          A(z,x),\n",
    "          A(z,x-h),\n",
    "          A(z,x+h),\n",
    "          A(z-h,x),\n",
    "          A(z+h,x),\n",
    "          A(z-h,x+h),\n",
    "          A(z+h,x-h),\n",
    "          B(z,x),\n",
    "          B(z,x-h),\n",
    "          B(z,x+h),\n",
    "          B(z-h,x),\n",
    "          B(z+h,x),\n",
    "          B(z-h,x+h),\n",
    "          B(z+h,x-h),\n",
    "          q , \n",
    "          m,\n",
    "          Th,\n",
    "          s, \n",
    "          h,\n",
    "          e)\n",
    "arglambra=(r(z,x,t+s), \n",
    "          p(z,x,t),\n",
    "          p(z,x-h,t),\n",
    "          p(z,x+h,t),\n",
    "          p(z-h,x,t),\n",
    "          p(z+h,x,t),\n",
    "          p(z-h,x+h,t),\n",
    "          p(z+h,x-h,t),\n",
    "          r(z,x,t),\n",
    "          r(z,x-h,t),\n",
    "          r(z,x+h,t),\n",
    "          r(z-h,x,t),\n",
    "          r(z+h,x,t),\n",
    "          r(z-h,x+h,t),\n",
    "          r(z+h,x-h,t),\n",
    "          B(z,x),\n",
    "          B(z,x-h),\n",
    "          B(z,x+h),\n",
    "          B(z-h,x),\n",
    "          B(z+h,x),\n",
    "          B(z-h,x+h),\n",
    "          B(z+h,x-h),\n",
    "          q , \n",
    "          m,\n",
    "          Th,\n",
    "          s, \n",
    "          h,\n",
    "          e)"
   ]
  },
  {
   "cell_type": "code",
   "execution_count": 25,
   "metadata": {
    "collapsed": false
   },
   "outputs": [
    {
     "data": {
      "image/png": "[encoded data removed]",
      "text/latex": [
       "$$\\left ( p{\\left (z,x,s + t \\right )}, \\quad p{\\left (z,x,t \\right )}, \\quad p{\\left (z,- h + x,t \\right )}, \\quad p{\\left (z,h + x,t \\right )}, \\quad p{\\left (- h + z,x,t \\right )}, \\quad p{\\left (h + z,x,t \\right )}, \\quad p{\\left (- h + z,h + x,t \\right )}, \\quad p{\\left (h + z,- h + x,t \\right )}, \\quad r{\\left (z,x,t \\right )}, \\quad r{\\left (z,- h + x,t \\right )}, \\quad r{\\left (z,h + x,t \\right )}, \\quad r{\\left (- h + z,x,t \\right )}, \\quad r{\\left (h + z,x,t \\right )}, \\quad r{\\left (- h + z,h + x,t \\right )}, \\quad r{\\left (h + z,- h + x,t \\right )}, \\quad A{\\left (z,x \\right )}, \\quad A{\\left (z,- h + x \\right )}, \\quad A{\\left (z,h + x \\right )}, \\quad A{\\left (- h + z,x \\right )}, \\quad A{\\left (h + z,x \\right )}, \\quad A{\\left (- h + z,h + x \\right )}, \\quad A{\\left (h + z,- h + x \\right )}, \\quad B{\\left (z,x \\right )}, \\quad B{\\left (z,- h + x \\right )}, \\quad B{\\left (z,h + x \\right )}, \\quad B{\\left (- h + z,x \\right )}, \\quad B{\\left (h + z,x \\right )}, \\quad B{\\left (- h + z,h + x \\right )}, \\quad B{\\left (h + z,- h + x \\right )}, \\quad Q{\\left (z,x,t \\right )}, \\quad M{\\left (z,x \\right )}, \\quad \\theta{\\left (z,x \\right )}, \\quad s, \\quad h, \\quad E{\\left (z,x \\right )}\\right )$$"
      ],
      "text/plain": [
       "(p(z, x, s + t), p(z, x, t), p(z, -h + x, t), p(z, h + x, t), p(-h + z, x, t),\n",
       " p(h + z, x, t), p(-h + z, h + x, t), p(h + z, -h + x, t), r(z, x, t), r(z, -h\n",
       " + x, t), r(z, h + x, t), r(-h + z, x, t), r(h + z, x, t), r(-h + z, h + x, t)\n",
       ", r(h + z, -h + x, t), A(z, x), A(z, -h + x), A(z, h + x), A(-h + z, x), A(h +\n",
       " z, x), A(-h + z, h + x), A(h + z, -h + x), B(z, x), B(z, -h + x), B(z, h + x)\n",
       ", B(-h + z, x), B(h + z, x), B(-h + z, h + x), B(h + z, -h + x), Q(z, x, t), M\n",
       "(z, x), θ(z, x), s, h, E(z, x))"
      ]
     },
     "execution_count": 25,
     "metadata": {},
     "output_type": "execute_result"
    }
   ],
   "source": [
    "arglambpa"
   ]
  },
  {
   "cell_type": "code",
   "execution_count": 26,
   "metadata": {
    "collapsed": false
   },
   "outputs": [],
   "source": [
    "stencilpa =solve(wavepa,p(z,x,t-s),simplify=False)[0]\n",
    "tspa=lambdify(arglambpa,  stencilpa,  \"numpy\")\n",
    "#factor(stencilp)"
   ]
  },
  {
   "cell_type": "code",
   "execution_count": 27,
   "metadata": {
    "collapsed": true
   },
   "outputs": [],
   "source": [
    "stencilra =solve(wavera,r(z,x,t-s),simplify=False)[0]\n",
    "tsra=lambdify(arglambra,  stencilra,  \"numpy\")\n",
    "#factor(stencilp)"
   ]
  },
  {
   "cell_type": "code",
   "execution_count": 28,
   "metadata": {
    "collapsed": true
   },
   "outputs": [],
   "source": [
    "def Adjoint(nt,nz,nx,m,eps,delt,the,rec):\n",
    "    u1=np.zeros((nt+2,nz,nx))\n",
    "    u2=np.zeros((nt+2,nz,nx))\n",
    "    srca=np.zeros((nt))\n",
    "    for ti in  range(nt-1, -1, -1):\n",
    "        for a in range(1,nz-1):\n",
    "            for b in range(1,nx-1):\n",
    "                if a==zrec:\n",
    "                    resid=rec[ti,b-1]\n",
    "                else:\n",
    "                    resid=0\n",
    "                damp=dampz(a)+dampx(b)\n",
    "                u1[ti,a,b]=tspa(u1[ti+2,a,b],\n",
    "                                 u1[ti+1,a,b],\n",
    "                                 u1[ti+1,a,b-1],\n",
    "                                 u1[ti+1,a,b+1],\n",
    "                                 u1[ti+1,a-1,b],\n",
    "                                 u1[ti+1,a+1,b],\n",
    "                                 u1[ti+1,a-1,b+1],\n",
    "                                 u1[ti+1,a+1,b-1],\n",
    "                                 u2[ti+1,a,b],\n",
    "                                 u2[ti+1,a,b-1],\n",
    "                                 u2[ti+1,a,b+1],\n",
    "                                 u2[ti+1,a-1,b],\n",
    "                                 u2[ti+1,a+1,b],\n",
    "                                 u2[ti+1,a-1,b+1],\n",
    "                                 u2[ti+1,a+1,b-1],\n",
    "                                 eps[a,b],\n",
    "                                 eps[a,b-1],\n",
    "                                 eps[a,b+1],\n",
    "                                 eps[a-1,b],\n",
    "                                 eps[a+1,b],\n",
    "                                 eps[a-1,b+1],\n",
    "                                 eps[a+1,b-1],\n",
    "                                 delt[a,b],\n",
    "                                 delt[a,b-1],\n",
    "                                 delt[a,b+1],\n",
    "                                 delt[a-1,b],\n",
    "                                 delt[a+1,b],\n",
    "                                 delt[a-1,b+1],\n",
    "                                 delt[a+1,b-1],\n",
    "                                 .5*resid , \n",
    "                                 m[a,b],\n",
    "                                 the[a,b],\n",
    "                                 tstep,\n",
    "                                 hstep,\n",
    "                                 damp)\n",
    "                u2[ti,a,b]=tsra(u2[ti+2,a,b],\n",
    "                                 u1[ti+1,a,b],\n",
    "                                 u1[ti+1,a,b-1],\n",
    "                                 u1[ti+1,a,b+1],\n",
    "                                 u1[ti+1,a-1,b],\n",
    "                                 u1[ti+1,a+1,b],\n",
    "                                 u1[ti+1,a-1,b+1],\n",
    "                                 u1[ti+1,a+1,b-1],\n",
    "                                 u2[ti+1,a,b],\n",
    "                                 u2[ti+1,a,b-1],\n",
    "                                 u2[ti+1,a,b+1],\n",
    "                                 u2[ti+1,a-1,b],\n",
    "                                 u2[ti+1,a+1,b],\n",
    "                                 u2[ti+1,a-1,b+1],\n",
    "                                 u2[ti+1,a+1,b-1],\n",
    "                                 delt[a,b],\n",
    "                                 delt[a,b-1],\n",
    "                                 delt[a,b+1],\n",
    "                                 delt[a-1,b],\n",
    "                                 delt[a+1,b],\n",
    "                                 delt[a-1,b+1],\n",
    "                                 delt[a+1,b-1],\n",
    "                                 .5*resid , \n",
    "                                 m[a,b],\n",
    "                                 the[a,b],\n",
    "                                 tstep,\n",
    "                                 hstep,\n",
    "                                 damp)\n",
    "                if abs(xmin+b*hstep-xsrc)<hstep/2 and abs(zmin+a*hstep-zsrc)<hstep/2:\n",
    "                    srca[ti]=.5*u1[ti,a,b]+.5*u2[ti,a,b]\n",
    "    return srca,u1,u2"
   ]
  },
  {
   "cell_type": "code",
   "execution_count": 29,
   "metadata": {
    "collapsed": false
   },
   "outputs": [],
   "source": [
    "(srca,u1,u2)=Adjoint(nt,nz,nx,mt,eps,delt,the,rect)"
   ]
  },
  {
   "cell_type": "code",
   "execution_count": 33,
   "metadata": {
    "collapsed": false
   },
   "outputs": [
    {
     "data": {
      "image/png": "[encoded data removed]",
      "text/latex": [
       "$$\\left ( 2511.57144283, \\quad 2511.57144283, \\quad -8.18545231596e-12, \\quad 1.0\\right )$$"
      ],
      "text/plain": [
       "(2511.57144283, 2511.57144283, -8.18545231596e-12, 1.0)"
      ]
     },
     "execution_count": 33,
     "metadata": {},
     "output_type": "execute_result"
    }
   ],
   "source": [
    "# Actual adjoint test\n",
    "term1=0\n",
    "for ti in range(0,nt):\n",
    "    term1=term1+srca[ti]*source(xsrc,zsrc,(ti)*tstep)\n",
    "\n",
    "term2=LA.norm(rect)**2\n",
    "\n",
    "term1,term2,term1-term2,term1/term2"
   ]
  },
  {
   "cell_type": "code",
   "execution_count": 31,
   "metadata": {
    "collapsed": true
   },
   "outputs": [],
   "source": [
    "fig = plt.figure()\n",
    "plts = []             # get ready to populate this list the Line artists to be plotted\n",
    "plt.hold(\"off\")\n",
    "for i in range(nt):\n",
    "    r = plt.imshow(u1[nt-i,:,:]+u2[nt-i,:,:],vmin=-1,vmax=1)   # this is how you'd plot a single line...\n",
    "    plts.append( [r] )  \n",
    "ani = animation.ArtistAnimation(fig, plts, interval=50,  repeat = False)   # run the animation\n",
    "plt.show()"
   ]
  },
  {
   "cell_type": "code",
   "execution_count": 34,
   "metadata": {
    "collapsed": true
   },
   "outputs": [],
   "source": [
    "\n",
    "shotrec = plt.plot(srca)   # this is how you'd plot a single line...\n",
    "plt.show()"
   ]
  },
  {
   "cell_type": "code",
   "execution_count": null,
   "metadata": {
    "collapsed": true
   },
   "outputs": [],
   "source": []
  }
 ],
 "metadata": {
  "kernelspec": {
   "display_name": "Python 3",
   "language": "python",
   "name": "python3"
  },
  "language_info": {
   "codemirror_mode": {
    "name": "ipython",
    "version": 3
   },
   "file_extension": ".py",
   "mimetype": "text/x-python",
   "name": "python",
   "nbconvert_exporter": "python",
   "pygments_lexer": "ipython3",
   "version": "3.5.1"
  }
 },
 "nbformat": 4,
 "nbformat_minor": 0
}

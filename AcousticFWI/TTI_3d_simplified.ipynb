{
 "cells": [
  {
   "cell_type": "markdown",
   "metadata": {},
   "source": [
    "## PDE \n",
    "The TTI wave equation for the square slowness m, thomsen parametersd $\\epsilon$, $\\delta$, $\\theta$ and $\\Phi$ (dip and asymuth)  and a source q is given in 3D by :\n",
    "\n",
    "\\begin{cases} \n",
    " &m \\frac{d^2 p(x,t)}{dt^2} - (1+2\\epsilon)(G_{\\bar{x}\\bar{x}} + G_{\\bar{y}\\bar{y}}) p(x,t) - \\sqrt{(1+2\\delta)}G_{\\bar{z}\\bar{z}} r(x,t) =q  \\\\\n",
    " &m \\frac{d^2 r(x,t)}{dt^2} -  \\sqrt{(1+2\\delta)}(G_{\\bar{x}\\bar{x}} + G_{\\bar{y}\\bar{y}}) p(x,t) - G_{\\bar{z}\\bar{z}} r(x,t) =q    \\\\\n",
    " &u(.,0) = 0 \\\\\n",
    " &\\frac{d u(x,t)}{dt}|_{t=0} = 0 \n",
    "\\end{cases}\n",
    "\n",
    "\n",
    "where\n",
    "\\begin{cases} \n",
    "G_{\\bar{x}\\bar{x}} & = cos(\\phi)^2 cos(\\theta)^2 \\frac{d^2}{dx^2} +sin(\\phi)^2 cos(\\theta)^2 \\frac{d^2}{dy^2}+ sin(\\theta)^2 \\frac{d^2}{dz^2} + sin(2\\phi) cos(\\theta)^2 \\frac{d^2}{dx dy} - sin(\\phi) sin(2\\theta) \\frac{d^2}{dy dz} -cos(\\phi) sin(2\\theta) \\frac{d^2}{dx dz} \\\\\n",
    "G_{\\bar{y}\\bar{y}} & =  sin(\\phi)^2 \\frac{d^2}{dx^2} +cos(\\phi)^2  \\frac{d^2}{dy^2} - sin(2\\phi)^2 \\frac{d^2}{dx dy}\\\\\n",
    "G_{\\bar{z}\\bar{z}} & = cos(\\phi)^2 sin(\\theta)^2 \\frac{d^2}{dx^2} +sin(\\phi)^2 sin(\\theta)^2 \\frac{d^2}{dy^2}+ cos(\\theta)^2 \\frac{d^2}{dz^2} + sin(2\\phi) sin(\\theta)^2 \\frac{d^2}{dx dy} + sin(\\phi) sin(2\\theta) \\frac{d^2}{dy dz} +cos(\\phi) sin(2\\theta) \\frac{d^2}{dx dz} \\\\ \n",
    "\\end{cases}\n",
    "with the zero initial conditons to guaranty unicity of the solution\n",
    "\n",
    "It correspondto a velocity model where the velocity in the z direction is different from the velocity in the xy plane"
   ]
  },
  {
   "cell_type": "code",
   "execution_count": 1,
   "metadata": {
    "collapsed": false
   },
   "outputs": [],
   "source": [
    "from sympy import *\n",
    "from sympy.abc import *\n",
    "from sympy.galgebra.ga import *\n",
    "import numpy as np\n",
    "from numpy import linalg as LA\n",
    "from __future__ import print_function\n",
    "from functools import reduce\n",
    "from operator import mul\n",
    "init_printing()"
   ]
  },
  {
   "cell_type": "code",
   "execution_count": 2,
   "metadata": {
    "collapsed": true
   },
   "outputs": [],
   "source": [
    "p=Function('p')\n",
    "r=Function('r')\n",
    "\n",
    "s,h,x,y,z = symbols('s h x y z')\n",
    "m=M(x,y,z)\n",
    "q=Q(x,y,z,t)\n",
    "d=D(x,y,z,t)\n",
    "e=E(x,y,z)\n",
    "\n",
    "A=epsilon(x,y,z)  # (1 + 2epsilon) but make the symbolic simpler\n",
    "B=delta(x,y,z) # sqrt(1 + 2epsilon) but make the symbolic simpler\n",
    "Th=theta(x,y,z)\n",
    "Ph=phi(x,y,z)\n"
   ]
  },
  {
   "cell_type": "code",
   "execution_count": 3,
   "metadata": {
    "collapsed": true
   },
   "outputs": [],
   "source": [
    "order=1\n",
    "\n",
    "indxx = [(x + i * h) for i in range(-order, order + 1)]\n",
    "indyy = [(y + i * h) for i in range(-order, order + 1)]\n",
    "indzz = [(z + i * h) for i in range(-order, order + 1)]"
   ]
  },
  {
   "cell_type": "code",
   "execution_count": 4,
   "metadata": {
    "collapsed": true
   },
   "outputs": [],
   "source": [
    "dttp=as_finite_diff(p(x,y,z,t).diff(t,t), [t-s,t, t+s])\n",
    "dttr=as_finite_diff(r(x,y,z,t).diff(t,t), [t-s,t, t+s])\n",
    "dtp=as_finite_diff(p(x,y,z,t).diff(t), [t-s,t])\n",
    "dtr=as_finite_diff(r(x,y,z,t).diff(t), [t-s,t])\n",
    "# Spacial finite differences can easily be extended to higher order by increasing the list of sampling point in the next expression. \n",
    "# Be sure to keep this stencil symmetric and everything else in the notebook will follow.\n",
    "dxxp=as_finite_diff(p(x,y,z,t).diff(x,x), indxx) \n",
    "dyyp=as_finite_diff(p(x,y,z,t).diff(y,y), indyy) \n",
    "dzzp=as_finite_diff(p(x,y,z,t).diff(z,z), indzz)\n",
    "dxxr=as_finite_diff(r(x,y,z,t).diff(x,x), indxx) \n",
    "dyyr=as_finite_diff(r(x,y,z,t).diff(y,y), indyy) \n",
    "dzzr=as_finite_diff(r(x,y,z,t).diff(z,z), indzz)\n",
    "\n",
    "\n",
    "# My 4th order stencil for cross derivatives\n",
    "dxzp = .5/(h**2)*(-2*p(x,y,z,t) + p(x,y,z+h,t) + p(x,y,z-h,t) - p(x+h,y,z-h,t) + p(x-h,y,z,t) - p(x-h,y,z+h,t) + p(x+h,y,z,t))\n",
    "dxzr = .5/(h**2)*(-2*r(x,y,z,t) + r(x,y,z+h,t) + r(x,y,z-h,t) - r(x+h,y,z-h,t) + r(x-h,y,z,t) - r(x-h,y,z+h,t) + r(x+h,y,z,t))\n",
    "\n",
    "dxyp = .5/(h**2)*(-2*p(x,y,z,t) + p(x,y+h,z,t) + p(x,y-h,z,t) - p(x+h,y-h,z,t) + p(x-h,y,z,t) - p(x-h,y+h,z,t) + p(x+h,y,z,t))\n",
    "dxyr = .5/(h**2)*(-2*r(x,y,z,t) + r(x,y+h,z,t) + r(x,y-h,z,t) - r(x+h,y-h,z,t) + r(x-h,y,z,t) - r(x-h,y+h,z,t) + r(x+h,y,z,t))\n",
    "\n",
    "dyzp = .5/(h**2)*(-2*p(x,y,z,t) + p(x,y,z+h,t) + p(x,y,z-h,t) - p(x,y+h,z-h,t) + p(x,y-h,z,t) - p(x,y-h,z+h,t) + p(x,y+h,z,t))\n",
    "dyzr = .5/(h**2)*(-2*r(x,y,z,t) + r(x,y,z+h,t) + r(x,y,z-h,t) - r(x,y+h,z-h,t) + r(x,y-h,z,t) - r(x,y-h,z+h,t) + r(x,y+h,z,t))"
   ]
  },
  {
   "cell_type": "code",
   "execution_count": 28,
   "metadata": {
    "collapsed": false
   },
   "outputs": [],
   "source": [
    "# add the *arg input and done\n",
    "def cross_deriv(*args, **kwargs):\n",
    "    deriv=0\n",
    "    order = kwargs.get('order', 1)\n",
    "    dims = kwargs.get('dims', (x, y))\n",
    "    diff = kwargs.get('diff', h)\n",
    "    assert(isinstance(dims, tuple) and len(dims) == 2)\n",
    "    ind1r = [(dims[0] + i * diff) for i in range(-int((order) / 2) + 1, int((order + 1) / 2) + 2)]\n",
    "    ind2r = [(dims[1] + i * diff) for i in range(-int((order) / 2) + 1, int((order + 1) / 2) + 2)]\n",
    "    ind1l = [(dims[0] - i * diff) for i in range(-int((order) / 2) + 1, int((order + 1) / 2) + 2)]\n",
    "    ind2l = [(dims[1] - i * diff) for i in range(-int((order) / 2) + 1, int((order + 1) / 2) + 2)]\n",
    "    cx = finite_diff_weights(1, ind1r, dims[0])\n",
    "    cx = cx[-1][-1]\n",
    "    cy = finite_diff_weights(1, ind2r, dims[1])\n",
    "    cy = cy[-1][-1]\n",
    "    for i in range(0,len(ind1r)):\n",
    "        for j in range(0,len(ind2r)):\n",
    "            var1 = [a.subs({dims[0]: ind1r[i], dims[1]: ind2r[j]}) for a in args]\n",
    "            var2 = [a.subs({dims[0]: ind1l[i], dims[1]: ind2l[j]}) for a in args]\n",
    "            deriv += .25 * cy[j] * cx[i] * reduce(mul, var1, 1) + .25 * cy[len(ind2l)-j-1] * cx[len(ind1l)-i-1] * reduce(mul, var2, 1)\n",
    "    return deriv"
   ]
  },
  {
   "cell_type": "code",
   "execution_count": 29,
   "metadata": {
    "collapsed": false
   },
   "outputs": [
    {
     "data": {
      "image/png": "[encoded data removed]",
      "text/latex": [
       "$$\\frac{0.5}{h^{2}} p{\\left (- 2 h + x,y,- 2 h + z,t \\right )} - \\frac{0.5}{h^{2}} p{\\left (- 2 h + x,y,- h + z,t \\right )} - \\frac{0.5}{h^{2}} p{\\left (- h + x,y,- 2 h + z,t \\right )} + \\frac{0.5}{h^{2}} p{\\left (- h + x,y,- h + z,t \\right )} + \\frac{0.5}{h^{2}} p{\\left (h + x,y,h + z,t \\right )} - \\frac{0.5}{h^{2}} p{\\left (h + x,y,2 h + z,t \\right )} - \\frac{0.5}{h^{2}} p{\\left (2 h + x,y,h + z,t \\right )} + \\frac{0.5}{h^{2}} p{\\left (2 h + x,y,2 h + z,t \\right )}$$"
      ],
      "text/plain": [
       "0.5⋅p(-2⋅h + x, y, -2⋅h + z, t)   - -0.5⋅p(-2⋅h + x, y, -h + z, t)    - -0.5⋅p\n",
       "─────────────────────────────── - ───────────────────────────────── - ────────\n",
       "                2                                  2                          \n",
       "               h                                  h                           \n",
       "\n",
       "(-h + x, y, -2⋅h + z, t)    0.5⋅p(-h + x, y, -h + z, t)   0.5⋅p(h + x, y, h + \n",
       "───────────────────────── + ─────────────────────────── + ────────────────────\n",
       "         2                                2                            2      \n",
       "        h                                h                            h       \n",
       "\n",
       "z, t)   - -0.5⋅p(h + x, y, 2⋅h + z, t)    - -0.5⋅p(2⋅h + x, y, h + z, t)    0.\n",
       "───── - ─────────────────────────────── - ─────────────────────────────── + ──\n",
       "                        2                                 2                   \n",
       "                       h                                 h                    \n",
       "\n",
       "5⋅p(2⋅h + x, y, 2⋅h + z, t)\n",
       "───────────────────────────\n",
       "             2             \n",
       "            h              "
      ]
     },
     "execution_count": 29,
     "metadata": {},
     "output_type": "execute_result"
    }
   ],
   "source": [
    "cross_deriv(p(x, y, z, t), order=1, dims=(x,z))"
   ]
  },
  {
   "cell_type": "code",
   "execution_count": null,
   "metadata": {
    "collapsed": true
   },
   "outputs": [],
   "source": [
    "Gxxp = c**2 * a**2 * dxxp + d**2 * a**2 * dyyp + b**2 * dzzp + 2 * d * c * a**2 * dxyp - d * 2 * b * a * dyzp - c * 2 * b * a * dxzp\n",
    "Gyyp = b**2 * dxxp + c**2 * dyyp - (2 * d * c)**2 * dxyp\n",
    "Gzzr = c**2 * b**2 * dxxr + d**2 * b**2 * dyyr + a**2 * dzzr + 2 * d * c * b**2 * dxyr + d * 2 * b * a * dyzr + c * 2 * b * a * dxzr"
   ]
  },
  {
   "cell_type": "code",
   "execution_count": null,
   "metadata": {
    "collapsed": true
   },
   "outputs": [],
   "source": [
    "def Bhaskarasin(angle):\n",
    "    return 16 * angle * (3.14 - abs(angle))/(49.34 - 4 * abs(angle) * (3.14 - abs(angle)))\n",
    "\n",
    "def Bhaskaracos(angle):\n",
    "    return Bhaskarasin(angle + 1.57)\n",
    "\n",
    "a = Bhaskaracos(Th)\n",
    "b = Bhaskarasin(Th)\n",
    "c = Bhaskaracos(Ph)\n",
    "d = Bhaskaracos(Ph)"
   ]
  },
  {
   "cell_type": "code",
   "execution_count": null,
   "metadata": {
    "collapsed": false
   },
   "outputs": [],
   "source": [
    "print(a)\n",
    "print(b)\n",
    "print(c)\n",
    "print(d)"
   ]
  },
  {
   "cell_type": "code",
   "execution_count": null,
   "metadata": {
    "collapsed": false
   },
   "outputs": [],
   "source": [
    "stencilp = s**2/m*( (2 - e/s) * p(x, y, z, t) - (m/s**2 + e/s)*p(x, y, z, t-s) + A * (Gxxp + Gyyp) + B * Gzzr)"
   ]
  },
  {
   "cell_type": "code",
   "execution_count": null,
   "metadata": {
    "collapsed": false
   },
   "outputs": [],
   "source": [
    "#stencilp = simplify(expand(stencilp))"
   ]
  },
  {
   "cell_type": "code",
   "execution_count": null,
   "metadata": {
    "collapsed": false,
    "scrolled": true
   },
   "outputs": [],
   "source": [
    "#cse((stencilp))"
   ]
  },
  {
   "cell_type": "code",
   "execution_count": null,
   "metadata": {
    "collapsed": true
   },
   "outputs": [],
   "source": [
    "stencilr = s**2/m*( (2 - e/s) * r(x, y, z, t) - (m/s**2 + e/s)*r(x, y, z, t+s) + A * (Gxxp + Gyyp) +  Gzzr)"
   ]
  },
  {
   "cell_type": "code",
   "execution_count": null,
   "metadata": {
    "collapsed": true
   },
   "outputs": [],
   "source": [
    "#stencilr=factor(simplify(expand(stencilr)))"
   ]
  },
  {
   "cell_type": "code",
   "execution_count": null,
   "metadata": {
    "collapsed": false
   },
   "outputs": [],
   "source": [
    "cse((stencilp,stencilr))"
   ]
  },
  {
   "cell_type": "code",
   "execution_count": null,
   "metadata": {
    "collapsed": false
   },
   "outputs": [],
   "source": [
    "#stencilr"
   ]
  }
 ],
 "metadata": {
  "kernelspec": {
   "display_name": "Python 3",
   "language": "python",
   "name": "python3"
  },
  "language_info": {
   "codemirror_mode": {
    "name": "ipython",
    "version": 3
   },
   "file_extension": ".py",
   "mimetype": "text/x-python",
   "name": "python",
   "nbconvert_exporter": "python",
   "pygments_lexer": "ipython3",
   "version": "3.5.1"
  }
 },
 "nbformat": 4,
 "nbformat_minor": 0
}

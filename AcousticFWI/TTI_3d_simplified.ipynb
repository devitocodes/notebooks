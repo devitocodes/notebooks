{
 "cells": [
  {
   "cell_type": "markdown",
   "metadata": {},
   "source": [
    "refer to TTI3D for the equations"
   ]
  },
  {
   "cell_type": "code",
   "execution_count": 1,
   "metadata": {
    "collapsed": true
   },
   "outputs": [],
   "source": [
    "from sympy import *\n",
    "from sympy.abc import *\n",
    "from sympy.galgebra.ga import *\n",
    "import numpy as np\n",
    "from numpy import linalg as LA\n",
    "from __future__ import print_function\n",
    "init_printing()"
   ]
  },
  {
   "cell_type": "code",
   "execution_count": 2,
   "metadata": {
    "collapsed": true
   },
   "outputs": [],
   "source": [
    "p=Function('p')\n",
    "r=Function('r')\n",
    "\n",
    "s,h,x,y,z = symbols('s h x y z')\n",
    "m=M(x,y,z)\n",
    "q=Q(x,y,z,t)\n",
    "d=D(x,y,z,t)\n",
    "e=E(x,y,z)\n",
    "\n",
    "A=epsilon(x,y,z)  # (1 + 2epsilon) but make the symbolic simpler\n",
    "B=delta(x,y,z) # sqrt(1 + 2epsilon) but make the symbolic simpler\n",
    "Th=theta(x,y,z)\n",
    "Ph=phi(x,y,z)\n"
   ]
  },
  {
   "cell_type": "code",
   "execution_count": 3,
   "metadata": {
    "collapsed": true
   },
   "outputs": [],
   "source": [
    "dttp=as_finite_diff(p(x,y,z,t).diff(t,t), [t-s,t, t+s])\n",
    "dttr=as_finite_diff(r(x,y,z,t).diff(t,t), [t-s,t, t+s])\n",
    "dtp=as_finite_diff(p(x,y,z,t).diff(t), [t-s,t])\n",
    "dtr=as_finite_diff(r(x,y,z,t).diff(t), [t-s,t])\n",
    "# Spacial finite differences can easily be extended to higher order by increasing the list of sampling point in the next expression. \n",
    "# Be sure to keep this stencil symmetric and everything else in the notebook will follow.\n",
    "dxxp=as_finite_diff(p(x,y,z,t).diff(x,x), [x-h, x, x+h]) \n",
    "dyyp=as_finite_diff(p(x,y,z,t).diff(y,y), [y-h, y, y+h]) \n",
    "dzzp=as_finite_diff(p(x,y,z,t).diff(z,z), [z-h, z, z+h])\n",
    "dxxr=as_finite_diff(r(x,y,z,t).diff(x,x), [x-h, x, x+h]) \n",
    "dyyr=as_finite_diff(r(x,y,z,t).diff(y,y), [y-h, y, y+h]) \n",
    "dzzr=as_finite_diff(r(x,y,z,t).diff(z,z), [z-h, z, z+h])\n",
    "\n",
    "\n",
    "# My 4th order stencil for cross derivatives\n",
    "dxzp = .5/(h**2)*(-2*p(x,y,z,t) + p(x,y,z+h,t) + p(x,y,z-h,t) - p(x+h,y,z-h,t) + p(x-h,y,z,t) - p(x-h,y,z+h,t) + p(x+h,y,z,t))\n",
    "dxzr = .5/(h**2)*(-2*r(x,y,z,t) + r(x,y,z+h,t) + r(x,y,z-h,t) - r(x+h,y,z-h,t) + r(x-h,y,z,t) - r(x-h,y,z+h,t) + r(x+h,y,z,t))\n",
    "\n",
    "dxyp = .5/(h**2)*(-2*p(x,y,z,t) + p(x,y+h,z,t) + p(x,y-h,z,t) - p(x+h,y-h,z,t) + p(x-h,y,z,t) - p(x-h,y+h,z,t) + p(x+h,y,z,t))\n",
    "dxyr = .5/(h**2)*(-2*r(x,y,z,t) + r(x,y+h,z,t) + r(x,y-h,z,t) - r(x+h,y-h,z,t) + r(x-h,y,z,t) - r(x-h,y+h,z,t) + r(x+h,y,z,t))\n",
    "\n",
    "dyzp = .5/(h**2)*(-2*p(x,y,z,t) + p(x,y,z+h,t) + p(x,y,z-h,t) - p(x,y+h,z-h,t) + p(x,y-h,z,t) - p(x,y-h,z+h,t) + p(x,y+h,z,t))\n",
    "dyzr = .5/(h**2)*(-2*r(x,y,z,t) + r(x,y,z+h,t) + r(x,y,z-h,t) - r(x,y+h,z-h,t) + r(x,y-h,z,t) - r(x,y-h,z+h,t) + r(x,y+h,z,t))"
   ]
  },
  {
   "cell_type": "code",
   "execution_count": 4,
   "metadata": {
    "collapsed": true
   },
   "outputs": [],
   "source": [
    "Gxxp = c**2 * a**2 * dxxp + d**2 * a**2 * dyyp + b**2 * dzzp + 2 * d * c * a**2 * dxyp - d * 2 * b * a * dyzp - c * 2 * b * a * dxzp\n",
    "Gyyp = b**2 * dxxp + c**2 * dyyp - (2 * d * c)**2 * dxyp\n",
    "Gzzr = c**2 * b**2 * dxxr + d**2 * b**2 * dyyr + a**2 * dzzr + 2 * d * c * b**2 * dxyr + d * 2 * b * a * dyzr + c * 2 * b * a * dxzr"
   ]
  },
  {
   "cell_type": "code",
   "execution_count": 5,
   "metadata": {
    "collapsed": true
   },
   "outputs": [],
   "source": [
    "def Bhaskarasin(angle):\n",
    "    return 16 * angle * (3.14 - abs(angle))/(49.34 - 4 * abs(angle) * (3.14 - abs(angle)))\n",
    "\n",
    "def Bhaskaracos(angle):\n",
    "    return Bhaskarasin(angle + 1.57)\n",
    "\n",
    "a = Bhaskaracos(Th)\n",
    "b = Bhaskarasin(Th)\n",
    "c = Bhaskaracos(Ph)\n",
    "d = Bhaskaracos(Ph)"
   ]
  },
  {
   "cell_type": "code",
   "execution_count": 6,
   "metadata": {
    "collapsed": false
   },
   "outputs": [],
   "source": [
    "stencilp = s**2/m*( (2 - e/s) * p(x, y, z, t) - (m/s**2 + e/s)*p(x, y, z, t-s) + A * (Gxxp + Gyyp) + B * Gzzr)"
   ]
  },
  {
   "cell_type": "code",
   "execution_count": 7,
   "metadata": {
    "collapsed": false
   },
   "outputs": [],
   "source": [
    "stencilp = factor(simplify(expand(stencilp)))"
   ]
  },
  {
   "cell_type": "code",
   "execution_count": 8,
   "metadata": {
    "collapsed": true
   },
   "outputs": [],
   "source": [
    "stencilr = 2 * s**2 / (2 * m + s * e) * (2 * m / s**2 * r(x, y, z, t) + (s * e - 2 * m) / (2 * s**2) * r(x, y, z, t-s) + A * (Gxxp + Gyyp) + B * Gzzr)"
   ]
  },
  {
   "cell_type": "code",
   "execution_count": 9,
   "metadata": {
    "collapsed": true
   },
   "outputs": [],
   "source": [
    "stencilr=factor(simplify(expand(stencilr)))"
   ]
  },
  {
   "cell_type": "markdown",
   "metadata": {},
   "source": [
    "# Adjoint"
   ]
  },
  {
   "cell_type": "code",
   "execution_count": 10,
   "metadata": {
    "collapsed": true
   },
   "outputs": [],
   "source": [
    "def fd_coeff_2(order):\n",
    "    if order==16:\n",
    "        coeffs = [-3.054844, 1.777778, -0.311111, 0.075421, -0.017677, 0.003481, -0.000518, 0.000051, -0.000002]\n",
    "        \n",
    "    if order==14:\n",
    "        coeffs = [-3.023594, 1.750000, -0.291667, 0.064815, -0.013258, 0.002121, -0.000227, 0.000012]\n",
    "        \n",
    "    if order==12:\n",
    "        coeffs = [-2.982778, 1.714286, -0.267857, 0.052910, -0.008929, 0.001039, -0.000060]\n",
    "        \n",
    "    if order==10:\n",
    "        coeffs = [-2.927222, 1.666667, -0.238095, 0.039683, -0.004960, 0.000317]\n",
    "        \n",
    "    if order==8:\n",
    "        coeffs = [-2.847222, 1.600000, -0.200000, 0.025397, -0.001786]\n",
    "    \n",
    "    if order==6:\n",
    "        coeffs = [-2.722222, 1.500000, -0.150000, 0.01111]\n",
    "    \n",
    "    if order==4:\n",
    "        coeffs = [-2.500000, 1.333333, -0.08333]\n",
    "    \n",
    "    if order==2:\n",
    "        coeffs = [-2, 1]\n",
    "\n",
    "    return coeffs"
   ]
  },
  {
   "cell_type": "code",
   "execution_count": 11,
   "metadata": {
    "collapsed": true
   },
   "outputs": [],
   "source": [
    "p=Function('p')\n",
    "r=Function('r')\n",
    "a=Function('a')\n",
    "b=Function('b')\n",
    "c=Function('c')\n",
    "d=Function('d')\n",
    "epsilon=Function('epsilon')\n",
    "delta=Function('delta')"
   ]
  },
  {
   "cell_type": "markdown",
   "metadata": {},
   "source": [
    "# Define second derivatives function that works for a product of any functions as if it was a single function"
   ]
  },
  {
   "cell_type": "code",
   "execution_count": 18,
   "metadata": {
    "collapsed": true
   },
   "outputs": [],
   "source": [
    "def dxxa(order, h, p, *args):\n",
    "    coeffs = fd_coeff_2(order)\n",
    "    res = coeffs[0] * p(x, y, z, t)\n",
    "    for j in range(0,len(args)):\n",
    "        res = res * args[j](x, y, z)\n",
    "\n",
    "    for i in range(1,int(order/2)+1):\n",
    "        aux1 = p(x + i * h, y, z, t)\n",
    "        aux2 = p(x - i * h, y, z, t)\n",
    "        for j in range(0,len(args)):\n",
    "            aux1 = aux1 * args[j](x + i * h, y, z)\n",
    "            aux2 = aux2 * args[j](x - i * h, y, z)\n",
    "        res = res + coeffs[i]*( aux1 + aux2)\n",
    "    return (1/h**2)*res\n",
    "\n",
    "def dyya(order, h, p, *args):\n",
    "    coeffs = fd_coeff_2(order)\n",
    "    res = coeffs[0] * p(x, y, z, t)\n",
    "    for j in range(0,len(args)):\n",
    "        res = res * args[j](x, y, z)\n",
    "\n",
    "    for i in range(1,int(order/2)+1):\n",
    "        aux1 = p(x, y + i * h, z, t)\n",
    "        aux2 = p(x, y - i * h, z, t)\n",
    "        for j in range(0,len(args)):\n",
    "            aux1 = aux1 * args[j](x, y + i * h, z)\n",
    "            aux2 = aux2 * args[j](x, y - i * h, z)\n",
    "        res = res + coeffs[i]*( aux1 + aux2)\n",
    "    return (1/h**2)*res\n",
    "\n",
    "def dzza(order, h, p, *args):\n",
    "    coeffs = fd_coeff_2(order)\n",
    "    res = coeffs[0] * p(x, y, z, t)\n",
    "    for j in range(0,len(args)):\n",
    "        res = res * args[j](x, y, z)\n",
    "\n",
    "    for i in range(1,int(order/2)+1):\n",
    "        aux1 = p(x, y, z + i * h, t)\n",
    "        aux2 = p(x, y, z - i * h, t)\n",
    "        for j in range(0,len(args)):\n",
    "            aux1 = aux1 * args[j](x, y, z + i * h)\n",
    "            aux2 = aux2 * args[j](x, y, z - i * h)\n",
    "        res = res + coeffs[i]*( aux1 + aux2)\n",
    "    return (1/h**2)*res\n"
   ]
  },
  {
   "cell_type": "markdown",
   "metadata": {},
   "source": [
    "# Define cross derivatives function that works for a product of any functions as if it was a single function"
   ]
  },
  {
   "cell_type": "code",
   "execution_count": 19,
   "metadata": {
    "collapsed": true
   },
   "outputs": [],
   "source": [
    "def dxya(h, p, *args):\n",
    "    res = -2 * p(x, y, z, t)\n",
    "    for j in range(0,len(args)):\n",
    "        res = res * args[j](x, y, z)\n",
    "        # x direction\n",
    "        aux1 = p(x + h, y, z, t)\n",
    "        aux2 = p(x - h, y, z, t)\n",
    "        for j in range(0,len(args)):\n",
    "            aux1 = aux1 * args[j](x + h, y, z)\n",
    "            aux2 = aux2 * args[j](x - h, y, z)\n",
    "        res = res + (aux1 + aux2)\n",
    "        # y direction\n",
    "        aux1 = p(x, y + h, z, t)\n",
    "        aux2 = p(x, y - h, z, t)\n",
    "        for j in range(0,len(args)):\n",
    "            aux1 = aux1 * args[j](x, y + h, z)\n",
    "            aux2 = aux2 * args[j](x, y - h, z)\n",
    "        # Diagonal elements\n",
    "        aux1 = p(x - h, y + h, z, t)\n",
    "        aux2 = p(x + h, y - h, z, t)\n",
    "        for j in range(0,len(args)):\n",
    "            aux1 = aux1 * args[j](x - h, y + h, z)\n",
    "            aux2 = aux2 * args[j](x + h, y - h, z)\n",
    "        res = res - (aux1 + aux2)\n",
    "    return .5/(h**2)*res\n",
    "\n",
    "def dxza(h, p, *args):\n",
    "    res = -2 * p(x, y, z, t)\n",
    "    for j in range(0,len(args)):\n",
    "        res = res * args[j](x, y, z)\n",
    "        # x direction\n",
    "        aux1 = p(x + h, y, z, t)\n",
    "        aux2 = p(x - h, y, z, t)\n",
    "        for j in range(0,len(args)):\n",
    "            aux1 = aux1 * args[j](x + h, y, z)\n",
    "            aux2 = aux2 * args[j](x - h, y, z)\n",
    "        res = res + (aux1 + aux2)\n",
    "        # z direction\n",
    "        aux1 = p(x, y, z + h, t)\n",
    "        aux2 = p(x, y, z - h, t)\n",
    "        for j in range(0,len(args)):\n",
    "            aux1 = aux1 * args[j](x, y, z + h)\n",
    "            aux2 = aux2 * args[j](x, y, z - h)\n",
    "        # Diagonal elements\n",
    "        aux1 = p(x - i * h, y, z + h, t)\n",
    "        aux2 = p(x + i * h, y, z - h, t)\n",
    "        for j in range(0,len(args)):\n",
    "            aux1 = aux1 * args[j](x - h, y, z + h)\n",
    "            aux2 = aux2 * args[j](x + h, y, z - h)\n",
    "        res = res - (aux1 + aux2)\n",
    "    return .5/(h**2)*res\n",
    "\n",
    "def dyza(h, p, *args):\n",
    "    res = -2 * p(x, y, z, t)\n",
    "    for j in range(0,len(args)):\n",
    "        res = res * args[j](x, y, z)\n",
    "        # z direction\n",
    "        aux1 = p(x, y, z + h, t)\n",
    "        aux2 = p(x, y, z - h, t)\n",
    "        for j in range(0,len(args)):\n",
    "            aux1 = aux1 * args[j](x, y, z + h)\n",
    "            aux2 = aux2 * args[j](x, y, z - h)\n",
    "        res = res + (aux1 + aux2)\n",
    "        # y direction\n",
    "        aux1 = p(x, y + h, z, t)\n",
    "        aux2 = p(x, y - h, z, t)\n",
    "        for j in range(0,len(args)):\n",
    "            aux1 = aux1 * args[j](x, y + h, z)\n",
    "            aux2 = aux2 * args[j](x, y - h, z)\n",
    "        # Diagonal elements\n",
    "        aux1 = p(x, y + h, z - h, t)\n",
    "        aux2 = p(x, y - h, z + h, t)\n",
    "        for j in range(0,len(args)):\n",
    "            aux1 = aux1 * args[j](x, y + h, z - h)\n",
    "            aux2 = aux2 * args[j](x, y - h, z + h)\n",
    "        res = res - (aux1 + aux2)\n",
    "    return .5/(h**2)*res"
   ]
  },
  {
   "cell_type": "markdown",
   "metadata": {},
   "source": [
    "# Stencils"
   ]
  },
  {
   "cell_type": "code",
   "execution_count": 20,
   "metadata": {
    "collapsed": false
   },
   "outputs": [],
   "source": [
    "Gxxpa = dxxa(2,h,p,epsilon,a,a,c,c) + dyya(2,h,p,epsilon,d,d,a,a) + dzza(2,h,p,epsilon,b,b) + 2*dxya(h,p,epsilon,a,a,c,d) - 2 * dyza(h,p,epsilon,a,b,d) - 2 * dxza(h,p,epsilon,a,b,c)\n",
    "Gyypa = dxxa(2,h,p,epsilon,b,b) + dyya(2,h,p,epsilon,c,c) - 4 * dxya(h,p,epsilon,c,c,d,d)\n",
    "\n",
    "Gxxra = dxxa(2,h,r,delta,a,a,c,c) + dyya(2,h,r,delta,d,d,a,a) + dzza(2,h,r,delta,b,b) + 2*dxya(h,r,delta,a,a,c,d) - 2 * dyza(h,r,delta,a,b,d) - 2 * dxza(h,r,delta,a,b,c)\n",
    "Gyyra = dxxa(2,h,r,delta,b,b) + dyya(2,h,r,delta,c,c) - 4 * dxya(h,r,delta,c,c,d,d)\n",
    "\n",
    "\n",
    "\n",
    "Gzzpa = dxxa(2,h,p,delta,b,b,c,c) + dyya(2,h,p,delta,d,d,b,b) + dzza(2,h,p,delta,a,a) + 2*dxya(h,p,delta,b,b,c,d) + 2 * dyza(h,p,delta,a,b,d) + 2 * dxza(h,p,delta,a,b,c)\n",
    "Gzzra = dxxa(2,h,r,b,b,c,c) + dyya(2,h,r,d,d,b,b) + dzza(2,h,r,a,a) + 2*dxya(h,r,b,b,c,d) + 2 * dyza(h,r,a,b,d) + 2 * dxza(h,r,a,b,c)"
   ]
  },
  {
   "cell_type": "code",
   "execution_count": 21,
   "metadata": {
    "collapsed": false
   },
   "outputs": [],
   "source": [
    "wavepa = m * dttp - ( Gxxpa + Gyypa + Gxxra + Gyyra)\n",
    "wavera = m * dttp - ( Gzzpa + Gzzra)"
   ]
  },
  {
   "cell_type": "code",
   "execution_count": null,
   "metadata": {
    "collapsed": false
   },
   "outputs": [],
   "source": [
    "simplify(expand(wavepa))"
   ]
  },
  {
   "cell_type": "code",
   "execution_count": null,
   "metadata": {
    "collapsed": true
   },
   "outputs": [],
   "source": []
  }
 ],
 "metadata": {
  "kernelspec": {
   "display_name": "Python 3",
   "language": "python",
   "name": "python3"
  },
  "language_info": {
   "codemirror_mode": {
    "name": "ipython",
    "version": 3
   },
   "file_extension": ".py",
   "mimetype": "text/x-python",
   "name": "python",
   "nbconvert_exporter": "python",
   "pygments_lexer": "ipython3",
   "version": "3.5.1"
  }
 },
 "nbformat": 4,
 "nbformat_minor": 0
}

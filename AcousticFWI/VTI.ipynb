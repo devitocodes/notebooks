{
 "cells": [
  {
   "cell_type": "code",
   "execution_count": 1,
   "metadata": {
    "collapsed": false
   },
   "outputs": [],
   "source": [
    "from sympy import *\n",
    "from sympy.abc import *\n",
    "from sympy.galgebra.ga import *\n",
    "import numpy as np\n",
    "from numpy import linalg as LA\n",
    "from __future__ import print_function\n",
    "init_printing()"
   ]
  },
  {
   "cell_type": "markdown",
   "metadata": {},
   "source": [
    "# PDE \n",
    "The VTI wave equation for the square slowness m, thomsen parametersd $\\epsilon$ and $\\delta$ for 3D  and a source q is given in 3D by :\n",
    "\n",
    "# Forward\n",
    "\n",
    "\\begin{cases} \n",
    " &m \\frac{d^2 p(x,t)}{dt^2} - (1+2\\epsilon)(\\frac{d^2 p(x,t)}{dx^2}+ \\frac{d^2 p(x,t)}{dy^2}) - \\sqrt{(1+2\\delta)} \\frac{d^2 r(x,t)}{dz^2} =q  \\\\\n",
    " &m \\frac{d^2 r(x,t)}{dt^2} - \\sqrt{(1+2\\delta)}(\\frac{d^2 p(x,t)}{dx^2}+ \\frac{d^2 p(x,t)}{dy^2}) - \\frac{d^2 r(x,t)}{dz^2} =q  \\\\\n",
    " &u(.,0) = 0 \\\\\n",
    " &\\frac{d u(x,t)}{dt}|_{t=0} = 0 \n",
    "\\end{cases}\n",
    "\n",
    "with the zero initial conditons to guaranty unicity of the solution\n",
    "\n",
    "It correspondto a velocity model where the velocity in the z direction is different from the velocity in the xy plane\n",
    "\n",
    "##  Adjoint\n",
    "The VTI adjoint wave equation for the square slowness m, thomsen parametersd $\\epsilon$ and $\\delta$ for 3D  and a source q is given in 3D by :\n",
    "\n",
    "\\begin{cases} \n",
    " &m \\frac{d^2 p(x,t)}{dt^2} - (\\frac{d^2 ((1+2\\epsilon)p(x,t))}{dx^2}+ \\frac{d^2 ((1+2\\epsilon)p(x,t))}{dy^2}) -  \\frac{d^2 \\sqrt{(1+2\\delta)} r(x,t)}{dz^2} =q  \\\\\n",
    " &m \\frac{d^2 r(x,t)}{dt^2} - (\\frac{d^2 \\sqrt{(1+2\\delta)}p(x,t)}{dx^2}+ \\frac{d^2 \\sqrt{(1+2\\delta)}p(x,t)}{dy^2}) - \\frac{d^2 r(x,t)}{dz^2} =q  \\\\\n",
    " &u(.,T) = 0 \\\\\n",
    " &\\frac{d u(x,t)}{dt}|_{t=T} = 0 \n",
    "\\end{cases}\n",
    "\n",
    "with the zero initial conditons to guaranty unicity of the solution\n",
    "\n",
    "It correspondto a velocity model where the velocity in the z direction is different from the velocity in the xy plane"
   ]
  },
  {
   "cell_type": "markdown",
   "metadata": {},
   "source": [
    "# PDE 2D\n",
    "The VTI wave equation for the square slowness m, thomsen parametersd $\\epsilon$ and $\\delta$ for 3D  and a source q is given in 3D by :\n",
    "\n",
    "# Forward\n",
    "\n",
    "\\begin{cases} \n",
    " &m \\frac{d^2 p(x,t)}{dt^2} - (1+2\\epsilon)\\frac{d^2 p(x,t)}{dx^2}- \\sqrt{(1+2\\delta)} \\frac{d^2 r(x,t)}{dz^2} =q  \\\\\n",
    " &m \\frac{d^2 r(x,t)}{dt^2} - \\sqrt{(1+2\\delta)}\\frac{d^2 p(x,t)}{dx^2} - \\frac{d^2 r(x,t)}{dz^2} =q  \\\\\n",
    " &u(.,0) = 0 \\\\\n",
    " &\\frac{d u(x,t)}{dt}|_{t=0} = 0 \n",
    "\\end{cases}\n",
    "\n",
    "with the zero initial conditons to guaranty unicity of the solution\n",
    "\n",
    "It correspondto a velocity model where the velocity in the z direction is different from the velocity in the xy plane\n",
    "\n",
    "##  Adjoint\n",
    "The VTI adjoint wave equation for the square slowness m, thomsen parametersd $\\epsilon$ and $\\delta$ for 3D  and a source q is given in 3D by :\n",
    "\n",
    "\\begin{cases} \n",
    " &m \\frac{d^2 p(x,t)}{dt^2} - \\frac{d^2 ((1+2\\epsilon)p(x,t))}{dx^2} -  \\frac{d^2 \\sqrt{(1+2\\delta)} r(x,t)}{dz^2} =q  \\\\\n",
    " &m \\frac{d^2 r(x,t)}{dt^2} - \\frac{d^2 \\sqrt{(1+2\\delta)}p(x,t)}{dx^2} - \\frac{d^2 r(x,t)}{dz^2} =q  \\\\\n",
    " &u(.,T) = 0 \\\\\n",
    " &\\frac{d u(x,t)}{dt}|_{t=T} = 0 \n",
    "\\end{cases}\n",
    "\n",
    "with the zero initial conditons to guaranty unicity of the solution\n",
    "\n",
    "It correspondto a velocity model where the velocity in the z direction is different from the velocity in the xy plane"
   ]
  },
  {
   "cell_type": "code",
   "execution_count": 2,
   "metadata": {
    "collapsed": false
   },
   "outputs": [],
   "source": [
    "p=Function('p')\n",
    "r=Function('r')\n",
    "m,s,h = symbols('m s h')\n",
    "m=M(x,y)\n",
    "q=Q(x,y,t)\n",
    "d=D(x,y,t)\n",
    "e=E(x,y)\n",
    "\n",
    "A=epsilon(x,y)\n",
    "B=delta(x,y)"
   ]
  },
  {
   "cell_type": "code",
   "execution_count": 3,
   "metadata": {
    "collapsed": false
   },
   "outputs": [],
   "source": [
    "dttp=as_finite_diff(p(x,y,t).diff(t,t), [t-s,t, t+s])\n",
    "dttr=as_finite_diff(r(x,y,t).diff(t,t), [t-s,t, t+s])\n",
    "dtp=as_finite_diff(p(x,y,t).diff(t), [t-s,t])\n",
    "dtr=as_finite_diff(r(x,y,t).diff(t), [t-s,t])\n",
    "# Spacial finite differences can easily be extended to higher order by increasing the list of sampling point in the next expression. \n",
    "# Be sure to keep this stencil symmetric and everything else in the notebook will follow.\n",
    "dxxp=as_finite_diff(p(x,y,t).diff(x,x), [x-h,x, x+h]) \n",
    "dyyp=as_finite_diff(p(x,y,t).diff(y,y), [y-h,y, y+h])\n",
    "dxxr=as_finite_diff(r(x,y,t).diff(x,x), [x-h,x, x+h]) \n",
    "dyyr=as_finite_diff(r(x,y,t).diff(y,y), [y-h,y, y+h])"
   ]
  },
  {
   "cell_type": "code",
   "execution_count": 4,
   "metadata": {
    "collapsed": false
   },
   "outputs": [],
   "source": [
    "# Forward wave equation\n",
    "wavep = m*dttp -(1+2*A) *dxxp - sqrt(1+2*B)* dyyr - q  + e*dtp\n",
    "stencilp = solve(wavep,p(x,y,t+s))[0]\n",
    "stencilp\n",
    "tsp=lambdify((p(x,y,t-s),p(x-h,y,t), p(x,y,t), p(x+h,y,t), r(x,y,t),r(x,y-h,t), r(x,y+h,t), q , m, s, h,A,B,e),stencilp,\"numpy\")"
   ]
  },
  {
   "cell_type": "code",
   "execution_count": 5,
   "metadata": {
    "collapsed": false
   },
   "outputs": [],
   "source": [
    "waver = m*dttr -sqrt(1+2*B)* dxxp -  dyyr - q  + e*dtr\n",
    "stencilr = solve(waver,r(x,y,t+s))[0]\n",
    "stencilr\n",
    "tsr=lambdify((r(x,y,t-s),p(x-h,y,t), p(x,y,t), p(x+h,y,t), r(x,y,t),r(x,y-h,t), r(x,y+h,t), q , m, s, h,A,B,e),stencilr,\"numpy\")"
   ]
  },
  {
   "cell_type": "code",
   "execution_count": 6,
   "metadata": {
    "collapsed": true
   },
   "outputs": [],
   "source": [
    "# Adjoint wave equation\n"
   ]
  },
  {
   "cell_type": "code",
   "execution_count": null,
   "metadata": {
    "collapsed": true
   },
   "outputs": [],
   "source": []
  },
  {
   "cell_type": "code",
   "execution_count": null,
   "metadata": {
    "collapsed": false
   },
   "outputs": [],
   "source": []
  },
  {
   "cell_type": "code",
   "execution_count": 7,
   "metadata": {
    "collapsed": true
   },
   "outputs": [],
   "source": [
    "import matplotlib.pyplot as plt\n",
    "from matplotlib import animation\n",
    "\n",
    "hstep=20 #space increment d  = minv/(10*f0);\n",
    "tstep=1 #time increment dt < .5 * hstep /maxv;\n",
    "tmin=0.0 #initial time\n",
    "tmax=600 #simulate until\n",
    "xmin=-500.0 - 10*hstep #left bound\n",
    "xmax=500.0 + 10*hstep #right bound...assume packet never reaches boundary\n",
    "ymin=-500.0 - 10*hstep #left bound\n",
    "ymax=500.0 + 10*hstep #right bound...assume packet never reaches boundary\n",
    "f0=.010\n",
    "t0=1/.010\n",
    "nbpml=10\n",
    "nx = int((xmax-xmin)/hstep) + 1 #number of points on x grid\n",
    "ny = int((ymax-ymin)/hstep) + 1 #number of points on x grid\n",
    "nt = int((tmax-tmin)/tstep) + 2 #number of points on t grid\n",
    "xsrc=-400\n",
    "ysrc=0.0\n",
    "xrec = nbpml+4\n",
    "#set source as Ricker wavelet for f0 \n",
    "def source(x,y,t):\n",
    "    r = (np.pi*f0*(t-t0))\n",
    "    val = (1-2.*r**2)*np.exp(-r**2)\n",
    "    if abs(x-xsrc)<hstep/2 and abs(y-ysrc)<hstep/2:\n",
    "        return val\n",
    "    else:\n",
    "        return 0.0\n",
    "    \n",
    "def dampx(x):\n",
    "    dampcoeff=np.log(1.0/0.001)/(5.0*hstep);\n",
    "    if x<nbpml:\n",
    "        return dampcoeff*((nbpml-x)/nbpml)**2\n",
    "    elif x>nx-nbpml-1:\n",
    "        return dampcoeff*((x-nx+nbpml)/nbpml)**2\n",
    "    else:\n",
    "        return 0.0\n",
    "def dampy(y):\n",
    "    dampcoeff=np.log(1.0/0.001)/(5.0*hstep);\n",
    "    if y<nbpml:\n",
    "        return dampcoeff*((nbpml-y)/nbpml)**2\n",
    "    elif y>ny-nbpml-1:\n",
    "        return dampcoeff*((y-ny+nbpml)/nbpml)**2\n",
    "    else:\n",
    "        return 0.0"
   ]
  },
  {
   "cell_type": "code",
   "execution_count": 10,
   "metadata": {
    "collapsed": false
   },
   "outputs": [],
   "source": [
    "# Velocity models\n",
    "def smooth10(vel,nx,ny):\n",
    "    out=np.ones((nx,ny))\n",
    "    out[:,:]=vel[:,:]\n",
    "    for a in range(5,nx-6):\n",
    "        out[a,:]=np.sum(vel[a-5:a+5,:], axis=0) /10\n",
    "    return out\n",
    "\n",
    "# True velocity\n",
    "vel=np.ones((nx,ny)) + 2.0\n",
    "vel[floor(nx/2):nx,:]=4.5\n",
    "mt=vel**-2\n",
    "# Smooth velocity\n",
    "v0=smooth10(vel,nx,ny)\n",
    "m0=v0**-2\n",
    "eps=(np.ones((nx,ny)) -.8)\n",
    "eps[1:30,:]=0;\n",
    "eps=smooth10(eps,nx,ny);\n",
    "delt=np.ones((nx,ny)) -.9\n",
    "delt[1:30,:]=0;\n",
    "delt=smooth10(delt,nx,ny);\n",
    "dm=m0-mt"
   ]
  },
  {
   "cell_type": "code",
   "execution_count": 11,
   "metadata": {
    "collapsed": false
   },
   "outputs": [],
   "source": [
    "def Forward(nt,nx,ny,m,eps,delt):\n",
    "    u1=np.zeros((nt,nx,ny))\n",
    "    u2=np.zeros((nt,nx,ny))\n",
    "    rec=np.zeros((nt,ny-2))\n",
    "    for ti in range(0,nt):\n",
    "        for a in range(1,nx-1):\n",
    "            for b in range(1,ny-1):\n",
    "                src = source(xmin+a*hstep,ymin+b*hstep,tstep*ti)\n",
    "                damp=dampx(a)+dampy(b)\n",
    "                if ti==0:\n",
    "                    u1[ti,a,b]=tsp(0, \n",
    "                                   0, \n",
    "                                   0, \n",
    "                                   0, \n",
    "                                   0, \n",
    "                                   0, \n",
    "                                   0, \n",
    "                                   .5*src, \n",
    "                                   m[a,b], \n",
    "                                   tstep, \n",
    "                                   hstep, \n",
    "                                   eps[a,b], \n",
    "                                   delt[a,b], \n",
    "                                   damp)\n",
    "                elif ti==1:\n",
    "                    u1[ti,a,b]=tsp(0, \n",
    "                                   u1[ti-1,a-1,b], \n",
    "                                   u1[ti-1,a,b], \n",
    "                                   u1[ti-1,a+1,b], \n",
    "                                   u2[ti-1,a,b], \n",
    "                                   u2[ti-1,a,b-1], \n",
    "                                   u2[ti-1,a,b+1], \n",
    "                                   .5*src, \n",
    "                                   m[a,b], \n",
    "                                   tstep, \n",
    "                                   hstep, \n",
    "                                   eps[a,b], \n",
    "                                   delt[a,b], \n",
    "                                   damp)\n",
    "                else:\n",
    "                    u1[ti,a,b]=tsp(u1[ti-2,a,b], \n",
    "                                   u1[ti-1,a-1,b], \n",
    "                                   u1[ti-1,a,b], \n",
    "                                   u1[ti-1,a+1,b], \n",
    "                                   u2[ti-1,a,b], \n",
    "                                   u2[ti-1,a,b-1], \n",
    "                                   u2[ti-1,a,b+1], \n",
    "                                   .5*src, \n",
    "                                   m[a,b], \n",
    "                                   tstep, \n",
    "                                   hstep, \n",
    "                                   eps[a,b], \n",
    "                                   delt[a,b], \n",
    "                                   damp)\n",
    "                if ti==0:\n",
    "                    u2[ti,a,b]=tsr(0, \n",
    "                                   0, \n",
    "                                   0, \n",
    "                                   0, \n",
    "                                   0, \n",
    "                                   0, \n",
    "                                   0, \n",
    "                                   .5*src, \n",
    "                                   m[a,b], \n",
    "                                   tstep, \n",
    "                                   hstep, \n",
    "                                   eps[a,b], \n",
    "                                   delt[a,b], \n",
    "                                   damp)\n",
    "                elif ti==1:\n",
    "                    u2[ti,a,b]=tsr(0, \n",
    "                                   u1[ti-1,a-1,b], \n",
    "                                   u1[ti-1,a,b], \n",
    "                                   u1[ti-1,a+1,b], \n",
    "                                   u2[ti-1,a,b], \n",
    "                                   u2[ti-1,a,b-1], \n",
    "                                   u2[ti-1,a,b+1], \n",
    "                                   .5*src, \n",
    "                                   m[a,b], \n",
    "                                   tstep, \n",
    "                                   hstep, \n",
    "                                   eps[a,b], \n",
    "                                   delt[a,b], \n",
    "                                   damp)\n",
    "                else:\n",
    "                    u2[ti,a,b]=tsr(u2[ti-2,a,b], \n",
    "                                   u1[ti-1,a-1,b], \n",
    "                                   u1[ti-1,a,b], \n",
    "                                   u1[ti-1,a+1,b], \n",
    "                                   u2[ti-1,a,b], \n",
    "                                   u2[ti-1,a,b-1], \n",
    "                                   u2[ti-1,a,b+1], \n",
    "                                   .5*src, \n",
    "                                   m[a,b], \n",
    "                                   tstep, \n",
    "                                   hstep, \n",
    "                                   eps[a,b], \n",
    "                                   delt[a,b], \n",
    "                                   damp)\n",
    "                if a==xrec :\n",
    "                    rec[ti,b-1]=(u1[ti,a,b] + u2[ti,a,b])\n",
    "    return rec,u1,u2"
   ]
  },
  {
   "cell_type": "code",
   "execution_count": 34,
   "metadata": {
    "collapsed": false
   },
   "outputs": [],
   "source": [
    "def Adjoint(nt,nx,ny,m,rec,eps,delt):\n",
    "    u1=np.zeros((nt,nx,ny))\n",
    "    u2=np.zeros((nt,nx,ny))\n",
    "    srca=np.zeros((nt))\n",
    "    for ti in range(nt-1, -1, -1):\n",
    "        for a in range(1,nx-1):\n",
    "            for b in range(1,ny-1):\n",
    "                damp=dampx(a)+dampy(b)\n",
    "                if a==xrec:\n",
    "                    resid=rec[ti,b-1]\n",
    "                else:\n",
    "                    resid=0\n",
    "                if ti==nt-1:\n",
    "                    u1[ti,a,b]=tspa(0, \n",
    "                                   0, \n",
    "                                   0, \n",
    "                                   0, \n",
    "                                   0, \n",
    "                                   0, \n",
    "                                   0, \n",
    "                                   .5*resid, \n",
    "                                   m[a,b], \n",
    "                                   tstep, \n",
    "                                   hstep,  \n",
    "                                   -damp)\n",
    "                elif ti==nt-2:\n",
    "                    u1[ti,a,b]=tspa(0, \n",
    "                                   (1 + 2 * eps[a-1,b])*u1[ti+1,a-1,b], \n",
    "                                   (1 + 2 * eps[a,b])*u1[ti+1,a,b], \n",
    "                                   (1 + 2 * eps[a+1,b])*u1[ti+1,a+1,b], \n",
    "                                   np.sqrt(1 + 2 * delt[a,b])*u2[ti+1,a,b], \n",
    "                                   np.sqrt(1 + 2 * delt[a,b-1])*u2[ti+1,a,b-1], \n",
    "                                   np.sqrt(1 + 2 * delt[a,b+1])*u2[ti+1,a,b+1], \n",
    "                                   .5*resid, \n",
    "                                   m[a,b], \n",
    "                                   tstep, \n",
    "                                   hstep, \n",
    "                                   -damp)\n",
    "                else:\n",
    "                    u1[ti,a,b]=tspa(u1[ti+2,a,b], \n",
    "                                   (1 + 2 * eps[a-1,b])*u1[ti+1,a-1,b], \n",
    "                                   (1 + 2 * eps[a,b])*u1[ti+1,a,b], \n",
    "                                   (1 + 2 * eps[a+1,b])*u1[ti+1,a+1,b], \n",
    "                                   np.sqrt(1 + 2 * delt[a,b])*u2[ti+1,a,b], \n",
    "                                   np.sqrt(1 + 2 * delt[a,b-1])*u2[ti+1,a,b-1], \n",
    "                                   np.sqrt(1 + 2 * delt[a,b+1])*u2[ti+1,a,b+1], \n",
    "                                   .5*resid, \n",
    "                                   m[a,b], \n",
    "                                   tstep, \n",
    "                                   hstep, \n",
    "                                   -damp)\n",
    "                if ti==nt-1:\n",
    "                    u2[ti,a,b]=tsra(0, \n",
    "                                   0, \n",
    "                                   0, \n",
    "                                   0, \n",
    "                                   0, \n",
    "                                   0, \n",
    "                                   0, \n",
    "                                   .5*resid, \n",
    "                                   m[a,b], \n",
    "                                   tstep, \n",
    "                                   hstep, \n",
    "                                   -damp)\n",
    "                elif ti==nt-2:\n",
    "                    u2[ti,a,b]=tsra(0, \n",
    "                                   np.sqrt(1 + 2 * delt[a-1,b])*u1[ti+1,a-1,b], \n",
    "                                   np.sqrt(1 + 2 * delt[a,b])*u1[ti+1,a,b], \n",
    "                                   np.sqrt(1 + 2 * delt[a+1,b])*u1[ti+1,a+1,b], \n",
    "                                   u2[ti+1,a,b], \n",
    "                                   u2[ti+1,a,b-1], \n",
    "                                   u2[ti+1,a,b+1], \n",
    "                                   .5*resid, \n",
    "                                   m[a,b], \n",
    "                                   tstep, \n",
    "                                   hstep, \n",
    "                                   -damp)\n",
    "                else:\n",
    "                    u2[ti,a,b]=tsra(u2[ti+2,a,b], \n",
    "                                   np.sqrt(1 + 2 * delt[a-1,b])*u1[ti+1,a-1,b], \n",
    "                                   np.sqrt(1 + 2 * delt[a,b])*u1[ti+1,a,b], \n",
    "                                   np.sqrt(1 + 2 * delt[a+1,b])*u1[ti+1,a+1,b], \n",
    "                                   u2[ti+1,a,b], \n",
    "                                   u2[ti+1,a,b-1], \n",
    "                                   u2[ti+1,a,b+1], \n",
    "                                   .5*resid, \n",
    "                                   m[a,b], \n",
    "                                   tstep, \n",
    "                                   hstep, \n",
    "                                   -damp)\n",
    "                if abs(xmin+a*hstep-xsrc)<hstep/2 and abs(ymin+b*hstep-ysrc)<hstep/2:\n",
    "                    srca[ti]=(u1[ti,a,b]+u2[ti,a,b])\n",
    "    return srca"
   ]
  },
  {
   "cell_type": "code",
   "execution_count": 12,
   "metadata": {
    "collapsed": false
   },
   "outputs": [],
   "source": [
    "(rect,u1,u2)=Forward(nt,nx,ny,mt,eps,delt)"
   ]
  },
  {
   "cell_type": "code",
   "execution_count": 14,
   "metadata": {
    "collapsed": false
   },
   "outputs": [],
   "source": [
    "\n",
    "fig = plt.figure()\n",
    "plts = []             # get ready to populate this list the Line artists to be plotted\n",
    "plt.hold(\"off\")\n",
    "for i in range(nt):\n",
    "    r = plt.imshow(u1[i,:,:],vmin=-10,vmax=10)   # this is how you'd plot a single line...\n",
    "    plts.append( [r] )  \n",
    "ani = animation.ArtistAnimation(fig, plts, interval=50,  repeat = False)   # run the animation\n",
    "plt.show()"
   ]
  },
  {
   "cell_type": "code",
   "execution_count": null,
   "metadata": {
    "collapsed": true
   },
   "outputs": [],
   "source": [
    "fig2 = plt.figure()\n",
    "plt.hold(\"off\")\n",
    "shotrec = plt.imshow(rect)   # this is how you'd plot a single line...\n",
    "plt.show()"
   ]
  },
  {
   "cell_type": "markdown",
   "metadata": {},
   "source": [
    "# Adjoint test\n",
    "\n",
    "In ordr to guaranty we have the gradient we need to make sure that the solution of the adjoint wave equation is indeed the true adjoint. Tod os so one should check that\n",
    "\n",
    "$ <Ax,y> - <x,A^Ty> = 0$\n",
    "\n",
    "where $A$ is the wave_equation,  $A^T$ is wave_equationA and $x,y$ are any random vectors in the range of each operator. This can however be expensive as this two vector would be of size $N * n_t$. To test our operator we will the relax this test by\n",
    "\n",
    "$ <P_r A P_s^T x,y> - <x,P_SA^TP_r^Ty> = 0$\n",
    "\n",
    "where $P_r , P_s^T$ are the source and recevier projection operator mapping the source and receiver locations and times onto the full domain. This allow to have only a random source of size $n_t$ at a random postion."
   ]
  },
  {
   "cell_type": "code",
   "execution_count": 12,
   "metadata": {
    "collapsed": false
   },
   "outputs": [],
   "source": [
    "(rec0,u01,u02)=Forward(nt,nx,ny,m0,eps,delt)"
   ]
  },
  {
   "cell_type": "code",
   "execution_count": 35,
   "metadata": {
    "collapsed": false
   },
   "outputs": [],
   "source": [
    "srca=Adjoint(nt,nx,ny,m0,rec0,eps,delt)"
   ]
  },
  {
   "cell_type": "code",
   "execution_count": 36,
   "metadata": {
    "collapsed": false
   },
   "outputs": [
    {
     "data": {
      "image/png": "[encoded data removed]",
      "text/latex": [
       "$$\\left ( -1.28939256534e+224, \\quad 5941275.45337, \\quad -1.28939256534e+224, \\quad -2.17022855692e+217\\right )$$"
      ],
      "text/plain": [
       "(-1.28939256534e+224, 5941275.45337, -1.28939256534e+224, -2.17022855692e+217)"
      ]
     },
     "execution_count": 36,
     "metadata": {},
     "output_type": "execute_result"
    }
   ],
   "source": [
    "# Actual adjoint test\n",
    "term1=0\n",
    "for ti in range(0,nt):\n",
    "    term1=term1+srca[ti]*source(xsrc,ysrc,(ti)*tstep)\n",
    "\n",
    "term2=LA.norm(rec0)**2\n",
    "\n",
    "term1,term2,term1-term2,term1/term2"
   ]
  },
  {
   "cell_type": "code",
   "execution_count": null,
   "metadata": {
    "collapsed": true
   },
   "outputs": [],
   "source": [
    "fig2 = plt.figure()\n",
    "plt.hold(\"off\")\n",
    "shotrec = plt.imshow(rec0)   # this is how you'd plot a single line...\n",
    "plt.show()"
   ]
  },
  {
   "cell_type": "code",
   "execution_count": 28,
   "metadata": {
    "collapsed": true
   },
   "outputs": [],
   "source": [
    "fig2 = plt.figure()\n",
    "plt.hold(\"off\")\n",
    "shotrec = plt.plot(srca)   # this is how you'd plot a single line...\n",
    "plt.show()"
   ]
  },
  {
   "cell_type": "code",
   "execution_count": null,
   "metadata": {
    "collapsed": true
   },
   "outputs": [],
   "source": []
  }
 ],
 "metadata": {
  "kernelspec": {
   "display_name": "Python 3",
   "language": "python",
   "name": "python3"
  },
  "language_info": {
   "codemirror_mode": {
    "name": "ipython",
    "version": 3
   },
   "file_extension": ".py",
   "mimetype": "text/x-python",
   "name": "python",
   "nbconvert_exporter": "python",
   "pygments_lexer": "ipython3",
   "version": "3.5.1"
  }
 },
 "nbformat": 4,
 "nbformat_minor": 0
}

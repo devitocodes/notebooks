{
 "cells": [
  {
   "cell_type": "code",
   "execution_count": 1,
   "metadata": {
    "collapsed": false
   },
   "outputs": [],
   "source": [
    "from sympy import *\n",
    "from sympy.abc import *\n",
    "from sympy.galgebra.ga import *\n",
    "import numpy as np\n",
    "from numpy import linalg as LA\n",
    "from __future__ import print_function\n",
    "init_printing()"
   ]
  },
  {
   "cell_type": "markdown",
   "metadata": {},
   "source": [
    "## PDE \n",
    "The VTI wave equation for the square slowness m, thomsen parametersd $\\epsilon$ and $\\delta$ for 3D  and a source q is given in 3D by :\n",
    "\n",
    "\\begin{cases} \n",
    " &m \\frac{d^2 p(x,t)}{dt^2} - (1+2\\epsilon)(\\frac{d^2 p(x,t)}{dx^2}+ \\frac{d^2 p(x,t)}{dy^2}) - \\sqrt{(1+2\\delta)} \\frac{d^2 r(x,t)}{dz^2} =q  \\\\\n",
    " &m \\frac{d^2 r(x,t)}{dt^2} - \\sqrt{(1+2\\delta)}(\\frac{d^2 p(x,t)}{dx^2}+ \\frac{d^2 p(x,t)}{dy^2}) - \\frac{d^2 r(x,t)}{dz^2} =q  \\\\\n",
    " &u(.,0) = 0 \\\\\n",
    " &\\frac{d u(x,t)}{dt}|_{t=0} = 0 \n",
    "\\end{cases}\n",
    "\n",
    "with the zero initial conditons to guaranty unicity of the solution\n",
    "\n",
    "It correspondto a velocity model where the velocity in the z direction is different from the velocity in the xy plane"
   ]
  },
  {
   "cell_type": "code",
   "execution_count": 2,
   "metadata": {
    "collapsed": false
   },
   "outputs": [],
   "source": [
    "p=Function('p')\n",
    "m,s,h = symbols('m s h')\n",
    "m=M(x,y)\n",
    "q=Q(x,y,t)\n",
    "d=D(x,y,t)\n",
    "e=E(x,y)\n",
    "\n",
    "A=epsilon(x,y)\n",
    "B=delta(x,y)"
   ]
  },
  {
   "cell_type": "code",
   "execution_count": 3,
   "metadata": {
    "collapsed": false
   },
   "outputs": [
    {
     "data": {
      "image/png": "[encoded data removed]",
      "text/latex": [
       "$$\\left ( - \\frac{2}{s^{2}} p{\\left (x,y,t \\right )} + \\frac{1}{s^{2}} p{\\left (x,y,- s + t \\right )} + \\frac{1}{s^{2}} p{\\left (x,y,s + t \\right )}, \\quad - \\frac{2}{h^{2}} p{\\left (x,y,t \\right )} + \\frac{1}{h^{2}} p{\\left (- h + x,y,t \\right )} + \\frac{1}{h^{2}} p{\\left (h + x,y,t \\right )}, \\quad - \\frac{2}{h^{2}} p{\\left (x,y,t \\right )} + \\frac{1}{h^{2}} p{\\left (x,- h + y,t \\right )} + \\frac{1}{h^{2}} p{\\left (x,h + y,t \\right )}, \\quad - \\frac{1}{2 s} p{\\left (x,y,- s + t \\right )} + \\frac{1}{2 s} p{\\left (x,y,s + t \\right )}\\right )$$"
      ],
      "text/plain": [
       "⎛  2⋅p(x, y, t)   p(x, y, -s + t)   p(x, y, s + t)    2⋅p(x, y, t)   p(-h + x,\n",
       "⎜- ──────────── + ─────────────── + ──────────────, - ──────────── + ─────────\n",
       "⎜        2                2                2                2                2\n",
       "⎝       s                s                s                h                h \n",
       "\n",
       " y, t)   p(h + x, y, t)    2⋅p(x, y, t)   p(x, -h + y, t)   p(x, h + y, t)    \n",
       "────── + ──────────────, - ──────────── + ─────────────── + ──────────────, - \n",
       "                2                2                2                2          \n",
       "               h                h                h                h           \n",
       "\n",
       "p(x, y, -s + t)   p(x, y, s + t)⎞\n",
       "─────────────── + ──────────────⎟\n",
       "      2⋅s              2⋅s      ⎟\n",
       "                                ⎠"
      ]
     },
     "execution_count": 3,
     "metadata": {},
     "output_type": "execute_result"
    }
   ],
   "source": [
    "dtt=as_finite_diff(p(x,y,t).diff(t,t), [t-s,t, t+s])\n",
    "dt=as_finite_diff(p(x,y,t).diff(t), [t-s, t+s])\n",
    "# Spacial finite differences can easily be extended to higher order by increasing the list of sampling point in the next expression. \n",
    "# Be sure to keep this stencil symmetric and everything else in the notebook will follow.\n",
    "dxx=as_finite_diff(p(x,y,t).diff(x,x), [x-h,x, x+h]) \n",
    "dyy=as_finite_diff(p(x,y,t).diff(y,y), [y-h,y, y+h])\n",
    "dtt,dxx,dyy,dt"
   ]
  },
  {
   "cell_type": "code",
   "execution_count": null,
   "metadata": {
    "collapsed": true
   },
   "outputs": [],
   "source": []
  }
 ],
 "metadata": {
  "kernelspec": {
   "display_name": "Python 3",
   "language": "python",
   "name": "python3"
  },
  "language_info": {
   "codemirror_mode": {
    "name": "ipython",
    "version": 3
   },
   "file_extension": ".py",
   "mimetype": "text/x-python",
   "name": "python",
   "nbconvert_exporter": "python",
   "pygments_lexer": "ipython3",
   "version": "3.5.1"
  }
 },
 "nbformat": 4,
 "nbformat_minor": 0
}

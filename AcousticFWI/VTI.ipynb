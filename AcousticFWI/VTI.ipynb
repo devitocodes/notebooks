{
 "cells": [
  {
   "cell_type": "code",
   "execution_count": 1,
   "metadata": {
    "collapsed": false
   },
   "outputs": [],
   "source": [
    "from sympy import *\n",
    "from sympy.abc import *\n",
    "from sympy.galgebra.ga import *\n",
    "import numpy as np\n",
    "from numpy import linalg as LA\n",
    "from __future__ import print_function\n",
    "init_printing()"
   ]
  },
  {
   "cell_type": "markdown",
   "metadata": {},
   "source": [
    "## PDE \n",
    "The VTI wave equation for the square slowness m, thomsen parametersd $\\epsilon$ ( and $\\delta$ for 3D)  and a source q is given in 3D by :\n",
    "\n",
    "\\begin{cases} \n",
    " &m \\frac{d^2 u(x,t)}{dt^2} - (1+2\\epsilon)(\\frac{d^2 u(x,t)}{dx^2}+ \\frac{d^2 u(x,t)}{dy^2}) - \\sqrt{(1+2\\delta)} \\frac{d^2 u(x,t)}{dz^2} =q  \\\\\n",
    " &u(.,0) = 0 \\\\\n",
    " &\\frac{d u(x,t)}{dt}|_{t=0} = 0 \n",
    "\\end{cases}\n",
    "\n",
    "with the zero initial conditons to guaranty unicity of the solution\n",
    "\n",
    "It correspondto a velocity model where the velocity in the z direction is different from the velocity in the xy plane"
   ]
  },
  {
   "cell_type": "code",
   "execution_count": 2,
   "metadata": {
    "collapsed": false
   },
   "outputs": [],
   "source": [
    "p=Function('p')\n",
    "m,s,h = symbols('m s h')\n",
    "m=M(x,y)\n",
    "q=Q(x,y,t)\n",
    "d=D(x,y,t)\n",
    "e=E(x,y)\n",
    "\n",
    "A=epsilon(x,y)\n",
    "B=delta(x,y)"
   ]
  },
  {
   "cell_type": "code",
   "execution_count": 3,
   "metadata": {
    "collapsed": false
   },
   "outputs": [
    {
     "data": {
      "image/png": "[encoded data removed]",
      "text/latex": [
       "$$\\left ( - \\frac{2}{s^{2}} p{\\left (x,y,t \\right )} + \\frac{1}{s^{2}} p{\\left (x,y,- s + t \\right )} + \\frac{1}{s^{2}} p{\\left (x,y,s + t \\right )}, \\quad - \\frac{2}{h^{2}} p{\\left (x,y,t \\right )} + \\frac{1}{h^{2}} p{\\left (- h + x,y,t \\right )} + \\frac{1}{h^{2}} p{\\left (h + x,y,t \\right )}, \\quad - \\frac{2}{h^{2}} p{\\left (x,y,t \\right )} + \\frac{1}{h^{2}} p{\\left (x,- h + y,t \\right )} + \\frac{1}{h^{2}} p{\\left (x,h + y,t \\right )}, \\quad - \\frac{1}{2 s} p{\\left (x,y,- s + t \\right )} + \\frac{1}{2 s} p{\\left (x,y,s + t \\right )}\\right )$$"
      ],
      "text/plain": [
       "⎛  2⋅p(x, y, t)   p(x, y, -s + t)   p(x, y, s + t)    2⋅p(x, y, t)   p(-h + x,\n",
       "⎜- ──────────── + ─────────────── + ──────────────, - ──────────── + ─────────\n",
       "⎜        2                2                2                2                2\n",
       "⎝       s                s                s                h                h \n",
       "\n",
       " y, t)   p(h + x, y, t)    2⋅p(x, y, t)   p(x, -h + y, t)   p(x, h + y, t)    \n",
       "────── + ──────────────, - ──────────── + ─────────────── + ──────────────, - \n",
       "                2                2                2                2          \n",
       "               h                h                h                h           \n",
       "\n",
       "p(x, y, -s + t)   p(x, y, s + t)⎞\n",
       "─────────────── + ──────────────⎟\n",
       "      2⋅s              2⋅s      ⎟\n",
       "                                ⎠"
      ]
     },
     "execution_count": 3,
     "metadata": {},
     "output_type": "execute_result"
    }
   ],
   "source": [
    "dtt=as_finite_diff(p(x,y,t).diff(t,t), [t-s,t, t+s])\n",
    "dt=as_finite_diff(p(x,y,t).diff(t), [t-s, t+s])\n",
    "# Spacial finite differences can easily be extended to higher order by increasing the list of sampling point in the next expression. \n",
    "# Be sure to keep this stencil symmetric and everything else in the notebook will follow.\n",
    "dxx=as_finite_diff(p(x,y,t).diff(x,x), [x-h,x, x+h]) \n",
    "dyy=as_finite_diff(p(x,y,t).diff(y,y), [y-h,y, y+h])\n",
    "dtt,dxx,dyy,dt"
   ]
  },
  {
   "cell_type": "code",
   "execution_count": 19,
   "metadata": {
    "collapsed": false
   },
   "outputs": [
    {
     "data": {
      "image/png": "[encoded data removed]",
      "text/latex": [
       "$$\\frac{1}{h^{2} \\left(s E{\\left (x,y \\right )} + 2 M{\\left (x,y \\right )}\\right)} \\left(2 h^{2} s^{2} Q{\\left (x,y,t \\right )} + h^{2} s E{\\left (x,y \\right )} p{\\left (x,y,- s + t \\right )} + 4 h^{2} M{\\left (x,y \\right )} p{\\left (x,y,t \\right )} - 2 h^{2} M{\\left (x,y \\right )} p{\\left (x,y,- s + t \\right )} - 4 s^{2} \\sqrt{2 \\delta{\\left (x,y \\right )} + 1} p{\\left (x,y,t \\right )} + 2 s^{2} \\sqrt{2 \\delta{\\left (x,y \\right )} + 1} p{\\left (x,- h + y,t \\right )} + 2 s^{2} \\sqrt{2 \\delta{\\left (x,y \\right )} + 1} p{\\left (x,h + y,t \\right )} - 8 s^{2} \\epsilon{\\left (x,y \\right )} p{\\left (x,y,t \\right )} + 4 s^{2} \\epsilon{\\left (x,y \\right )} p{\\left (- h + x,y,t \\right )} + 4 s^{2} \\epsilon{\\left (x,y \\right )} p{\\left (h + x,y,t \\right )} - 4 s^{2} p{\\left (x,y,t \\right )} + 2 s^{2} p{\\left (- h + x,y,t \\right )} + 2 s^{2} p{\\left (h + x,y,t \\right )}\\right)$$"
      ],
      "text/plain": [
       "   2  2               2                                2                      \n",
       "2⋅h ⋅s ⋅Q(x, y, t) + h ⋅s⋅E(x, y)⋅p(x, y, -s + t) + 4⋅h ⋅M(x, y)⋅p(x, y, t) - \n",
       "──────────────────────────────────────────────────────────────────────────────\n",
       "                                                                              \n",
       "                                                                              \n",
       "\n",
       "   2                              2   _______________                 2   ____\n",
       "2⋅h ⋅M(x, y)⋅p(x, y, -s + t) - 4⋅s ⋅╲╱ 2⋅δ(x, y) + 1 ⋅p(x, y, t) + 2⋅s ⋅╲╱ 2⋅δ\n",
       "──────────────────────────────────────────────────────────────────────────────\n",
       "                                                                              \n",
       "                                                                              \n",
       "\n",
       "___________                      2   _______________                     2    \n",
       "(x, y) + 1 ⋅p(x, -h + y, t) + 2⋅s ⋅╲╱ 2⋅δ(x, y) + 1 ⋅p(x, h + y, t) - 8⋅s ⋅ε(x\n",
       "──────────────────────────────────────────────────────────────────────────────\n",
       "                   2                                                          \n",
       "                  h ⋅(s⋅E(x, y) + 2⋅M(x, y))                                  \n",
       "\n",
       "                     2                              2                         \n",
       ", y)⋅p(x, y, t) + 4⋅s ⋅ε(x, y)⋅p(-h + x, y, t) + 4⋅s ⋅ε(x, y)⋅p(h + x, y, t) -\n",
       "──────────────────────────────────────────────────────────────────────────────\n",
       "                                                                              \n",
       "                                                                              \n",
       "\n",
       "    2                 2                      2               \n",
       " 4⋅s ⋅p(x, y, t) + 2⋅s ⋅p(-h + x, y, t) + 2⋅s ⋅p(h + x, y, t)\n",
       "─────────────────────────────────────────────────────────────\n",
       "                                                             \n",
       "                                                             "
      ]
     },
     "execution_count": 19,
     "metadata": {},
     "output_type": "execute_result"
    }
   ],
   "source": [
    "# Forward wave equation (this is 2D so y is z)\n",
    "wave_equation = m*dtt- (1+2*A)*(dxx)-sqrt(1+2*B)*(dyy) - q  + e*dt\n",
    "stencil = solve(wave_equation,p(x,y,t+s))[0]\n",
    "ts=lambdify((p(x,y,t-s), p(x-h,y,t), p(x,y,t), p(x+h,y,t),p(x,y-h,t), p(x,y+h,t), q , m, s, h, A, B, e),stencil,\"numpy\")\n",
    "stencil "
   ]
  },
  {
   "cell_type": "code",
   "execution_count": 20,
   "metadata": {
    "collapsed": false
   },
   "outputs": [
    {
     "data": {
      "image/png": "[encoded data removed]",
      "text/latex": [
       "$$\\frac{1}{h^{2} \\left(s E{\\left (x,y \\right )} + 2 M{\\left (x,y \\right )}\\right)} \\left(2 h^{2} s^{2} Q{\\left (x,y,t \\right )} + h^{2} s E{\\left (x,y \\right )} p{\\left (x,y,s + t \\right )} + 4 h^{2} M{\\left (x,y \\right )} p{\\left (x,y,t \\right )} - 2 h^{2} M{\\left (x,y \\right )} p{\\left (x,y,s + t \\right )} - 4 s^{2} \\sqrt{2 \\delta{\\left (x,y \\right )} + 1} p{\\left (x,y,t \\right )} + 2 s^{2} \\sqrt{2 \\delta{\\left (x,y \\right )} + 1} p{\\left (x,- h + y,t \\right )} + 2 s^{2} \\sqrt{2 \\delta{\\left (x,y \\right )} + 1} p{\\left (x,h + y,t \\right )} - 8 s^{2} \\epsilon{\\left (x,y \\right )} p{\\left (x,y,t \\right )} + 4 s^{2} \\epsilon{\\left (x,y \\right )} p{\\left (- h + x,y,t \\right )} + 4 s^{2} \\epsilon{\\left (x,y \\right )} p{\\left (h + x,y,t \\right )} - 4 s^{2} p{\\left (x,y,t \\right )} + 2 s^{2} p{\\left (- h + x,y,t \\right )} + 2 s^{2} p{\\left (h + x,y,t \\right )}\\right)$$"
      ],
      "text/plain": [
       "   2  2               2                               2                       \n",
       "2⋅h ⋅s ⋅Q(x, y, t) + h ⋅s⋅E(x, y)⋅p(x, y, s + t) + 4⋅h ⋅M(x, y)⋅p(x, y, t) - 2\n",
       "──────────────────────────────────────────────────────────────────────────────\n",
       "                                                                              \n",
       "                                                                              \n",
       "\n",
       "  2                             2   _______________                 2   ______\n",
       "⋅h ⋅M(x, y)⋅p(x, y, s + t) - 4⋅s ⋅╲╱ 2⋅δ(x, y) + 1 ⋅p(x, y, t) + 2⋅s ⋅╲╱ 2⋅δ(x\n",
       "──────────────────────────────────────────────────────────────────────────────\n",
       "                                                                              \n",
       "                                                                              \n",
       "\n",
       "_________                      2   _______________                     2      \n",
       ", y) + 1 ⋅p(x, -h + y, t) + 2⋅s ⋅╲╱ 2⋅δ(x, y) + 1 ⋅p(x, h + y, t) - 8⋅s ⋅ε(x, \n",
       "──────────────────────────────────────────────────────────────────────────────\n",
       "                  2                                                           \n",
       "                 h ⋅(s⋅E(x, y) + 2⋅M(x, y))                                   \n",
       "\n",
       "                   2                              2                           \n",
       "y)⋅p(x, y, t) + 4⋅s ⋅ε(x, y)⋅p(-h + x, y, t) + 4⋅s ⋅ε(x, y)⋅p(h + x, y, t) - 4\n",
       "──────────────────────────────────────────────────────────────────────────────\n",
       "                                                                              \n",
       "                                                                              \n",
       "\n",
       "  2                 2                      2               \n",
       "⋅s ⋅p(x, y, t) + 2⋅s ⋅p(-h + x, y, t) + 2⋅s ⋅p(h + x, y, t)\n",
       "───────────────────────────────────────────────────────────\n",
       "                                                           \n",
       "                                                           "
      ]
     },
     "execution_count": 20,
     "metadata": {},
     "output_type": "execute_result"
    }
   ],
   "source": [
    "# Adjoint wave equation\n",
    "wave_equationA = m*dtt- (1+2*A)*(dxx)-sqrt(1+2*B)*(dyy) - q  - e*dt\n",
    "stencilA = solve(wave_equationA,p(x,y,t-s))[0]\n",
    "tsA=lambdify((p(x,y,t+s), p(x-h,y,t), p(x,y,t), p(x+h,y,t),p(x,y-h,t), p(x,y+h,t), d , m, s, h, A, B, e),stencilA,\"numpy\")\n",
    "stencilA"
   ]
  },
  {
   "cell_type": "code",
   "execution_count": 40,
   "metadata": {
    "collapsed": true
   },
   "outputs": [],
   "source": [
    "import matplotlib.pyplot as plt\n",
    "from matplotlib import animation\n",
    "\n",
    "hstep=25 #space increment d  = minv/(10*f0);\n",
    "tstep=2 #time increment dt < .5 * hstep /maxv;\n",
    "tmin=0.0 #initial time\n",
    "tmax=600 #simulate until\n",
    "xmin=-500.0 - 10*hstep #left bound\n",
    "xmax=500.0 + 10*hstep #right bound...assume packet never reaches boundary\n",
    "ymin=-500.0 - 10*hstep #left bound\n",
    "ymax=500.0 + 10*hstep #right bound...assume packet never reaches boundary\n",
    "f0=.010\n",
    "t0=1/.010\n",
    "nbpml=10\n",
    "nx = int((xmax-xmin)/hstep) + 1 #number of points on x grid\n",
    "ny = int((ymax-ymin)/hstep) + 1 #number of points on x grid\n",
    "nt = int((tmax-tmin)/tstep) + 2 #number of points on t grid\n",
    "xsrc=0\n",
    "ysrc=0\n",
    "xrec = nbpml+4\n",
    "#set source as Ricker wavelet for f0 \n",
    "def source(x,y,t):\n",
    "    r = (np.pi*f0*(t-t0))\n",
    "    val = (1-2.*r**2)*np.exp(-r**2)\n",
    "    if abs(x-xsrc)<hstep/2 and abs(y-ysrc)<hstep/2:\n",
    "        return val\n",
    "    else:\n",
    "        return 0.0\n",
    "    \n",
    "def dampx(x):\n",
    "    dampcoeff=np.log(1.0/0.001)/(5.0*hstep);\n",
    "    if x<nbpml:\n",
    "        return dampcoeff*((nbpml-x)/nbpml)**2\n",
    "    elif x>nx-nbpml-1:\n",
    "        return dampcoeff*((x-nx+nbpml)/nbpml)**2\n",
    "    else:\n",
    "        return 0.0\n",
    "def dampy(y):\n",
    "    dampcoeff=np.log(1.0/0.001)/(5.0*hstep);\n",
    "    if y<nbpml:\n",
    "        return dampcoeff*((nbpml-y)/nbpml)**2\n",
    "    elif y>ny-nbpml-1:\n",
    "        return dampcoeff*((y-ny+nbpml)/nbpml)**2\n",
    "    else:\n",
    "        return 0.0"
   ]
  },
  {
   "cell_type": "code",
   "execution_count": 41,
   "metadata": {
    "collapsed": true
   },
   "outputs": [],
   "source": [
    "# Velocity models\n",
    "def smooth10(vel,nx,ny):\n",
    "    out=np.ones((nx,ny))\n",
    "    out[:,:]=vel[:,:]\n",
    "    for a in range(5,nx-6):\n",
    "        out[a,:]=np.sum(vel[a-5:a+5,:], axis=0) /10\n",
    "    return out\n",
    "\n",
    "# True velocity\n",
    "vel=np.ones((nx,ny)) + 2.0\n",
    "#vel[floor(nx/2):nx,:]=4.5\n",
    "mt=vel**-2\n",
    "# Smooth velocity\n",
    "v0=smooth10(vel,nx,ny)\n",
    "m0=v0**-2\n",
    "\n",
    "dm=m0-mt\n",
    "\n",
    "\n",
    "eps=np.ones((nx,ny)) -0.7\n",
    "#eps[floor(nx/2):nx,:]=.3\n",
    "\n",
    "delt=np.ones((nx,ny)) -0.8\n",
    "#delt[floor(nx/2):nx,:]=.2\n"
   ]
  },
  {
   "cell_type": "code",
   "execution_count": 42,
   "metadata": {
    "collapsed": true
   },
   "outputs": [],
   "source": [
    "def Forward(nt,nx,ny,m):\n",
    "    u=np.zeros((nt,nx,ny))\n",
    "    rec=np.zeros((nt,ny-2))\n",
    "    for ti in range(0,nt):\n",
    "        for a in range(1,nx-1):\n",
    "            for b in range(1,ny-1):\n",
    "                src = source(xmin+a*hstep,ymin+b*hstep,tstep*ti)\n",
    "                damp=dampx(a)+dampy(b)\n",
    "                if ti==0:\n",
    "                    u[ti,a,b]=ts(0,0,0,0,0,0,src,m[a,b],tstep,hstep,eps[a,b],delt[a,b],damp)\n",
    "                elif ti==1:\n",
    "                    u[ti,a,b]=ts(0,u[ti-1,a-1,b],u[ti-1,a,b],u[ti-1,a+1,b],u[ti-1,a,b-1],u[ti-1,a,b+1],src,m[a,b],tstep,hstep,eps[a,b],delt[a,b],damp)\n",
    "                else:\n",
    "                    u[ti,a,b]=ts(u[ti-2,a,b],u[ti-1,a-1,b],u[ti-1,a,b],u[ti-1,a+1,b],u[ti-1,a,b-1],u[ti-1,a,b+1],src,m[a,b],tstep,hstep,eps[a,b],delt[a,b],damp)\n",
    "                if a==xrec :\n",
    "                    rec[ti,b-1]=u[ti,a,b] \n",
    "    return rec,u\n",
    "\n",
    "def Adjoint(nt,nx,ny,m,rec):\n",
    "    v=np.zeros((nt,nx,ny))\n",
    "    srca=np.zeros((nt))\n",
    "    for ti in  range(nt-1, -1, -1):\n",
    "        for a in range(1,nx-1):\n",
    "            for b in range(1,ny-1):\n",
    "                if a==xrec:\n",
    "                    resid=rec[ti,b-1]\n",
    "                else:\n",
    "                    resid=0\n",
    "                damp=dampx(a)+dampy(b)\n",
    "                if ti==nt-1:\n",
    "                    v[ti,a,b]=tsA(0,0,0,0,0,0,resid,m[a,b],tstep,hstep,eps[a,b],delt[a,b],damp)\n",
    "                elif ti==nt-2:\n",
    "                    v[ti,a,b]=tsA(0,v[ti+1,a-1,b],v[ti+1,a,b],v[ti+1,a+1,b],v[ti+1,a,b-1],v[ti+1,a,b+1],resid,m[a,b],tstep,hstep,eps[a,b],delt[a,b],damp)\n",
    "                else:\n",
    "                    v[ti,a,b]=tsA(v[ti+2,a,b],v[ti+1,a-1,b],v[ti+1,a,b],v[ti+1,a+1,b],v[ti+1,a,b-1],v[ti+1,a,b+1],resid,m[a,b],tstep,hstep,eps[a,b],delt[a,b],damp)\n",
    "                if abs(xmin+a*hstep-xsrc)<hstep/2 and abs(ymin+b*hstep-ysrc)<hstep/2:\n",
    "                    srca[ti]=v[ti,a,b]\n",
    "    return srca,v\n",
    "\n",
    "def Gradient(nt,nx,ny,m,rec,u):\n",
    "    v1=np.zeros((nx,ny))\n",
    "    v2=np.zeros((nx,ny))\n",
    "    v3=np.zeros((nx,ny))\n",
    "    grad=np.zeros((nx,ny))\n",
    "    for ti in range(nt-1,-1,-1):\n",
    "        for a in range(1,nx-1):\n",
    "            for b in range(1,ny-1):\n",
    "                if a==xrec:\n",
    "                    resid=rec[ti,b-1]\n",
    "                else:\n",
    "                    resid=0\n",
    "                damp=dampx(a)+dampy(b)\n",
    "                v3[a,b]=tsA(v1[a,b],v2[a-1,b],v2[a,b],v2[a+1,b],v2[a,b-1],v2[a,b+1],resid,m[a,b],tstep,hstep,eps[a,b],delt[a,b],damp)\n",
    "                grad[a,b]=grad[a,b]-(v3[a,b]-2*v2[a,b]+v1[a,b])*(u[ti,a,b])\n",
    "        v1,v2,v3=v2,v3,v1\n",
    "    # No update inside the pml, only in the physical domain\n",
    "    # grad[0:nbpml-1,:]=0\n",
    "    # grad[nx-nbpml-1:nx-1,:]=0\n",
    "    # grad[:,0:nbpml-1]=0\n",
    "    # grad[:,ny-nbpml-1:ny-1]=0\n",
    "    return tstep**-2*grad\n",
    "\n",
    "def Born(nt,nx,ny,m,dm):\n",
    "    u1=np.zeros((nx,ny))\n",
    "    U1=np.zeros((nx,ny))\n",
    "    u2=np.zeros((nx,ny))\n",
    "    U2=np.zeros((nx,ny))\n",
    "    u3=np.zeros((nx,ny))\n",
    "    U3=np.zeros((nx,ny))\n",
    "    rec=np.zeros((nt,ny-2))\n",
    "    src2=0\n",
    "    for ti in range(0,nt):\n",
    "        for a in range(1,nx-1):\n",
    "            for b in range(1,ny-1):\n",
    "                damp=dampx(a)+dampy(b)\n",
    "                src = source(xmin+a*hstep,ymin+b*hstep,tstep*ti)\n",
    "                u3[a,b]=ts(u1[a,b],u2[a-1,b],u2[a,b],u2[a+1,b],u2[a,b-1],u2[a,b+1],src,m[a,b],tstep,hstep,eps[a,b],delt[a,b],damp)\n",
    "                src2 = -tstep**-2*(u3[a,b]-2*u2[a,b]+u1[a,b])*dm[a,b]\n",
    "                U3[a,b]=ts(U1[a,b],U2[a-1,b],U2[a,b],U2[a+1,b],U2[a,b-1],U2[a,b+1],src2,m[a,b],tstep,hstep,eps[a,b],delt[a,b],damp)\n",
    "                if a==xrec :\n",
    "                    rec[ti,b-1]=U3[a,b]\n",
    "        u1,u2,u3=u2,u3,u1\n",
    "        U1,U2,U3=U2,U3,U1\n",
    "    return rec\n"
   ]
  },
  {
   "cell_type": "markdown",
   "metadata": {},
   "source": [
    "# A Forward propagation example"
   ]
  },
  {
   "cell_type": "code",
   "execution_count": 43,
   "metadata": {
    "collapsed": false
   },
   "outputs": [],
   "source": [
    "(rect,ut)=Forward(nt,nx,ny,mt)"
   ]
  },
  {
   "cell_type": "code",
   "execution_count": 44,
   "metadata": {
    "collapsed": false
   },
   "outputs": [],
   "source": [
    "\n",
    "fig = plt.figure()\n",
    "plts = []             # get ready to populate this list the Line artists to be plotted\n",
    "plt.hold(\"off\")\n",
    "for i in range(nt):\n",
    "    r = plt.imshow(ut[i,:,:],vmin=-10,vmax=10)   # this is how you'd plot a single line...\n",
    "    plts.append( [r] )  \n",
    "ani = animation.ArtistAnimation(fig, plts, interval=50,  repeat = False)   # run the animation\n",
    "plt.show()"
   ]
  },
  {
   "cell_type": "code",
   "execution_count": 33,
   "metadata": {
    "collapsed": true
   },
   "outputs": [],
   "source": [
    "fig2 = plt.figure()\n",
    "plt.hold(\"off\")\n",
    "shotrec = plt.imshow(rect)   # this is how you'd plot a single line...\n",
    "plt.show()"
   ]
  },
  {
   "cell_type": "code",
   "execution_count": null,
   "metadata": {
    "collapsed": true
   },
   "outputs": [],
   "source": []
  }
 ],
 "metadata": {
  "kernelspec": {
   "display_name": "Python 3",
   "language": "python",
   "name": "python3"
  },
  "language_info": {
   "codemirror_mode": {
    "name": "ipython",
    "version": 3
   },
   "file_extension": ".py",
   "mimetype": "text/x-python",
   "name": "python",
   "nbconvert_exporter": "python",
   "pygments_lexer": "ipython3",
   "version": "3.5.1"
  }
 },
 "nbformat": 4,
 "nbformat_minor": 0
}

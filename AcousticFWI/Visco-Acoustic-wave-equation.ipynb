{
 "cells": [
  {
   "cell_type": "code",
   "execution_count": 1,
   "metadata": {
    "collapsed": false
   },
   "outputs": [],
   "source": [
    "from sympy import *\n",
    "from sympy.abc import *\n",
    "from sympy.galgebra.ga import *\n",
    "import numpy as np\n",
    "from numpy import linalg as LA\n",
    "from __future__ import print_function\n",
    "init_printing()"
   ]
  },
  {
   "cell_type": "markdown",
   "metadata": {
    "collapsed": false
   },
   "source": [
    "## PDE \n",
    "The acoustic wave equation for the square slowness m and a source q is given in 3D by :\n",
    "\n",
    "\\begin{cases} \n",
    " &m \\frac{d^2 u(x,t)}{dt^2} - \\rho \\nabla(\\frac{1}{\\rho} \\text{grad}(u(x,t)) =q  \\\\\n",
    " &u(.,0) = 0 \\\\\n",
    " &\\frac{d u(x,t)}{dt}|_{t=0} = 0 \n",
    "\\end{cases}\n",
    "\n",
    "with the zero initial conditons to guaranty unicity of the solution"
   ]
  },
  {
   "cell_type": "code",
   "execution_count": 3,
   "metadata": {
    "collapsed": false
   },
   "outputs": [],
   "source": [
    "p=Function('p')\n",
    "b=Function('b')\n",
    "m,s,h,r = symbols('m s h r')\n",
    "m=M(x,y)\n",
    "q=Q(x,y,t)\n",
    "d=D(x,y,t)\n",
    "e=E(x,y)\n",
    "r=rho(x,y)"
   ]
  },
  {
   "cell_type": "markdown",
   "metadata": {
    "collapsed": false
   },
   "source": [
    "### Time and space  discretization as a Taylor expansion.\n",
    "\n",
    "The time discretization is define as a second order ( $ O (dt^2)) $) centered finite difference to get an explicit Euler scheme easy to solve by steping in time. \n",
    "\n",
    "$ \\frac{d^2 u(x,t)}{dt^2} \\simeq \\frac{u(x,t+dt) - 2 u(x,t) + u(x,t-dt)}{dt^2} + O(dt^2) $\n",
    "\n",
    "And we define the space discretization also as a Taylor serie, with oder chosen by the user. This can either be a direct expansion of the second derivative bulding the laplacian, or a combination of first oder space derivative. The second option can be a better choice in case you would want to extand the method to more complex wave equations involving first order derivatives in chain only.\n",
    "\n",
    "$ \\frac{d^2 u(x,t)}{dt^2} \\simeq \\frac{1}{dx^2} \\sum_k \\alpha_k (u(x+k dx,t)+u(x-k dx,t)) + O(dx^k) $"
   ]
  },
  {
   "cell_type": "code",
   "execution_count": 4,
   "metadata": {
    "collapsed": false
   },
   "outputs": [
    {
     "data": {
      "image/png": "[encoded data removed]",
      "text/latex": [
       "$$\\left ( - \\frac{2}{s^{2}} p{\\left (x,y,t \\right )} + \\frac{1}{s^{2}} p{\\left (x,y,- s + t \\right )} + \\frac{1}{s^{2}} p{\\left (x,y,s + t \\right )}, \\quad - \\frac{2}{h^{2}} p{\\left (x,y,t \\right )} + \\frac{1}{h^{2}} p{\\left (- h + x,y,t \\right )} + \\frac{1}{h^{2}} p{\\left (h + x,y,t \\right )}, \\quad - \\frac{2}{h^{2}} p{\\left (x,y,t \\right )} + \\frac{1}{h^{2}} p{\\left (x,- h + y,t \\right )} + \\frac{1}{h^{2}} p{\\left (x,h + y,t \\right )}, \\quad - \\frac{1}{2 s} p{\\left (x,y,- s + t \\right )} + \\frac{1}{2 s} p{\\left (x,y,s + t \\right )}, \\quad - \\frac{1}{2 h} p{\\left (- h + x,y,t \\right )} + \\frac{1}{2 h} p{\\left (h + x,y,t \\right )}, \\quad - \\frac{1}{2 h} p{\\left (x,- h + y,t \\right )} + \\frac{1}{2 h} p{\\left (x,h + y,t \\right )}\\right )$$"
      ],
      "text/plain": [
       "⎛  2⋅p(x, y, t)   p(x, y, -s + t)   p(x, y, s + t)    2⋅p(x, y, t)   p(-h + x,\n",
       "⎜- ──────────── + ─────────────── + ──────────────, - ──────────── + ─────────\n",
       "⎜        2                2                2                2                2\n",
       "⎝       s                s                s                h                h \n",
       "\n",
       " y, t)   p(h + x, y, t)    2⋅p(x, y, t)   p(x, -h + y, t)   p(x, h + y, t)    \n",
       "────── + ──────────────, - ──────────── + ─────────────── + ──────────────, - \n",
       "                2                2                2                2          \n",
       "               h                h                h                h           \n",
       "\n",
       "p(x, y, -s + t)   p(x, y, s + t)    p(-h + x, y, t)   p(h + x, y, t)    p(x, -\n",
       "─────────────── + ──────────────, - ─────────────── + ──────────────, - ──────\n",
       "      2⋅s              2⋅s                2⋅h              2⋅h                \n",
       "                                                                              \n",
       "\n",
       "h + y, t)   p(x, h + y, t)⎞\n",
       "───────── + ──────────────⎟\n",
       "2⋅h              2⋅h      ⎟\n",
       "                          ⎠"
      ]
     },
     "execution_count": 4,
     "metadata": {},
     "output_type": "execute_result"
    }
   ],
   "source": [
    "dtt=as_finite_diff(p(x,y,t).diff(t,t), [t-s,t, t+s])\n",
    "dt=as_finite_diff(p(x,y,t).diff(t), [t-s, t+s])\n",
    "# Spacial finite differences can easily be extended to higher order by increasing the list of sampling point in the next expression. \n",
    "# Be sure to keep this stencil symmetric and everything else in the notebook will follow.\n",
    "dxx=as_finite_diff(p(x,y,t).diff(x,x), [x-h,x, x+h]) \n",
    "dyy=as_finite_diff(p(x,y,t).diff(y,y), [y-h,y, y+h])\n",
    "dy=as_finite_diff(p(x,y,t).diff(y), [y-h, y+h])\n",
    "dx=as_finite_diff(p(x,y,t).diff(x), [x-h, x+h])\n",
    "dyr=as_finite_diff(b(x,y).diff(y), [y-h, y+h])\n",
    "dxr=as_finite_diff(b(x,y).diff(x), [x-h, x+h])\n",
    "dtt,dxx,dyy,dt,dx,dy"
   ]
  },
  {
   "cell_type": "code",
   "execution_count": 13,
   "metadata": {
    "collapsed": false
   },
   "outputs": [
    {
     "data": {
      "image/png": "[encoded data removed]",
      "text/latex": [
       "$$- \\frac{X}{2 h} p{\\left (x,- h + y,t \\right )} + \\frac{X}{2 h} p{\\left (x,h + y,t \\right )} - \\frac{Y}{2 h} p{\\left (- h + x,y,t \\right )} + \\frac{Y}{2 h} p{\\left (h + x,y,t \\right )}$$"
      ],
      "text/plain": [
       "  X⋅p(x, -h + y, t)   X⋅p(x, h + y, t)   Y⋅p(-h + x, y, t)   Y⋅p(h + x, y, t)\n",
       "- ───────────────── + ──────────────── - ───────────────── + ────────────────\n",
       "         2⋅h                2⋅h                 2⋅h                2⋅h       "
      ]
     },
     "execution_count": 13,
     "metadata": {},
     "output_type": "execute_result"
    }
   ],
   "source": [
    "# In practice, compute rho. grad(rho) upfront (this is a constant) and just compute the following expression, it avoids \n",
    "# the recomputation of the gradient at every time step. int the following X and Y are the component of rho.grad(rho) in X and Y respectively\n",
    "\n",
    "gradgrad=Y*dx+X*dy\n",
    "expand(gradgrad)"
   ]
  },
  {
   "cell_type": "code",
   "execution_count": 14,
   "metadata": {
    "collapsed": false
   },
   "outputs": [
    {
     "data": {
      "image/png": "[encoded data removed]",
      "text/latex": [
       "$$- \\frac{X}{2 h} p{\\left (x,- h + y,t \\right )} + \\frac{X}{2 h} p{\\left (x,h + y,t \\right )} - \\frac{Y}{2 h} p{\\left (- h + x,y,t \\right )} + \\frac{Y}{2 h} p{\\left (h + x,y,t \\right )} - \\frac{4}{h^{2}} p{\\left (x,y,t \\right )} + \\frac{1}{h^{2}} p{\\left (x,- h + y,t \\right )} + \\frac{1}{h^{2}} p{\\left (x,h + y,t \\right )} + \\frac{1}{h^{2}} p{\\left (- h + x,y,t \\right )} + \\frac{1}{h^{2}} p{\\left (h + x,y,t \\right )}$$"
      ],
      "text/plain": [
       "  X⋅p(x, -h + y, t)   X⋅p(x, h + y, t)   Y⋅p(-h + x, y, t)   Y⋅p(h + x, y, t) \n",
       "- ───────────────── + ──────────────── - ───────────────── + ──────────────── \n",
       "         2⋅h                2⋅h                 2⋅h                2⋅h        \n",
       "                                                                              \n",
       "\n",
       "  4⋅p(x, y, t)   p(x, -h + y, t)   p(x, h + y, t)   p(-h + x, y, t)   p(h + x,\n",
       "- ──────────── + ─────────────── + ────────────── + ─────────────── + ────────\n",
       "        2                2                2                 2                2\n",
       "       h                h                h                 h                h \n",
       "\n",
       " y, t)\n",
       "──────\n",
       "      \n",
       "      "
      ]
     },
     "execution_count": 14,
     "metadata": {},
     "output_type": "execute_result"
    }
   ],
   "source": [
    "lap=(dxx+dyy)\n",
    "expand(lap + gradgrad)"
   ]
  },
  {
   "cell_type": "markdown",
   "metadata": {
    "collapsed": true
   },
   "source": [
    "### Solve forward in time \n",
    "\n",
    "The wave equation with absorbing boundary conditions writes\n",
    "\n",
    "$ \\eta \\frac{d u(x,t)}{dt} + m \\frac{d^2 u(x,t)}{dt^2} - \\rho \\nabla(\\frac{1}{\\rho} \\text{grad}(u(x,t)) =q  $ \n",
    "\n",
    "and the adjont wave equation \n",
    "\n",
    "$ -\\eta \\frac{d u(x,t)}{dt} + m \\frac{d^2 u(x,t)}{dt^2} - \\rho \\nabla(\\frac{1}{\\rho} \\text{grad}(u(x,t)) =q  $ \n",
    "\n",
    "where $ \\eta$  is a damping factor equal to zero inside the physical domain and decreasing inside the absorbing layer from the pysical domain to the border\n",
    "\n",
    "And in order to simplify (kinda, I just like it that way) we will rewrite \n",
    "\n",
    "$ \\rho \\nabla(\\frac{1}{\\rho} \\text{grad}(u(x,t)) = \\nabla^2 u(x,t) + \\rho \\text{grad}(\\frac{1}{\\rho}) . \\text{grad}(u(x,t)) $"
   ]
  },
  {
   "cell_type": "code",
   "execution_count": null,
   "metadata": {
    "collapsed": false,
    "scrolled": true
   },
   "outputs": [],
   "source": [
    "# Forward wave equation\n",
    "wave_equation = m*dtt- (dxx+dyy)- r*(dxr*dx+dyr*dy) - q  + e*dt\n",
    "stencil = solve(wave_equation,p(x,y,t+s))[0]\n",
    "ts=lambdify((p(x,y,t-s),p(x-h,y,t), p(x,y,t), p(x+h,y,t),p(x,y-h,t), p(x,y+h,t),b(x-h,y), b(x,y), b(x+h,y),b(x,y-h), b(x,y+h), q , m,r, s, h,e),stencil,\"numpy\")\n",
    "stencil"
   ]
  },
  {
   "cell_type": "code",
   "execution_count": null,
   "metadata": {
    "collapsed": false
   },
   "outputs": [],
   "source": [
    "# Adjoint wave equation\n",
    "wave_equationA =  m*dtt- (dxx+dyy) - r*(dxr*dx+dyr*dy)  - d  - e*dt\n",
    "stencilA = solve(wave_equationA,p(x,y,t-s))[0]\n",
    "tsA=lambdify((p(x,y,t+s),p(x-h,y,t), p(x,y,t), p(x+h,y,t),p(x,y-h,t), p(x,y+h,t),b(x-h,y), b(x,y), b(x+h,y),b(x,y-h), b(x,y+h), d, m,r, s, h,e),stencilA,\"numpy\")\n",
    "stencilA"
   ]
  },
  {
   "cell_type": "markdown",
   "metadata": {},
   "source": [
    "# Define the discrete model"
   ]
  },
  {
   "cell_type": "code",
   "execution_count": null,
   "metadata": {
    "collapsed": false
   },
   "outputs": [],
   "source": [
    "import matplotlib.pyplot as plt\n",
    "from matplotlib import animation\n",
    "\n",
    "hstep=25 #space increment d  = minv/(10*f0);\n",
    "tstep=2 #time increment dt < .5 * hstep /maxv;\n",
    "tmin=0.0 #initial time\n",
    "tmax=600 #simulate until\n",
    "xmin=-500.0 - 10*hstep #left bound\n",
    "xmax=500.0 + 10*hstep #right bound...assume packet never reaches boundary\n",
    "ymin=-500.0 - 10*hstep #left bound\n",
    "ymax=500.0 + 10*hstep #right bound...assume packet never reaches boundary\n",
    "f0=.010\n",
    "t0=1/.010\n",
    "nbpml=10\n",
    "nx = int((xmax-xmin)/hstep) + 1 #number of points on x grid\n",
    "ny = int((ymax-ymin)/hstep) + 1 #number of points on x grid\n",
    "nt = int((tmax-tmin)/tstep) + 2 #number of points on t grid\n",
    "xsrc=-400\n",
    "ysrc=0.0\n",
    "xrec = nbpml+4\n",
    "#set source as Ricker wavelet for f0 \n",
    "def source(x,y,t):\n",
    "    r = (np.pi*f0*(t-t0))\n",
    "    val = (1-2.*r**2)*np.exp(-r**2)\n",
    "    if abs(x-xsrc)<hstep/2 and abs(y-ysrc)<hstep/2:\n",
    "        return val\n",
    "    else:\n",
    "        return 0.0\n",
    "    \n",
    "def dampx(x):\n",
    "    dampcoeff=1.5*np.log(1.0/0.001)/(5.0*hstep);\n",
    "    if x<nbpml:\n",
    "        return dampcoeff*((nbpml-x)/nbpml)**2\n",
    "    elif x>nx-nbpml-1:\n",
    "        return dampcoeff*((x-nx+nbpml)/nbpml)**2\n",
    "    else:\n",
    "        return 0.0\n",
    "def dampy(y):\n",
    "    dampcoeff=1.5*np.log(1.0/0.001)/(5.0*hstep);\n",
    "    if y<nbpml:\n",
    "        return dampcoeff*((nbpml-y)/nbpml)**2\n",
    "    elif y>ny-nbpml-1:\n",
    "        return dampcoeff*((y-ny+nbpml)/nbpml)**2\n",
    "    else:\n",
    "        return 0.0"
   ]
  },
  {
   "cell_type": "code",
   "execution_count": null,
   "metadata": {
    "collapsed": false
   },
   "outputs": [],
   "source": [
    "# Velocity and density models\n",
    "def smooth10(vel,nx,ny):\n",
    "    out=np.ones((nx,ny))\n",
    "    out[:,:]=vel[:,:]\n",
    "    for a in range(5,nx-6):\n",
    "        out[a,:]=np.sum(vel[a-5:a+5,:], axis=0) /10\n",
    "    return out\n",
    "\n",
    "# True velocity\n",
    "vel=np.ones((nx,ny)) + 2.0\n",
    "rho=np.ones((nx,ny)) \n",
    "vel[floor(nx/2):nx,:]=4.5\n",
    "rho[floor(nx/2):nx,:]=2.0\n",
    "rho=rho**-1\n",
    "mt=vel**-2\n",
    "# Smooth velocity\n",
    "v0=smooth10(vel,nx,ny)\n",
    "m0=v0**-2\n",
    "\n",
    "dm=m0-mt"
   ]
  },
  {
   "cell_type": "markdown",
   "metadata": {},
   "source": [
    "# Create functions for the PDE\n",
    "\n",
    "The Gradient/Born are here so that everything is at the correct place, it is described later"
   ]
  },
  {
   "cell_type": "code",
   "execution_count": null,
   "metadata": {
    "collapsed": false
   },
   "outputs": [],
   "source": [
    "def Forward(nt,nx,ny,m,rho):\n",
    "    u=np.zeros((nt,nx,ny))\n",
    "    rec=np.zeros((nt,ny-2))\n",
    "    for ti in range(0,nt):\n",
    "        for a in range(1,nx-1):\n",
    "            for b in range(1,ny-1):\n",
    "                src = source(xmin+a*hstep,ymin+b*hstep,tstep*ti)\n",
    "                damp=dampx(a)+dampy(b)\n",
    "                if ti==0:\n",
    "                    u[ti,a,b]=ts(0,0,0,0,0,0,rho[a-1,b],rho[a,b],rho[a+1,b],rho[a,b-1],rho[a,b+1],\n",
    "src,m[a,b],rho[a,b]**-1,tstep,hstep,damp)\n",
    "                elif ti==1:\n",
    "                    u[ti,a,b]=ts(0,u[ti-1,a-1,b],u[ti-1,a,b],u[ti-1,a+1,b],u[ti-1,a,b-1],u[ti-1,a,b+1],rho[a-1,b],rho[a,b],rho[a+1,b],rho[a,b-1],rho[a,b+1],\n",
    "src,m[a,b],rho[a,b]**-1,tstep,hstep,damp)\n",
    "                else:\n",
    "                    u[ti,a,b]=ts(u[ti-2,a,b],u[ti-1,a-1,b],u[ti-1,a,b],u[ti-1,a+1,b],u[ti-1,a,b-1],u[ti-1,a,b+1],rho[a-1,b],rho[a,b],rho[a+1,b],rho[a,b-1],rho[a,b+1],\n",
    "src,m[a,b],rho[a,b]**-1,tstep,hstep,damp)\n",
    "                if a==xrec :\n",
    "                    rec[ti,b-1]=u[ti,a,b] \n",
    "    return rec,u\n",
    "\n",
    "def Adjoint(nt,nx,ny,m,rho,rec):\n",
    "    v=np.zeros((nt,nx,ny))\n",
    "    srca=np.zeros((nt))\n",
    "    for ti in  range(nt-1, -1, -1):\n",
    "        for a in range(1,nx-1):\n",
    "            for b in range(1,ny-1):\n",
    "                if a==xrec:\n",
    "                    resid=rec[ti,b-1]\n",
    "                else:\n",
    "                    resid=0\n",
    "                damp=dampx(a)+dampy(b)\n",
    "                if ti==nt-1:\n",
    "                    v[ti,a,b]=tsA(0,0,0,0,0,0,rho[a-1,b],rho[a,b],rho[a+1,b],rho[a,b-1],rho[a,b+1],\n",
    "resid,m[a,b],rho[a,b]**-1,tstep,hstep,damp)\n",
    "                elif ti==nt-2:\n",
    "                    v[ti,a,b]=tsA(0,v[ti+1,a-1,b],v[ti+1,a,b],v[ti+1,a+1,b],v[ti+1,a,b-1],v[ti+1,a,b+1],rho[a-1,b],rho[a,b],rho[a+1,b],rho[a,b-1],rho[a,b+1],\n",
    "resid,m[a,b],rho[a,b]**-1,tstep,hstep,damp)\n",
    "                else:\n",
    "                    v[ti,a,b]=tsA(v[ti+2,a,b],v[ti+1,a-1,b],v[ti+1,a,b],v[ti+1,a+1,b],v[ti+1,a,b-1],v[ti+1,a,b+1],rho[a-1,b],rho[a,b],rho[a+1,b],rho[a,b-1],rho[a,b+1],\n",
    "resid,m[a,b],rho[a,b]**-1,tstep,hstep,damp)\n",
    "                if abs(xmin+a*hstep-xsrc)<hstep/2 and abs(ymin+b*hstep-ysrc)<hstep/2:\n",
    "                    srca[ti]=v[ti,a,b]\n",
    "    return srca,v\n",
    "\n",
    "def Gradient(nt,nx,ny,m,rho,rec,u):\n",
    "    v1=np.zeros((nx,ny))\n",
    "    v2=np.zeros((nx,ny))\n",
    "    v3=np.zeros((nx,ny))\n",
    "    grad=np.zeros((nx,ny))\n",
    "    for ti in range(nt-1,-1,-1):\n",
    "        for a in range(1,nx-1):\n",
    "            for b in range(1,ny-1):\n",
    "                if a==xrec:\n",
    "                    resid=rec[ti,b-1]\n",
    "                else:\n",
    "                    resid=0\n",
    "                damp=dampx(a)+dampy(b)\n",
    "                v3[a,b]=tsA(v1[a,b],v2[a-1,b],v2[a,b],v2[a+1,b],v2[a,b-1],v2[a,b+1],rho[a-1,b],rho[a,b],rho[a+1,b],rho[a,b-1],rho[a,b+1],\n",
    "resid,m[a,b],rho[a,b]**-1,tstep,hstep,damp)\n",
    "                grad[a,b]=grad[a,b]-(v3[a,b]-2*v2[a,b]+v1[a,b])*(u[ti,a,b])\n",
    "        v1,v2,v3=v2,v3,v1\n",
    "    # No update inside the pml, only in the physical domain\n",
    "    # grad[0:nbpml-1,:]=0\n",
    "    # grad[nx-nbpml-1:nx-1,:]=0\n",
    "    # grad[:,0:nbpml-1]=0\n",
    "    # grad[:,ny-nbpml-1:ny-1]=0\n",
    "    return tstep**-2*grad\n",
    "\n",
    "def Born(nt,nx,ny,m,rho,dm):\n",
    "    u1=np.zeros((nx,ny))\n",
    "    U1=np.zeros((nx,ny))\n",
    "    u2=np.zeros((nx,ny))\n",
    "    U2=np.zeros((nx,ny))\n",
    "    u3=np.zeros((nx,ny))\n",
    "    U3=np.zeros((nx,ny))\n",
    "    rec=np.zeros((nt,ny-2))\n",
    "    src2=0\n",
    "    for ti in range(0,nt):\n",
    "        for a in range(1,nx-1):\n",
    "            for b in range(1,ny-1):\n",
    "                damp=dampx(a)+dampy(b)\n",
    "                src = source(xmin+a*hstep,ymin+b*hstep,tstep*ti)\n",
    "                u3[a,b]=ts(u1[a,b],u2[a-1,b],u2[a,b],u2[a+1,b],u2[a,b-1],u2[a,b+1],rho[a-1,b],rho[a,b],rho[a+1,b],rho[a,b-1],rho[a,b+1],\n",
    "src,m[a,b],rho[a,b]**-1,tstep,hstep,damp)\n",
    "                src2 = -tstep**-2*(u3[a,b]-2*u2[a,b]+u1[a,b])*dm[a,b]\n",
    "                U3[a,b]=ts(U1[a,b],U2[a-1,b],U2[a,b],U2[a+1,b],U2[a,b-1],U2[a,b+1],rho[a-1,b],rho[a,b],rho[a+1,b],rho[a,b-1],rho[a,b+1],\n",
    "src2,m[a,b],rho[a,b]**-1,tstep,hstep,damp)\n",
    "                if a==xrec :\n",
    "                    rec[ti,b-1]=U3[a,b]\n",
    "        u1,u2,u3=u2,u3,u1\n",
    "        U1,U2,U3=U2,U3,U1\n",
    "    return rec\n"
   ]
  },
  {
   "cell_type": "markdown",
   "metadata": {},
   "source": [
    "# A Forward propagation example"
   ]
  },
  {
   "cell_type": "code",
   "execution_count": null,
   "metadata": {
    "collapsed": false
   },
   "outputs": [],
   "source": [
    "(rect,ut)=Forward(nt,nx,ny,mt,rho)"
   ]
  },
  {
   "cell_type": "code",
   "execution_count": null,
   "metadata": {
    "collapsed": false
   },
   "outputs": [],
   "source": [
    "\n",
    "fig = plt.figure()\n",
    "plts = []             # get ready to populate this list the Line artists to be plotted\n",
    "plt.hold(\"off\")\n",
    "for i in range(nt):\n",
    "    r = plt.imshow(ut[i,:,:])   # this is how you'd plot a single line...\n",
    "    plts.append( [r] )  \n",
    "ani = animation.ArtistAnimation(fig, plts, interval=50,  repeat = False)   # run the animation\n",
    "#plt.show()"
   ]
  },
  {
   "cell_type": "code",
   "execution_count": null,
   "metadata": {
    "collapsed": false
   },
   "outputs": [],
   "source": [
    "fig2 = plt.figure()\n",
    "plt.hold(\"off\")\n",
    "shotrec = plt.imshow(rect,vmin=-10,vmax=10)   # this is how you'd plot a single line...\n",
    "#plt.show()"
   ]
  },
  {
   "cell_type": "markdown",
   "metadata": {
    "collapsed": true
   },
   "source": [
    "# Adjoint test\n",
    "\n",
    "In ordr to guaranty we have the gradient we need to make sure that the solution of the adjoint wave equation is indeed the true adjoint. Tod os so one should check that\n",
    "\n",
    "$ <Ax,y> - <x,A^Ty> = 0$\n",
    "\n",
    "where $A$ is the wave_equation,  $A^T$ is wave_equationA and $x,y$ are any random vectors in the range of each operator. This can however be expensive as this two vector would be of size $N * n_t$. To test our operator we will the relax this test by\n",
    "\n",
    "$ <P_r A P_s^T x,y> - <x,P_SA^TP_r^Ty> = 0$\n",
    "\n",
    "where $P_r , P_s^T$ are the source and recevier projection operator mapping the source and receiver locations and times onto the full domain. This allow to have only a random source of size $n_t$ at a random postion."
   ]
  },
  {
   "cell_type": "code",
   "execution_count": null,
   "metadata": {
    "collapsed": false
   },
   "outputs": [],
   "source": [
    "(rec0,u0)=Forward(nt,nx,ny,m0,rho)"
   ]
  },
  {
   "cell_type": "code",
   "execution_count": null,
   "metadata": {
    "collapsed": true
   },
   "outputs": [],
   "source": [
    "(srca,v)=Adjoint(nt,nx,ny,m0,rho,rec0)"
   ]
  },
  {
   "cell_type": "code",
   "execution_count": null,
   "metadata": {
    "collapsed": false
   },
   "outputs": [],
   "source": [
    "plts = []             # get ready to populate this list the Line artists to be plotted\n",
    "plt.hold(\"off\")\n",
    "for i in range(0,nt):\n",
    "    r = plt.imshow(v[i,:,:])   # this is how you'd plot a single line...\n",
    "    plts.append( [r] )  \n",
    "ani = animation.ArtistAnimation(fig, plts, interval=50,  repeat = False)   # run the animation\n",
    "#plt.show()"
   ]
  },
  {
   "cell_type": "code",
   "execution_count": null,
   "metadata": {
    "collapsed": false
   },
   "outputs": [],
   "source": [
    "\n",
    "shotrec = plt.plot(srca)   # this is how you'd plot a single line...\n",
    "plt.show()"
   ]
  },
  {
   "cell_type": "code",
   "execution_count": null,
   "metadata": {
    "collapsed": false
   },
   "outputs": [],
   "source": [
    "# Actual adjoint test\n",
    "term1=0\n",
    "for ti in range(0,nt):\n",
    "    term1=term1+srca[ti]*source(xsrc,ysrc,(ti)*tstep)\n",
    "\n",
    "term2=LA.norm(rec0)**2\n",
    "\n",
    "term1,term2,term1-term2,term1/term2\n",
    "\n",
    "#if abs(term11/term21-1)<1e-9\n",
    "#    print('Adjoint test passed')"
   ]
  },
  {
   "cell_type": "markdown",
   "metadata": {},
   "source": [
    "# Least square objective Gradient\n",
    "\n",
    "We will consider here the least square objective, as this is the one in need of an adjoint. The test that will follow are however necessary for any objective and associated gradient in a optimization framework. The objective function can be written\n",
    "\n",
    "$ min_m \\Phi(m) := \\frac{1}{2} \\| P_r A^{-1}(m) q - d\\|_2^2$\n",
    "\n",
    "And it's gradient becomes \n",
    "\n",
    "$ \\nabla_m \\Phi(m) = - (\\frac{dA(m)u}{dm})^T v $\n",
    "\n",
    "where v is the soltuion if the adjoint wave equation. For the simple acoustic case the  gradient can be rewritten as \n",
    "\n",
    "$ \\nabla_m \\Phi(m) = - \\sum_{t=1}^{nt} \\frac{d^2u(t)}{dt^2} v(t) $"
   ]
  },
  {
   "cell_type": "code",
   "execution_count": null,
   "metadata": {
    "collapsed": false
   },
   "outputs": [],
   "source": [
    "# Misfit\n",
    "\n",
    "F0=.5*LA.norm(rec0-rect)**2\n",
    "F0"
   ]
  },
  {
   "cell_type": "code",
   "execution_count": null,
   "metadata": {
    "collapsed": false
   },
   "outputs": [],
   "source": [
    "Im1=Gradient(nt,nx,ny,m0,rho,rec0-rect,u0)"
   ]
  },
  {
   "cell_type": "code",
   "execution_count": null,
   "metadata": {
    "collapsed": false
   },
   "outputs": [],
   "source": [
    "\n",
    "shotrec = plt.imshow(rec0-rect,vmin=-100,vmax=100)   # this is how you'd plot a single line...\n",
    "#plt.show()\n",
    "\n",
    "shotrec = plt.imshow(Im1,vmin=-100000,vmax=100000)   # this is how you'd plot a single line...\n",
    "#plt.show()"
   ]
  },
  {
   "cell_type": "markdown",
   "metadata": {},
   "source": [
    "# Adjoint test for the gradient\n",
    "\n",
    "The adjoint of the FWI Gradient is the Born modelling operator, implementing a double propagation forward in time with a wavefield scaled by the model perturbation for the second propagation\n",
    "\n",
    " $ J dm = - A^{-1}(\\frac{d A^{-1}q}{dt^2}) dm $\n"
   ]
  },
  {
   "cell_type": "code",
   "execution_count": null,
   "metadata": {
    "collapsed": false
   },
   "outputs": [],
   "source": [
    "Im2=Gradient(nt,nx,ny,m0,rho,rec0-rect,u0)"
   ]
  },
  {
   "cell_type": "code",
   "execution_count": null,
   "metadata": {
    "collapsed": false
   },
   "outputs": [],
   "source": [
    "du1=Born(nt,nx,ny,m0,rho,dm)"
   ]
  },
  {
   "cell_type": "code",
   "execution_count": null,
   "metadata": {
    "collapsed": false
   },
   "outputs": [],
   "source": [
    "\n",
    "term11=np.dot((rec0-rect).reshape(-1),du1.reshape(-1))\n",
    "term21=np.dot(Im2.reshape(-1),dm.reshape(-1))\n",
    "\n",
    "term11,term21,term11-term21,term11/term21\n",
    "\n",
    "#if abs(term11/term21-1)<1e-9\n",
    "#    print('Adjoint test passed')"
   ]
  },
  {
   "cell_type": "code",
   "execution_count": null,
   "metadata": {
    "collapsed": true
   },
   "outputs": [],
   "source": [
    "shotrec = plt.imshow(Im2,vmin=-10000,vmax=10000)   # this is how you'd plot a single line...\n",
    "#plt.show()"
   ]
  },
  {
   "cell_type": "markdown",
   "metadata": {},
   "source": [
    "# Jacobian test\n",
    "The last part is to check that the operators are consistent with the problem. There is then two properties to be satisfied \n",
    "\n",
    "$ U(m + hdm) = U(m) +  \\mathcal{O} (h) \\\\\n",
    "   U(m + h dm) = U(m) + h J[m]dm + \\mathcal{O} (h^2) $\n",
    "   \n",
    "which are the linearization conditions for the objective. This is a bit slow to run here but here is the way to test it.\n",
    "\n",
    "1 - Genrate data for the true model m  \n",
    "2 - Define a smooth initial model $m_0$ and comput the data $d_0$ for this model   \n",
    "3 - You now have $U(m_0)$   \n",
    "4 - Define $ dm = m-m_0$ and $ h = {1,.1,.01,.001,...}$  \n",
    "5 - For each $h$ compute $U(m_0 + h dm)$ by generating data for $m_0 + h dm$ and compute $(J[m_0 + h dm]^T\\delta |d) $   \n",
    "6 - Plot in Loglog the two lines of equation above"
   ]
  },
  {
   "cell_type": "code",
   "execution_count": null,
   "metadata": {
    "collapsed": false
   },
   "outputs": [],
   "source": [
    "H=[1,0.1,0.01,.001,0.0001,0.00001,0.000001]\n",
    "(D1,u0)=Forward(nt,nx,ny,m0,rho)\n",
    "dub=Born(nt,nx,ny,m0,rho,dm)\n",
    "error1=np.zeros((7))\n",
    "error2=np.zeros((7))\n",
    "for i in range(0,7):\n",
    "    mloc=m0+H[i]*dm\n",
    "    (d,u)=Forward(nt,nx,ny,mloc,rho)\n",
    "    error1[i]  = LA.norm(d - D1,ord=1)\n",
    "    error2[i]  = LA.norm(d - D1 - H[i]*dub,ord=1)"
   ]
  },
  {
   "cell_type": "code",
   "execution_count": null,
   "metadata": {
    "collapsed": false
   },
   "outputs": [],
   "source": [
    "hh=np.zeros((7))\n",
    "for i in range(0,7):\n",
    "    hh[i]=H[i]*H[i]\n",
    "shotrec = plt.loglog(H,error1,H,H)   # this is how you'd plot a single line...\n",
    "plt.show()\n",
    "shotrec = plt.loglog(H,error2,H,hh)   # this is howyou'd plot a single line...\n",
    "plt.show()"
   ]
  },
  {
   "cell_type": "markdown",
   "metadata": {},
   "source": [
    "# Gradient test\n",
    "The last part is to check that the operators are consistent with the problem. There is then two properties to be satisfied \n",
    "\n",
    "$ \\Phi(m + hdm) = \\Phi(m) +  \\mathcal{O} (h) \\\\\n",
    "   \\Phi(m + h dm) = \\Phi(m) + h (J[m]^T\\delta |d)dm + \\mathcal{O} (h^2) $\n",
    "   \n",
    "which are the linearization conditions for the objective. This is a bit slow to run here but here is the way to test it.\n",
    "\n",
    "1 - Genrate data for the true model m  \n",
    "2 - Define a smooth initial model $m_0$ and comput the data $d_0$ for this model   \n",
    "3 - You now have $\\Phi(m_0)$   \n",
    "4 - Define $ dm = m-m_0$ and $ h = {1,.1,.01,.001,...}$  \n",
    "5 - For each $h$ compute $\\Phi(m_0 + h dm)$ by generating data for $m_0 + h dm$ and compute $(J[m_0 + h dm]^T\\delta |d) $   \n",
    "6 - Plot in Loglog the two lines of equation above"
   ]
  },
  {
   "cell_type": "code",
   "execution_count": null,
   "metadata": {
    "collapsed": false
   },
   "outputs": [],
   "source": [
    "(DT,uT)=Forward(nt,nx,ny,mt,rho)\n",
    "(D1,u0)=Forward(nt,nx,ny,m0,rho)\n",
    "F0=.5*LA.norm(D1-DT)**2\n",
    "\n",
    "g=Gradient(nt,nx,ny,m0,rho,D1-DT,u0)\n",
    "G=np.dot(g.reshape(-1),dm.reshape(-1));\n",
    "error21=np.zeros((7))\n",
    "error22=np.zeros((7))\n",
    "for i in range(0,7):\n",
    "    mloc=m0+H[i]*dm\n",
    "    (D,u)=Forward(nt,nx,ny,mloc,rho)\n",
    "    error21[i]  = .5*LA.norm(D-DT)**2 -F0\n",
    "    error22[i]  = .5*LA.norm(D-DT)**2 -F0 - H[i]*G"
   ]
  },
  {
   "cell_type": "code",
   "execution_count": null,
   "metadata": {
    "collapsed": false
   },
   "outputs": [],
   "source": [
    "shotrec = plt.loglog(H,error21,H,H)   # this is how you'd plot a single line...\n",
    "plt.show()\n",
    "shotrec = plt.loglog(H,abs(error22),H,hh) # this is how you'd plot a single line...\n",
    "plt.show()"
   ]
  },
  {
   "cell_type": "code",
   "execution_count": null,
   "metadata": {
    "collapsed": false
   },
   "outputs": [],
   "source": [
    "error22"
   ]
  },
  {
   "cell_type": "code",
   "execution_count": null,
   "metadata": {
    "collapsed": true
   },
   "outputs": [],
   "source": []
  },
  {
   "cell_type": "code",
   "execution_count": null,
   "metadata": {
    "collapsed": true
   },
   "outputs": [],
   "source": []
  }
 ],
 "metadata": {
  "kernelspec": {
   "display_name": "Python 3",
   "language": "python",
   "name": "python3"
  },
  "language_info": {
   "codemirror_mode": {
    "name": "ipython",
    "version": 3
   },
   "file_extension": ".py",
   "mimetype": "text/x-python",
   "name": "python",
   "nbconvert_exporter": "python",
   "pygments_lexer": "ipython3",
   "version": "3.5.1"
  }
 },
 "nbformat": 4,
 "nbformat_minor": 0
}

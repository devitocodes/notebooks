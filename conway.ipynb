{
 "cells": [
  {
   "cell_type": "markdown",
   "metadata": {},
   "source": [
    "Installation\n",
    "To use tikzmagic simply run:  pip install git+git://github.com/robjstan/tikzmagic.git"
   ]
  },
  {
   "cell_type": "code",
   "execution_count": 2,
   "metadata": {
    "collapsed": false
   },
   "outputs": [],
   "source": [
    "import tikzmagic"
   ]
  },
  {
   "cell_type": "markdown",
   "metadata": {},
   "source": [
    "# Conway (working title) : Generic Seismic Application using Devito"
   ]
  },
  {
   "cell_type": "markdown",
   "metadata": {},
   "source": [
    "Following the redesign and rework of code inside Devito, we wish to extend a good structure to application code as well. The objectives here are two-fold: \n",
    "* Provide a set of seismic abstractions that help set up a problem quickly \n",
    "  * This ensures that an example can be set up in as few lines as possible\n",
    "* Provide a set of \"Execution Engine\" abstractions that the seismic code above uses.\n",
    "  * This ensure that the same code set up for demo inside an IPython notebook can run at scale on Amazon or on a large cluster\n",
    "  \n",
    "## Seismic Abstractions\n",
    "In terms of seismic, we need: \n",
    "* Seismic Data Reader / Writer\n",
    "* Container objects for Shot Data - `Source` and `Receiver` can be thin abstractions over the existing `SourceLike` class in Devito. These should be sufficient for holding the data for a shot. \n",
    "* An encapsulation for the actual physics - This is where the equation will live. This is the only object that changes to switch from Acoustic to TTI, for example. (Please suggest a name)\n",
    "* Operator builders (Propagators) - These will be instances of Devito's `Operator`/`StencilKernel` class. We will provide functions to build these given the \"Physics\" object from above. There could be one builder each for `Forward`/`Backward`/`Gradient`/`Born`\n",
    "\n",
    "## Execution Engine\n",
    "I expect this to be a thin wrapper over ipyparallel to begin with, but with plans to extend support for Amazon AWS/dedicated clusters. Note that to support running over AWS/clusters it should be possible to add [Celery](http://www.celeryproject.org) or [RQ](http://python-rq.org) as a backend to this execution engine and the rest should be quite straightforward.\n",
    "The Execution Engine has 3 basic components like any other similar engine:\n",
    "* Controller\n",
    "* Worker \n",
    "* Reducer\n",
    "\n",
    "The assumption is that the communication between these happens via queues which will be handled internally by the execution engine. The engine needs to handle nodes dying out in the middle of a shot - just restart the entire shot when that happens. \n",
    "\n",
    "The flowchart below attempts to explain the planned information/logic flow:"
   ]
  },
  {
   "cell_type": "code",
   "execution_count": 30,
   "metadata": {
    "collapsed": false
   },
   "outputs": [
    {
     "data": {
      "image/png": "[encoded data removed]",
      "text/plain": [
       "<IPython.core.display.Image object>"
      ]
     },
     "execution_count": 30,
     "metadata": {},
     "output_type": "execute_result"
    }
   ],
   "source": [
    "%%tikz -s 0.4 \n",
    "\n",
    "%# Style definitions\n",
    "\\tikzstyle{line} = [draw, thick];\n",
    "\\tikzstyle{arrow} = [-stealth, line];\n",
    "\\tikzstyle{box} = [draw, thick, rectangle, rounded corners, font=\\sffamily, yshift=-10ex];\n",
    "\n",
    "\\node (execution) [minimum height=40ex, minimum width=30ex,fill=red!30] at (0,6) {};\n",
    "\n",
    "\\node (seismic) [minimum height=40ex, minimum width=40ex,fill=blue!30] at (10, 6) {};\n",
    "\n",
    "\\node (controller) [box, minimum height=4ex, minimum width=20ex,font=\\sffamily\\bfseries] at (execution.north) {Controller};\n",
    "\\node (worker) [box, minimum height=4ex, minimum width=20ex,font=\\sffamily\\bfseries] at (controller.south) {Worker};\n",
    "\\node (reducer) [box, minimum height=4ex, minimum width=20ex,font=\\sffamily\\bfseries] at (worker.south) {Reducer};\n",
    "\n",
    "\n",
    "\\node (datareader) [box, minimum height=4ex, minimum width=23ex,font=\\sffamily\\bfseries] at (seismic.north) {Seismic Data Reader};\n",
    "\\node (stencilkernel) [box, minimum height=4ex, minimum width=23ex,font=\\sffamily\\bfseries] at (datareader.south) {StencilKernel};\n",
    "\\node (abstractions) [box, minimum height=4ex, minimum width=23ex,font=\\sffamily\\bfseries] at (stencilkernel.south) {Physics Abstraction};\n",
    "\n",
    "\n",
    "\\node (execution_label) [font=\\sffamily\\bfseries, yshift=5ex] at (controller.north) {Execution Engine};\n",
    "\\node (seismic_label) [font=\\sffamily\\bfseries, yshift=5ex] at (datareader.north) {Seismic Abstractions};\n",
    "\n",
    "\\draw[arrow] (datareader) -- node[anchor=south] {Metadata (No. of shots + Size of model)} (controller) ;\n",
    "\\draw[arrow] (controller) -- node[anchor=east] {Shot number} (worker) ;\n",
    "\\draw[arrow] (datareader) -- node[anchor=south, rotate=10] {Shot Data ( Source+ Receivers)} (worker) ;\n",
    "\\draw[arrow] (abstractions) -- node[anchor=north] {via builder functions} (stencilkernel) ;\n",
    "\\draw[arrow] (stencilkernel) -- node[anchor=north] {execution} (worker) ;\n",
    "\\draw[arrow] (worker) -- node[anchor=west] {Gradient/Correlation} (reducer) ;"
   ]
  },
  {
   "cell_type": "code",
   "execution_count": null,
   "metadata": {
    "collapsed": true
   },
   "outputs": [],
   "source": []
  }
 ],
 "metadata": {
  "kernelspec": {
   "display_name": "Python 2",
   "language": "python",
   "name": "python2"
  },
  "language_info": {
   "codemirror_mode": {
    "name": "ipython",
    "version": 2
   },
   "file_extension": ".py",
   "mimetype": "text/x-python",
   "name": "python",
   "nbconvert_exporter": "python",
   "pygments_lexer": "ipython2",
   "version": "2.7.11"
  }
 },
 "nbformat": 4,
 "nbformat_minor": 1
}

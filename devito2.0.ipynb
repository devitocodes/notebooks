{
 "cells": [
  {
   "cell_type": "markdown",
   "metadata": {},
   "source": [
    "#### Installation\n",
    "To use [tikzmagic](https://github.com/robjstan/tikzmagic) simply run:  `pip install git+git://github.com/robjstan/tikzmagic.git`"
   ]
  },
  {
   "cell_type": "code",
   "execution_count": 1,
   "metadata": {
    "collapsed": true
   },
   "outputs": [],
   "source": [
    "import tikzmagic"
   ]
  },
  {
   "cell_type": "markdown",
   "metadata": {},
   "source": [
    "### Devito: (Re-)design of the code generation engine\n",
    "\n",
    "Following the initial `Propagator` a new more flexible approach is required to extend capabilities beyond the current scope. In particular an alternative to the current template-based code generation approach is sought to provide more flexibility when handling sets of expression and loop objects to facilitate more agile manipulation of the code to generate. The particular restrictions of the current implementation we aim to lift are:\n",
    "* Hard-coded outer time loop - Users my need to define their own (adaptive) time stepping, which needs to be facilitated through pure Python in the first instance, and possibly symbolic expressions in later development.\n",
    "* Explicit tracking of symbol properties (save, loop limits, padding, orders, etc.) on the Propagator making it extremely complex and hard to extend functionality.\n",
    "* Limited insertion of \"customisation expression\", such pre/post loops only before and after the space loops.\n",
    "* Explicit parameter definition of loop variables on the Propagator, and timestepping on the Operator. "
   ]
  },
  {
   "cell_type": "markdown",
   "metadata": {},
   "source": [
    "The below diagram aims to describe the desired abstractions and class structures to enable a detailed discussion before implementing the changes in a _non-agile_ fashion. The core idea is that we need the following three core abstractions to manipulate code programmatically by working on an intermediate represention of Python objects:\n",
    "* Kernel: Represents a single unit of compilable code; equivalent to Operator/Propapagator.\n",
    "* Expression: An expression/assignment that works on a set of variables.\n",
    "* Iteration: A single loop with loop bounds over an iteration space or sub-space"
   ]
  },
  {
   "cell_type": "code",
   "execution_count": 2,
   "metadata": {
    "collapsed": false,
    "scrolled": false
   },
   "outputs": [
    {
     "data": {
      "image/png": "[encoded data removed]",
      "text/plain": [
       "<IPython.core.display.Image object>"
      ]
     },
     "execution_count": 2,
     "metadata": {},
     "output_type": "execute_result"
    }
   ],
   "source": [
    "%%tikz -s 0.4\n",
    "\n",
    "%# Style definitions\n",
    "\\tikzstyle{line} = [draw, thick];\n",
    "\\tikzstyle{arrow} = [-stealth, line];\n",
    "\\tikzstyle{box} = [draw, thick, rectangle, rounded corners, font=\\sffamily];\n",
    "\\tikzstyle{symbolic} = [box, minimum height=5ex, minimum width=16ex, fill=red!30]\n",
    "\\tikzstyle{cg-expr} = [box, minimum height=8ex, minimum width=24ex, fill=green!40]\n",
    "\\tikzstyle{cg-iter} = [box, minimum height=8ex, minimum width=24ex, fill=blue!30]\n",
    "\n",
    "%# Core codegen classes\n",
    "\\node (expression) [box, minimum height=18ex, minimum width=24ex] {};\n",
    "\\node [anchor=north, font=\\sffamily\\bfseries] at (expression.north)  {Expression};\n",
    "\\node (expr) [cg-expr, anchor=south, align=left] at (expression.south) \n",
    "    {- SymPy expr traversal \\\\\n",
    "     - Symbolic properties \\\\\\ \\ (dims, vars, etc.) \\\\\n",
    "     - Substitution \\\\\n",
    "     - C code generation};\n",
    "\n",
    "\\node (iteration) [box, minimum height=18ex, minimum width=24ex, right=4ex] at (expression.east) {};\n",
    "\\node [anchor=north, font=\\sffamily\\bfseries] at (iteration.north)  {Iteration};\n",
    "\\node (iter) [cg-iter, anchor=south, align=left] at (iteration.south) \n",
    "    {- {\\sffamily\\bfseries Loop instance} \\\\\n",
    "     - Loop limits \\\\\\ \\ (variable vs. fixed) \\\\\n",
    "     - Substitution \\\\\n",
    "     - C code generation};\n",
    "\n",
    "\\node (kernel) [box, minimum height=18ex, minimum width=52ex, , above=6ex, xshift=2ex] at (expression.north east) {};\n",
    "\\node [anchor=north, font=\\sffamily\\bfseries] at (kernel.north)  {StencilKernel};\n",
    "\\node (expr) [box, minimum height=14ex, minimum width=52ex, anchor=south, align=left] at (kernel.south) \n",
    "    {- Universal entry-point: convert SymPy expressions \\\\\n",
    "     - Manage codegen, compilation and execution \\\\\n",
    "     - Manage cross expression data (eg. temporaries)\\\\\n",
    "     - Configurable by users (eg. CSE, blocking, etc.)\\\\\n",
    "     - Composable/mergeable};\n",
    "\n",
    "%# Symbolic layer\n",
    "\\node (equation) [box, minimum height=18ex, minimum width=52ex, above=6ex] at (kernel.north) {};\n",
    "\\node [anchor=north, font=\\sffamily\\bfseries] at (equation.north)  {sympy.Equation};\n",
    "\n",
    "\\node (function) [box, minimum height=14ex, minimum width=24ex, anchor=south west] at (equation.south west) {};\n",
    "\\node [anchor=north, font=\\sffamily\\bfseries] at (function.north)  {SymbolicData};\n",
    "\\node (dim) [symbolic, anchor=south, align=left, minimum width=24ex, minimum height=10ex] at (function.south) \n",
    "    {- {\\sffamily\\bfseries sympy.Function} \\\\\n",
    "     - Data allocation};\n",
    "    \n",
    "\\node (dimension) [box, minimum height=14ex, minimum width=24ex, anchor=south east] at (equation.south east) {};\n",
    "\\node [anchor=north, font=\\sffamily\\bfseries] at (dimension.north)  {Dimension};\n",
    "\\node (dim) [symbolic, anchor=south, align=left, minimum width=24ex, minimum height=10ex] at (dimension.south) \n",
    "    {- {\\sffamily\\bfseries Iteration space} \\\\\n",
    "     - Function index};"
   ]
  },
  {
   "cell_type": "markdown",
   "metadata": {
    "collapsed": true
   },
   "source": [
    "The above abstractions exist in the current Devito-master as classes - but they are lacking several key functionalities that the Propagator currently provides (OpenMP pragmas, loop blocking, etc.). However, they do not assume the fixed loop structure that the current Propagator enforces, and they will (hopefully) provide a much cleaner interface that requires minimal user input. Ideally, the loop structure is hereby implicitly derived from the Dimension objects in each expression."
   ]
  },
  {
   "cell_type": "markdown",
   "metadata": {},
   "source": [
    "For example, using a familiar source/receiver paradigm, we might want to create the following (pseudo-)code:\n",
    "```\n",
    "for (int t = 0; t < 5; ++t):\n",
    "    for (int p = 0; p < 3; ++p):\n",
    "        <source_insertion>[t, p]\n",
    "    for (int x = 0 x < 12; ++x):\n",
    "        for (int y = 0; y < 14; ++y):\n",
    "            <stencil>[t, x, y]\n",
    "    for (int p = 0; p < 3; ++p):\n",
    "        <rec_interpolation>[t, p]\n",
    "```\n",
    "\n",
    "To generate this, all the information we require can be encapsulated in three SymPy expressions:\n",
    "```\n",
    "eq_src = Eq(u[t, p_x, p_y], u[t, p_x, p_y] + <src_expr>(src[t, p]))\n",
    "eq_stencil = Eq(u[t, x, y], <stencil>(u[t, x, y], m[x, y]))\n",
    "eq_rec = Eq(rec[t, p], <rec_expr>(u[t, p_x, p_y)))\n",
    "```\n",
    "Here, the terms `<src_expr>`, `<rec_expr>` and `stencil` are short-hand to denote some expanded SymPy expression that depends on `src[t, p]` or `u[t, x, y]` and `p_x`/`p_y` is shorthand for the derived x, y coordinates of the sparse points (which only depend on `p`, not actually on the `x`/`y` loops). From these we should, conceptually, be able to build the entire kernel with:\n",
    "```\n",
    "kernel = StencilKernel([eq_src, eq_stencil, eq_rec])\n",
    "```\n",
    "Provided that the order of the equation objects defines the data dependencies between them (ie. first insert the source term into `u`, then update `u` via the stencil and finally extract result from `u`) and assuming that the order of the dimension symbols within the function objects `u`, `m`, `src` and `rec` defines the order of the loop structure, the above **four lines should be sufficient to generate the desired loop nest**. Please also note that no additional parameters need to be passed or set on the kernel object, other than compilation-specific settings."
   ]
  },
  {
   "cell_type": "markdown",
   "metadata": {},
   "source": [
    "One of the key criteria for the Expression/Iteration classes is that they compose to yield a \"tree\", in which each component is able to generate it's corresponding C code and to perform recursive symbol and expression substitution. This way, manipulating the internal loop and expression becomes programmable, allowing us to automate various kernel re-writing techniques. As an example, the loop nest defined above would look like the following diagram:"
   ]
  },
  {
   "cell_type": "code",
   "execution_count": 3,
   "metadata": {
    "collapsed": false,
    "scrolled": true
   },
   "outputs": [
    {
     "data": {
      "image/png": "[encoded data removed]",
      "text/plain": [
       "<IPython.core.display.Image object>"
      ]
     },
     "execution_count": 3,
     "metadata": {},
     "output_type": "execute_result"
    }
   ],
   "source": [
    "%%tikz -s 0.4\n",
    "\n",
    "%# Style definitions\n",
    "\\tikzstyle{line} = [draw, very thick];\n",
    "\\tikzstyle{arrow} = [-stealth, line];\n",
    "\\tikzstyle{box} = [draw, thick, rectangle, rounded corners, minimum height=4ex, minimum width=24ex, font=\\sffamily];\n",
    "\\tikzstyle{expr} = [box, fill=green!40]\n",
    "\\tikzstyle{iter} = [box, fill=blue!30]\n",
    "\n",
    "\\node (kernel) [box] {StencilKernel};\n",
    "\\node (t-loop) [iter, below=2ex, xshift=6ex] at (kernel.south) {\\sf Loop over t};\n",
    "\\node (p1-loop) [iter, below=2ex, xshift=6ex] at (t-loop.south) {\\sf Loop over p};\n",
    "\\node (src-expr) [expr, below=2ex, xshift=6ex] at (p1-loop.south) {\\sf source insertion};\n",
    "\\node (x-loop) [iter, below=2ex, xshift=-6ex] at (src-expr.south) {\\sf Loop over x};\n",
    "\\node (y-loop) [iter, below=2ex, xshift=6ex] at (x-loop.south) {\\sf Loop over y};\n",
    "\\node (stencil) [expr, below=2ex, xshift=6ex] at (y-loop.south) {\\sf stencil};\n",
    "\\node (p2-loop) [iter, below=2ex, xshift=-12ex] at (stencil.south) {\\sf Loop over p};\n",
    "\\node (rec-expr) [expr, below=2ex, xshift=6ex] at (p2-loop.south) {\\sf receiver interpolation};\n",
    "\n",
    "\\path [arrow] ([xshift=3ex]kernel.south west) -- +(0,-.62) -- (t-loop.west);\n",
    "\\path [arrow] ([xshift=3ex]t-loop.south west) -- +(0,-.62) -- (p1-loop.west);\n",
    "\\path [arrow] ([xshift=3ex]p1-loop.south west) -- +(0,-.62) -- (src-expr.west);\n",
    "\\path [arrow] ([xshift=3ex]t-loop.south west) -- +(0,-2.49) -- (x-loop.west);\n",
    "\\path [arrow] ([xshift=3ex]x-loop.south west) -- +(0,-.62) -- (y-loop.west);\n",
    "\\path [arrow] ([xshift=3ex]y-loop.south west) -- +(0,-.62) -- (stencil.west);\n",
    "\\path [arrow] ([xshift=3ex]t-loop.south west) -- +(0,-5.3) -- (p2-loop.west);\n",
    "\\path [arrow] ([xshift=3ex]p2-loop.south west) -- +(0,-.62) -- (rec-expr.west);"
   ]
  },
  {
   "cell_type": "markdown",
   "metadata": {},
   "source": [
    "Using the above tree structure, current functionalities can be implemented as manipulations os Extression/Iteration objects, where for example CSE creates multiple expressions from a single expression, and loop blocking creates additional loops, as shown below:"
   ]
  },
  {
   "cell_type": "code",
   "execution_count": 4,
   "metadata": {
    "collapsed": false,
    "scrolled": true
   },
   "outputs": [
    {
     "data": {
      "image/png": "[encoded data removed]",
      "text/plain": [
       "<IPython.core.display.Image object>"
      ]
     },
     "execution_count": 4,
     "metadata": {},
     "output_type": "execute_result"
    }
   ],
   "source": [
    "%%tikz -s 0.4\n",
    "\n",
    "%# Style definitions\n",
    "\\tikzstyle{line} = [draw, very thick];\n",
    "\\tikzstyle{arrow} = [-stealth, line];\n",
    "\\tikzstyle{box} = [draw, thick, rectangle, rounded corners, minimum height=4ex, minimum width=24ex, font=\\sffamily];\n",
    "\\tikzstyle{expr} = [box, fill=green!40]\n",
    "\\tikzstyle{iter} = [box, fill=blue!30]\n",
    "\n",
    "\\node (x-loop) [iter, below=2ex, xshift=-6ex] {\\sf Loop over x};\n",
    "\\node (y-loop) [iter, below=2ex, xshift=6ex] at (x-loop.south) {\\sf Loop over y};\n",
    "\\node (stencil) [expr, below=2ex, xshift=6ex] at (y-loop.south) {\\sf stencil};\n",
    "\n",
    "\\path [arrow] ([xshift=3ex]x-loop.south west) -- +(0,-.62) -- (y-loop.west);\n",
    "\\path [arrow] ([xshift=3ex]y-loop.south west) -- +(0,-.62) -- (stencil.west);\n",
    "\n",
    "\\node (comment) [below=4ex, xshift=-6ex] at (stencil.south) {Under loop blocking this now becomes:};\n",
    "\n",
    "\\node (x-outer) [iter, below=24ex] at (x-loop.south) {\\sf Outer x loop};\n",
    "\\node (y-outer) [iter, below=2ex, xshift=6ex] at (x-outer.south) {\\sf Outer y loop};\n",
    "\\node (x-inner) [iter, below=2ex, xshift=6ex] at (y-outer.south) {\\sf Inner x loop};\n",
    "\\node (y-inner) [iter, below=2ex, xshift=6ex] at (x-inner.south) {\\sf Inner y loop};\n",
    "\\node (st1) [expr, below=2ex, xshift=6ex] at (y-inner.south) {\\sf stencil};\n",
    "\\node (x-rem) [iter, below=2ex, xshift=-24ex] at (st1.south) {\\sf Remainder x loop};\n",
    "\\node (y-rem) [iter, below=2ex, xshift=6ex] at (x-rem.south) {\\sf Remainder y loop};\n",
    "\\node (st2) [expr, below=2ex, xshift=6ex] at (y-rem.south) {\\sf stencil};\n",
    "\n",
    "\\path [arrow] ([xshift=3ex]x-outer.south west) -- +(0,-.62) -- (y-outer.west);\n",
    "\\path [arrow] ([xshift=3ex]y-outer.south west) -- +(0,-.62) -- (x-inner.west);\n",
    "\\path [arrow] ([xshift=3ex]x-inner.south west) -- +(0,-.62) -- (y-inner.west);\n",
    "\\path [arrow] ([xshift=3ex]y-inner.south west) -- +(0,-.62) -- (st1.west);\n",
    "\\path [arrow] ([xshift=3ex]x-rem.south west) -- +(0,-.62) -- (y-rem.west);\n",
    "\\path [arrow] ([xshift=3ex]y-rem.south west) -- +(0,-.62) -- (st2.west);"
   ]
  },
  {
   "cell_type": "markdown",
   "metadata": {},
   "source": [
    "### Final thoughts\n",
    "The current re-design only considers \"Propagator\"-level (indexed, tier 2) expressions at the moment. However, the form of the SymPy expression handed down by the user is only relevant to our internal Expression abstraction, so once this class is capable of \"lowering\" \"Operator\"-level (function, tier-1) expression on creation, there is no need to maintain the Operator/Propagator separation. As a results the \"StencilKernel\" abstraction simply becomes the new Operator in Devito 2.0."
   ]
  }
 ],
 "metadata": {
  "kernelspec": {
   "display_name": "Python 2",
   "language": "python",
   "name": "python2"
  },
  "language_info": {
   "codemirror_mode": {
    "name": "ipython",
    "version": 2
   },
   "file_extension": ".py",
   "mimetype": "text/x-python",
   "name": "python",
   "nbconvert_exporter": "python",
   "pygments_lexer": "ipython2",
   "version": "2.7.6"
  }
 },
 "nbformat": 4,
 "nbformat_minor": 0
}
